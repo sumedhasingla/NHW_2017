{
 "cells": [
  {
   "cell_type": "markdown",
   "metadata": {},
   "source": [
    "# Visualizing in 3D\n",
    "\n",
    "- It is nice to visualize brain images in 2D, but a brain is a 3D structure. \n",
    "- It would be really useful to visualize and interact with the brain in 3D. \n",
    "\n",
    "- We have learned to use nibabel to read brain images, \n",
    "- A number of Python and javascript libraries make it easy to generate 3D images.\n",
    "\n",
    "    1. [IPyvolume](https://ipyvolume.readthedocs.io/en/latest/index.html) based on [threejs](https://threejs.org/)\n",
    "    2. [Mayavi](http://docs.enthought.com/mayavi/mayavi/)\n",
    "    3. [Pysurfer](https://pysurfer.github.io/) based on Mayavi\n",
    "\n",
    "In this notebook we focus on 1. We will cover basic Mayavi in a separate notebook."
   ]
  },
  {
   "cell_type": "code",
   "execution_count": 1,
   "metadata": {},
   "outputs": [],
   "source": [
    "%matplotlib inline\n",
    "import matplotlib.pyplot as plt\n",
    "\n",
    "import nibabel as nb\n",
    "import ipyvolume\n",
    "import ipyvolume.pylab as p3\n",
    "import numpy as np"
   ]
  },
  {
   "cell_type": "markdown",
   "metadata": {},
   "source": [
    "Before we use any surface based on objects, most images in brain imaging are 3D volumes. Volume rendering techniques have been around for a long time. Now one can use them quite easily in the browser.\n",
    "\n",
    "The following cell loads one of the structural images and uses levels and opacity to create a translucent look through the volume."
   ]
  },
  {
   "cell_type": "code",
   "execution_count": 2,
   "metadata": {},
   "outputs": [
    {
     "data": {
      "application/vnd.jupyter.widget-view+json": {
       "model_id": "7ca92d556f1a448f909ddabb0b1631d0",
       "version_major": 2,
       "version_minor": 0
      },
      "text/plain": [
       "A Jupyter Widget"
      ]
     },
     "metadata": {},
     "output_type": "display_data"
    }
   ],
   "source": [
    "V = nb.load('/data/ds000114/derivatives/fmriprep/sub-01/anat/sub-01_t1w_preproc.nii.gz').get_data()\n",
    "ipyvolume.quickvolshow(V, level=[0.25, 0.5, 0.75], opacity=0.03, level_width=0.1, \n",
    "                       width=600, height=600)"
   ]
  },
  {
   "cell_type": "markdown",
   "metadata": {},
   "source": [
    "As you can see by playing with the above image that file has been defaced for anonymization. We will now download a full image to see if we can easily view the \"face\" from the MR scan."
   ]
  },
  {
   "cell_type": "code",
   "execution_count": 3,
   "metadata": {},
   "outputs": [
    {
     "data": {
      "text/plain": [
       "('/tmp/T1.nii.gz', <http.client.HTTPMessage at 0x7fd0c1724a20>)"
      ]
     },
     "execution_count": 3,
     "metadata": {},
     "output_type": "execute_result"
    }
   ],
   "source": [
    "from urllib.request import urlretrieve\n",
    "urlretrieve('https://osf.io/7jbpr/download?version=1', '/tmp/T1.nii.gz')"
   ]
  },
  {
   "cell_type": "code",
   "execution_count": 4,
   "metadata": {},
   "outputs": [
    {
     "name": "stdout",
     "output_type": "stream",
     "text": [
      "Dimensions (176, 256, 256)\n",
      "Pixel dimensions (0.99999803, 1.0, 1.0)\n"
     ]
    }
   ],
   "source": [
    "img = nb.load('/tmp/T1.nii.gz')\n",
    "print(\"Dimensions\", img.shape)\n",
    "print(\"Pixel dimensions\", img.header.get_zooms())\n",
    "V = img.get_data()"
   ]
  },
  {
   "cell_type": "code",
   "execution_count": 5,
   "metadata": {},
   "outputs": [
    {
     "name": "stderr",
     "output_type": "stream",
     "text": [
      "/opt/conda/envs/neuro/lib/python3.6/site-packages/ipyvolume/serialize.py:66: RuntimeWarning: invalid value encountered in true_divide\n",
      "  gradient = gradient / np.sqrt(gradient[0]**2 + gradient[1]**2 + gradient[2]**2)\n"
     ]
    },
    {
     "data": {
      "application/vnd.jupyter.widget-view+json": {
       "model_id": "066721607f9641e288723e4eb2c89c70",
       "version_major": 2,
       "version_minor": 0
      },
      "text/plain": [
       "A Jupyter Widget"
      ]
     },
     "metadata": {},
     "output_type": "display_data"
    }
   ],
   "source": [
    "fig = p3.figure(width=600, height=600)\n",
    "fig.style = {'axes': {'color': 'black',\n",
    "  'label': {'color': 'black'},\n",
    "  'ticklabel': {'color': 'black'},\n",
    "  'visible': False},\n",
    " 'background-color': 'white',\n",
    " 'box': {'visible': False}}\n",
    "fig.camera_fov = 1\n",
    "fig.xlim = (-100, 100)\n",
    "fig.ylim = (-100, 100)\n",
    "fig.zlim = (-100, 100)\n",
    "\n",
    "fig.anglex = 0\n",
    "fig.angley = 0\n",
    "fig.anglez = -np.pi/2\n",
    "vol = p3.volshow(V)\n",
    "p3.show()"
   ]
  },
  {
   "cell_type": "code",
   "execution_count": 6,
   "metadata": {},
   "outputs": [
    {
     "data": {
      "text/plain": [
       "<bound method HasTraits.trait_names of Figure(anglez=-1.5707963267948966, camera_fov=1.0, data_max=1611.9046031311154, height=600, matrix_projection=[0.0, 0.0, 0.0, 0.0, 0.0, 0.0, 0.0, 0.0, 0.0, 0.0, 0.0, 0.0, 0.0, 0.0, 0.0, 0.0], matrix_world=[0.0, 0.0, 0.0, 0.0, 0.0, 0.0, 0.0, 0.0, 0.0, 0.0, 0.0, 0.0, 0.0, 0.0, 0.0, 0.0], style={'axes': {'color': 'black', 'label': {'color': 'black'}, 'ticklabel': {'color': 'black'}, 'visible': False}, 'background-color': 'white', 'box': {'visible': False}}, tf=TransferFunctionWidgetJs3(level3=0.9), volume_data=array([[[ 24.00578153,  25.99806463,  28.99878732, ...,  28.99878732,\n",
       "          24.98962504,   0.        ],\n",
       "        [ 28.99878732,  30.99107042,  33.99179311, ...,  21.98890235,\n",
       "          27.00650422,   0.        ],\n",
       "        [ 33.00794961,  33.00794961,  21.00505884, ...,  30.00722691,\n",
       "          24.98962504,   0.        ],\n",
       "        ..., \n",
       "        [ 16.01205305,  18.00433615,  24.98962504, ...,  36.0086723 ,\n",
       "          21.00505884,   0.        ],\n",
       "        [ 24.00578153,  21.98890235,  16.99589656, ...,  24.00578153,\n",
       "          24.00578153,   0.        ],\n",
       "        [  0.        ,   0.        ,   0.        , ...,   0.        ,\n",
       "           0.        ,   0.        ]],\n",
       "\n",
       "       [[ 18.00433615,  28.99878732,  24.00578153, ...,  30.99107042,\n",
       "          21.98890235,   0.        ],\n",
       "        [ 16.99589656,  30.00722691,  24.00578153, ...,  21.98890235,\n",
       "          25.99806463,   0.        ],\n",
       "        [ 28.99878732,  25.99806463,  15.00361346, ...,  18.00433615,\n",
       "          28.99878732,   0.        ],\n",
       "        ..., \n",
       "        [ 21.00505884,  31.99951001,  22.99734194, ...,  35.0002327 ,\n",
       "          22.99734194,   0.        ],\n",
       "        [ 27.99034773,  19.99661925,  18.00433615, ...,  27.99034773,\n",
       "          16.01205305,   0.        ],\n",
       "        [  0.        ,   0.        ,   0.        , ...,   0.        ,\n",
       "           0.        ,   0.        ]],\n",
       "\n",
       "       [[ 22.99734194,  16.99589656,  36.9925158 , ...,  16.99589656,\n",
       "          24.00578153,   0.        ],\n",
       "        [ 21.98890235,  21.00505884,  39.99323849, ...,  13.99517386,\n",
       "          30.00722691,   0.        ],\n",
       "        [ 30.00722691,  21.98890235,  25.99806463, ...,  21.00505884,\n",
       "          27.99034773,   0.        ],\n",
       "        ..., \n",
       "        [ 19.99661925,  19.99661925,  27.00650422, ...,  27.99034773,\n",
       "          33.99179311,   0.        ],\n",
       "        [ 19.99661925,  30.00722691,  33.00794961, ...,  27.99034773,\n",
       "          24.00578153,   0.        ],\n",
       "        [  0.        ,   0.        ,   0.        , ...,   0.        ,\n",
       "           0.        ,   0.        ]],\n",
       "\n",
       "       ..., \n",
       "       [[ 24.00578153,  22.99734194,  33.00794961, ...,  25.99806463,\n",
       "          18.00433615,   0.        ],\n",
       "        [ 22.99734194,  18.98817965,  16.99589656, ...,  27.00650422,\n",
       "          19.99661925,   0.        ],\n",
       "        [ 18.00433615,  27.99034773,  19.99661925, ...,  24.98962504,\n",
       "          18.00433615,   0.        ],\n",
       "        ..., \n",
       "        [ 15.00361346,  21.98890235,  27.99034773, ...,  25.99806463,\n",
       "          24.98962504,   0.        ],\n",
       "        [ 18.98817965,  21.98890235,  19.99661925, ...,  18.00433615,\n",
       "          27.99034773,   0.        ],\n",
       "        [  0.        ,   0.        ,   0.        , ...,   0.        ,\n",
       "           0.        ,   0.        ]],\n",
       "\n",
       "       [[ 27.00650422,  13.99517386,  19.99661925, ...,  24.98962504,\n",
       "          25.99806463,   0.        ],\n",
       "        [ 21.00505884,  24.00578153,  24.00578153, ...,  18.00433615,\n",
       "          18.98817965,   0.        ],\n",
       "        [ 30.99107042,  30.00722691,  19.99661925, ...,  38.0009554 ,\n",
       "          27.00650422,   0.        ],\n",
       "        ..., \n",
       "        [ 19.99661925,  24.00578153,  21.98890235, ...,  25.99806463,\n",
       "          31.99951001,   0.        ],\n",
       "        [ 24.98962504,  24.98962504,  35.0002327 , ...,  30.99107042,\n",
       "          16.01205305,   0.        ],\n",
       "        [  0.        ,   0.        ,   0.        , ...,   0.        ,\n",
       "           0.        ,   0.        ]],\n",
       "\n",
       "       [[ 39.00939499,  35.0002327 ,  22.99734194, ...,  24.00578153,\n",
       "          22.99734194,   0.        ],\n",
       "        [ 22.99734194,  24.98962504,  12.00289077, ...,  21.98890235,\n",
       "          18.98817965,   0.        ],\n",
       "        [ 33.00794961,  10.01060767,  27.99034773, ...,  19.99661925,\n",
       "          30.99107042,   0.        ],\n",
       "        ..., \n",
       "        [ 19.99661925,  24.98962504,  24.98962504, ...,  16.99589656,\n",
       "          21.00505884,   0.        ],\n",
       "        [ 30.00722691,  30.00722691,  13.99517386, ...,  19.99661925,\n",
       "          16.99589656,   0.        ],\n",
       "        [  0.        ,   0.        ,   0.        , ...,   0.        ,\n",
       "           0.        ,   0.        ]]]), width=600, xlim=[-100.0, 100.0], ylim=[-100.0, 100.0], zlim=[-100.0, 100.0])>"
      ]
     },
     "execution_count": 6,
     "metadata": {},
     "output_type": "execute_result"
    }
   ],
   "source": [
    "fig.trait_names"
   ]
  },
  {
   "cell_type": "markdown",
   "metadata": {
    "solution2": "hidden",
    "solution2_first": true
   },
   "source": [
    "## Exercise 1:\n",
    "\n",
    "Turn this image into a face\n",
    "\n",
    "- adjust the transfer function using `level`, `opacity`, and `max_opacity`\n",
    "- adjust lighting using `lighting` and `diffuse_coefficient`\n",
    "- turn of controls after you are done adjusting\n",
    "- fix the aspect ratio based on dimensions\n",
    "  The image is always rendered into a cube, so extend the volume with zeros to create a uniform cube\n",
    "- use `downscale` to do faster rendering"
   ]
  },
  {
   "cell_type": "code",
   "execution_count": 7,
   "metadata": {
    "solution2": "hidden"
   },
   "outputs": [
    {
     "name": "stderr",
     "output_type": "stream",
     "text": [
      "/opt/conda/envs/neuro/lib/python3.6/site-packages/ipyvolume/serialize.py:66: RuntimeWarning: invalid value encountered in true_divide\n",
      "  gradient = gradient / np.sqrt(gradient[0]**2 + gradient[1]**2 + gradient[2]**2)\n"
     ]
    },
    {
     "data": {
      "application/vnd.jupyter.widget-view+json": {
       "model_id": "c8fd49d24c3c4f9b94bc2cae1df0db80",
       "version_major": 2,
       "version_minor": 0
      },
      "text/plain": [
       "A Jupyter Widget"
      ]
     },
     "metadata": {},
     "output_type": "display_data"
    }
   ],
   "source": [
    "fig = p3.figure(width=600, height=600)\n",
    "fig.style = {'axes': {'color': 'black',\n",
    "  'label': {'color': 'black'},\n",
    "  'ticklabel': {'color': 'black'},\n",
    "  'visible': False},\n",
    " 'background-color': 'white',\n",
    " 'box': {'visible': False}}\n",
    "fig.camera_fov = 1\n",
    "\n",
    "# Set viewing angle\n",
    "fig.anglex = -2.5287287502882\n",
    "fig.angley = 0.432399229463336\n",
    "fig.anglez = -1.7057381623311114\n",
    "\n",
    "# Turn volume into cube\n",
    "Vnew = np.concatenate((np.zeros((256-176, 256, 256)), V), axis=0)\n",
    "\n",
    "vol = p3.volshow(Vnew, level=[0.21, 0.30], opacity=[0.2, 1.0], max_opacity=1, lighting=True, downscale=2,\n",
    "                 diffuse_coefficient=0.5, controls=False)\n",
    "p3.show()"
   ]
  },
  {
   "cell_type": "code",
   "execution_count": 8,
   "metadata": {},
   "outputs": [],
   "source": [
    "# Create your solution here"
   ]
  },
  {
   "cell_type": "markdown",
   "metadata": {},
   "source": [
    "Another way to generate a face is to use the isosurface function. This creates a surface connecting voxels left in the image after thresholding at a given value.\n",
    "\n",
    "Play with the slider to find a value that recovers most of the face."
   ]
  },
  {
   "cell_type": "code",
   "execution_count": 9,
   "metadata": {},
   "outputs": [
    {
     "data": {
      "application/vnd.jupyter.widget-view+json": {
       "model_id": "7afe994b2ca9438189e12c5e0324b278",
       "version_major": 2,
       "version_minor": 0
      },
      "text/plain": [
       "A Jupyter Widget"
      ]
     },
     "metadata": {},
     "output_type": "display_data"
    }
   ],
   "source": [
    "fig = p3.figure(width=600, height=600)\n",
    "fig.style = {'axes': {'color': 'black',\n",
    "  'label': {'color': 'black'},\n",
    "  'ticklabel': {'color': 'black'},\n",
    "  'visible': False},\n",
    " 'background-color': 'white',\n",
    " 'box': {'visible': False}}\n",
    "fig.camera_fov = 1\n",
    "Vnew = np.concatenate((np.zeros((256-176, 256, 256)), V), axis=0)\n",
    "# Set viewing angle\n",
    "fig.anglex = -1.4971217646597959\n",
    "fig.angley = 0.45647865940768106\n",
    "fig.anglez = 3.0730970695793047\n",
    "vol = p3.plot_isosurface(Vnew, 200)\n",
    "p3.show()"
   ]
  },
  {
   "cell_type": "markdown",
   "metadata": {
    "solution2": "hidden",
    "solution2_first": true
   },
   "source": [
    "## Exercise 2:\n",
    "\n",
    "Can you use this approach to extract the brain from this image? \n",
    "\n",
    "If yes, how? If no, why not?"
   ]
  },
  {
   "cell_type": "markdown",
   "metadata": {
    "solution2": "hidden"
   },
   "source": [
    "As can be seen with playing around with the threshold, there is no specific value that separates the skull from the brain in terms of intensities. "
   ]
  },
  {
   "cell_type": "markdown",
   "metadata": {},
   "source": [
    "IPyvolume can also be used to plot meshes. In fact the isosurface output above is a triangular mesh."
   ]
  },
  {
   "cell_type": "code",
   "execution_count": 10,
   "metadata": {},
   "outputs": [],
   "source": [
    "# Here is an example from the IPYVolume documentation\n",
    "\n",
    "s = 1/2**0.5\n",
    "\n",
    "# Create 4 vertices for the tetrahedron\n",
    "x = np.array([1.,  -1, 0,  0])\n",
    "y = np.array([0,   0, 1., -1])\n",
    "z = np.array([-s, -s, s,  s])\n",
    "\n",
    "# and 4 surfaces (triangles or faces), where the number refer to the vertex index\n",
    "triangles = [(0, 1, 2), (0, 1, 3), (0, 2, 3), (1,3,2)]"
   ]
  },
  {
   "cell_type": "code",
   "execution_count": 11,
   "metadata": {},
   "outputs": [
    {
     "data": {
      "application/vnd.jupyter.widget-view+json": {
       "model_id": "7082a486bee74883a4a6d92ef6dd1095",
       "version_major": 2,
       "version_minor": 0
      },
      "text/plain": [
       "A Jupyter Widget"
      ]
     },
     "metadata": {},
     "output_type": "display_data"
    }
   ],
   "source": [
    "fig = p3.figure()\n",
    "# we draw the tetrahedron\n",
    "p3.plot_trisurf(x, y, z, triangles=triangles, color='orange')\n",
    "# and also mark the vertices\n",
    "p3.scatter(x, y, z, marker='sphere', color='blue')\n",
    "p3.xyzlim(-2, 2)\n",
    "p3.show()"
   ]
  },
  {
   "cell_type": "markdown",
   "metadata": {},
   "source": [
    "## Read the surface geometry of a subject using nibabel"
   ]
  },
  {
   "cell_type": "code",
   "execution_count": 12,
   "metadata": {},
   "outputs": [],
   "source": [
    "data_lh = nb.freesurfer.read_geometry('/data/ds000114/derivatives/freesurfer/sub-01/surf/lh.pial')\n",
    "data_rh = nb.freesurfer.read_geometry('/data/ds000114/derivatives/freesurfer/sub-01/surf/rh.pial')"
   ]
  },
  {
   "cell_type": "code",
   "execution_count": 13,
   "metadata": {},
   "outputs": [
    {
     "data": {
      "application/vnd.jupyter.widget-view+json": {
       "model_id": "68bac2c5632e46ef912cb3358093e6f4",
       "version_major": 2,
       "version_minor": 0
      },
      "text/plain": [
       "A Jupyter Widget"
      ]
     },
     "metadata": {},
     "output_type": "display_data"
    }
   ],
   "source": [
    "fig = p3.figure(width=600, height=600)\n",
    "fig.camera_fov = 1\n",
    "fig.style = {'axes': {'color': 'black',\n",
    "  'label': {'color': 'black'},\n",
    "  'ticklabel': {'color': 'black'},\n",
    "  'visible': False},\n",
    " 'background-color': 'white',\n",
    " 'box': {'visible': False}}\n",
    "fig.xlim = (-100, 100)\n",
    "fig.ylim = (-100, 100)\n",
    "fig.zlim = (-100, 100)\n",
    "\n",
    "# plot each hemisphere\n",
    "x, y, z = data_lh[0][:, 0], data_lh[0][:, 1], data_lh[0][:, 2]\n",
    "p3.plot_trisurf(x, y, z, triangles=data_lh[1], color='gray')\n",
    "\n",
    "x, y, z = data_rh[0][:, 0], data_rh[0][:, 1], data_rh[0][:, 2]\n",
    "p3.plot_trisurf(x, y, z, triangles=data_rh[1], color='gray')\n",
    "\n",
    "p3.show()"
   ]
  },
  {
   "cell_type": "markdown",
   "metadata": {
    "solution2": "hidden",
    "solution2_first": true
   },
   "source": [
    "## Exercise 3: \n",
    "\n",
    "Plot the smoothwm surfaces of subject 1."
   ]
  },
  {
   "cell_type": "code",
   "execution_count": 14,
   "metadata": {
    "solution2": "hidden"
   },
   "outputs": [
    {
     "data": {
      "application/vnd.jupyter.widget-view+json": {
       "model_id": "3f669a7c1a8d4382a075007697f082d9",
       "version_major": 2,
       "version_minor": 0
      },
      "text/plain": [
       "A Jupyter Widget"
      ]
     },
     "metadata": {},
     "output_type": "display_data"
    }
   ],
   "source": [
    "data_lhs = nb.freesurfer.read_geometry('/data/ds000114/derivatives/freesurfer/sub-01/surf/lh.smoothwm')\n",
    "data_rhs = nb.freesurfer.read_geometry('/data/ds000114/derivatives/freesurfer/sub-01/surf/rh.smoothwm')\n",
    "\n",
    "fig = p3.figure(width=600, height=600)\n",
    "fig.camera_fov = 1\n",
    "fig.style = {'axes': {'color': 'black',\n",
    "  'label': {'color': 'black'},\n",
    "  'ticklabel': {'color': 'black'},\n",
    "  'visible': False},\n",
    " 'background-color': 'white',\n",
    " 'box': {'visible': False}}\n",
    "fig.xlim = (-100, 100)\n",
    "fig.ylim = (-100, 100)\n",
    "fig.zlim = (-100, 100)\n",
    "\n",
    "# plot each hemisphere\n",
    "x, y, z = data_lhs[0][:, 0], data_lhs[0][:, 1], data_lhs[0][:, 2]\n",
    "p3.plot_trisurf(x, y, z, triangles=data_lhs[1], color='gray')\n",
    "\n",
    "x, y, z = data_rhs[0][:, 0], data_rhs[0][:, 1], data_rhs[0][:, 2]\n",
    "p3.plot_trisurf(x, y, z, triangles=data_rhs[1], color='gray')\n",
    "\n",
    "p3.show()"
   ]
  },
  {
   "cell_type": "code",
   "execution_count": 15,
   "metadata": {},
   "outputs": [],
   "source": [
    "# Create solution here\n",
    "\n",
    "# load data\n",
    "\n",
    "# extract and plot each hemisphere"
   ]
  },
  {
   "cell_type": "markdown",
   "metadata": {},
   "source": [
    "The dataset we are using also has the surfaces stored in `gifti` format under `derivatives/fmriprep`. In addition, the freesurfer output for these subjects also has the parcellation files. Nibabel can read these files."
   ]
  },
  {
   "cell_type": "code",
   "execution_count": 16,
   "metadata": {},
   "outputs": [],
   "source": [
    "data_lh = [val.data for val in nb.load('/data/ds000114/derivatives/fmriprep/sub-01/anat/sub-01_t1w_smoothwm.l.surf.gii').darrays]\n",
    "data_rh = [val.data for val in nb.load('/data/ds000114/derivatives/fmriprep/sub-01/anat/sub-01_t1w_smoothwm.r.surf.gii').darrays]\n",
    "\n",
    "# Read the annot files and extract the colors.\n",
    "annot_rh = nb.freesurfer.read_annot('/data/ds000114/derivatives/freesurfer/sub-01/label/rh.aparc.dktatlas.annot')\n",
    "colors_rh = annot_rh[1][annot_rh[0], 0:3]/255.\n",
    "annot_lh = nb.freesurfer.read_annot('/data/ds000114/derivatives/freesurfer/sub-01/label/lh.aparc.dktatlas.annot')\n",
    "colors_lh = annot_lh[1][annot_lh[0], 0:3]/255."
   ]
  },
  {
   "cell_type": "code",
   "execution_count": 17,
   "metadata": {},
   "outputs": [
    {
     "data": {
      "application/vnd.jupyter.widget-view+json": {
       "model_id": "8f0878e1dd414160a6ec3d7393e05ba3",
       "version_major": 2,
       "version_minor": 0
      },
      "text/plain": [
       "A Jupyter Widget"
      ]
     },
     "metadata": {},
     "output_type": "display_data"
    }
   ],
   "source": [
    "fig = p3.figure(width=600, height=600)\n",
    "# we draw the tetrahedron\n",
    "x, y, z = data_lh[0][:, 0], data_lh[0][:, 1], data_lh[0][:, 2]\n",
    "p3.plot_trisurf(x, y, z, triangles=data_lh[1], color=colors_lh)\n",
    "x, y, z = data_rh[0][:, 0], data_rh[0][:, 1], data_rh[0][:, 2]\n",
    "p3.plot_trisurf(x, y, z, triangles=data_rh[1], color=colors_rh)\n",
    "fig.camera_fov = 1\n",
    "fig.xlim = (-100, 100)\n",
    "fig.ylim = (-100, 100)\n",
    "fig.zlim = (-100, 100)\n",
    "p3.show()"
   ]
  },
  {
   "cell_type": "markdown",
   "metadata": {},
   "source": [
    "We can load the functional time series preprocessed by fmriprep"
   ]
  },
  {
   "cell_type": "code",
   "execution_count": 18,
   "metadata": {},
   "outputs": [],
   "source": [
    "lh_func = nb.load('/data/ds000114/derivatives/fmriprep/sub-02/ses-test/func/sub-02_ses-test_task-fingerfootlips_bold_space-fsaverage5.l.func.gii')\n",
    "data = np.vstack([val.data for val in lh_func.darrays]).T"
   ]
  },
  {
   "cell_type": "code",
   "execution_count": 19,
   "metadata": {},
   "outputs": [
    {
     "data": {
      "image/png": "[encoded data removed]",
      "text/plain": [
       "<matplotlib.figure.Figure at 0x7fd0bf1067f0>"
      ]
     },
     "metadata": {},
     "output_type": "display_data"
    }
   ],
   "source": [
    "plt.hist(data.flatten(), 128);"
   ]
  },
  {
   "cell_type": "code",
   "execution_count": 20,
   "metadata": {},
   "outputs": [
    {
     "name": "stdout",
     "output_type": "stream",
     "text": [
      "(10242,) 1542.41 288.133\n"
     ]
    },
    {
     "name": "stderr",
     "output_type": "stream",
     "text": [
      "/opt/conda/envs/neuro/lib/python3.6/site-packages/numpy/lib/function_base.py:4011: RuntimeWarning: All-NaN slice encountered\n",
      "  r = func(a, **kwargs)\n"
     ]
    }
   ],
   "source": [
    "data[data<500] = np.nan\n",
    "mean_val = np.nanmean(data)\n",
    "data_change = (data - mean_val)/mean_val\n",
    "mean_epi = np.nanmedian(data, axis=1) - mean_val\n",
    "mean_std = np.nanstd(mean_epi)\n",
    "mean_epi[np.isnan(mean_epi)] = 0.\n",
    "data[np.isnan(data)] = 0.\n",
    "print(mean_epi.shape, mean_val, mean_std)"
   ]
  },
  {
   "cell_type": "code",
   "execution_count": 21,
   "metadata": {},
   "outputs": [
    {
     "data": {
      "image/png": "[encoded data removed]",
      "text/plain": [
       "<matplotlib.figure.Figure at 0x7fd0bf106d68>"
      ]
     },
     "metadata": {},
     "output_type": "display_data"
    }
   ],
   "source": [
    "plt.hist(mean_epi, 128);"
   ]
  },
  {
   "cell_type": "code",
   "execution_count": 22,
   "metadata": {},
   "outputs": [],
   "source": [
    "def vals2colors(vals):\n",
    "    cmap = np.vstack((plt.cm.viridis(range(256)), plt.cm.cool(range(256))))\n",
    "    indices = 256 + (255 * vals).astype(int)\n",
    "    return cmap[indices, 0:3]"
   ]
  },
  {
   "cell_type": "code",
   "execution_count": 23,
   "metadata": {},
   "outputs": [
    {
     "data": {
      "image/png": "[encoded data removed]",
      "text/plain": [
       "<matplotlib.figure.Figure at 0x7fd0bc95c5c0>"
      ]
     },
     "metadata": {},
     "output_type": "display_data"
    }
   ],
   "source": [
    "epi_vals = np.minimum(np.maximum(mean_epi/(3 * mean_std), -1), 1)\n",
    "colors = vals2colors(epi_vals)\n",
    "plt.hist(epi_vals, 64);"
   ]
  },
  {
   "cell_type": "markdown",
   "metadata": {},
   "source": [
    "If you do not have lh.smoothwm you can retrieve it using the following command\n",
    "\n",
    "```\n",
    "!datalad get /data/ds000114/derivatives/freesurfer/fsaverage5/surf/lh.smoothwm\n",
    "```"
   ]
  },
  {
   "cell_type": "code",
   "execution_count": 24,
   "metadata": {},
   "outputs": [
    {
     "data": {
      "application/vnd.jupyter.widget-view+json": {
       "model_id": "2bc8461230754d8ab612a8b0e8901498",
       "version_major": 2,
       "version_minor": 0
      },
      "text/plain": [
       "A Jupyter Widget"
      ]
     },
     "metadata": {},
     "output_type": "display_data"
    }
   ],
   "source": [
    "data_fs = nb.freesurfer.read_geometry('/data/ds000114/derivatives/freesurfer/fsaverage5/surf/lh.smoothwm')\n",
    "\n",
    "fig = p3.figure(width=600, height=600)\n",
    "# we draw the tetrahedron\n",
    "x, y, z = data_fs[0][:, 0], data_fs[0][:, 1], data_fs[0][:, 2]\n",
    "p3.plot_trisurf(x, y, z, triangles=data_fs[1], color=colors)\n",
    "fig.camera_fov = 1\n",
    "fig.anglex = np.pi/2\n",
    "fig.angley = -np.pi/2\n",
    "fig.xlim = (-100, 100)\n",
    "fig.ylim = (-100, 100)\n",
    "fig.zlim = (-100, 100)\n",
    "p3.show()"
   ]
  },
  {
   "cell_type": "markdown",
   "metadata": {
    "solution2": "hidden",
    "solution2_first": true
   },
   "source": [
    "## Exercise 4:\n",
    "\n",
    "Plot the mean activity of the functional time series (stored as gifti) on the surface of the fsaverage5 mesh. The fmriprep routine generates these surface-based timeseries files.\n",
    "\n",
    "- extract principal components of the data scikit-learn \n",
    "- plot the first two components on the surface of the mesh\n"
   ]
  },
  {
   "cell_type": "code",
   "execution_count": 25,
   "metadata": {
    "solution2": "hidden"
   },
   "outputs": [],
   "source": [
    "from sklearn.decomposition import PCA\n",
    "foo = PCA(n_components=2).fit_transform(data)"
   ]
  },
  {
   "cell_type": "code",
   "execution_count": 26,
   "metadata": {
    "solution2": "hidden"
   },
   "outputs": [
    {
     "data": {
      "image/png": "[encoded data removed]",
      "text/plain": [
       "<matplotlib.figure.Figure at 0x7fd0bec1ed30>"
      ]
     },
     "metadata": {},
     "output_type": "display_data"
    }
   ],
   "source": [
    "comp_vals = np.minimum(np.maximum(foo[:, 0]/(3 * np.std(foo[:, 0])), -1), 1)\n",
    "colors = vals2colors(comp_vals)\n",
    "plt.hist(epi_vals, 64);"
   ]
  },
  {
   "cell_type": "code",
   "execution_count": 27,
   "metadata": {
    "solution2": "hidden"
   },
   "outputs": [
    {
     "data": {
      "application/vnd.jupyter.widget-view+json": {
       "model_id": "b21f1bf082284dc2b5ea259d5ded0f21",
       "version_major": 2,
       "version_minor": 0
      },
      "text/plain": [
       "A Jupyter Widget"
      ]
     },
     "metadata": {},
     "output_type": "display_data"
    }
   ],
   "source": [
    "data_fs = nb.freesurfer.read_geometry('/data/ds000114/derivatives/freesurfer/fsaverage5/surf/lh.smoothwm')\n",
    "\n",
    "fig = p3.figure(width=600, height=600)\n",
    "# we draw the tetrahedron\n",
    "x, y, z = data_fs[0][:, 0], data_fs[0][:, 1], data_fs[0][:, 2]\n",
    "p3.plot_trisurf(x, y, z, triangles=data_fs[1], color=colors)\n",
    "fig.camera_fov = 1\n",
    "fig.anglex = np.pi/2\n",
    "fig.angley = -np.pi/2\n",
    "fig.xlim = (-100, 100)\n",
    "fig.ylim = (-100, 100)\n",
    "fig.zlim = (-100, 100)\n",
    "p3.show()"
   ]
  },
  {
   "cell_type": "code",
   "execution_count": null,
   "metadata": {},
   "outputs": [],
   "source": [
    "# Look up how to use PCA from scikit learn\n",
    "\n",
    "# Follow the steps from above to plot the two components"
   ]
  }
 ],
 "metadata": {
  "kernelspec": {
   "display_name": "Python 3",
   "language": "python",
   "name": "python3"
  },
  "language_info": {
   "codemirror_mode": {
    "name": "ipython",
    "version": 3
   },
   "file_extension": ".py",
   "mimetype": "text/x-python",
   "name": "python",
   "nbconvert_exporter": "python",
   "pygments_lexer": "ipython3",
   "version": "3.6.2"
  }
 },
 "nbformat": 4,
 "nbformat_minor": 2
}
