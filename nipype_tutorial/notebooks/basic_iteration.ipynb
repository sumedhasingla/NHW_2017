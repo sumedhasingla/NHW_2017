{
 "cells": [
  {
   "cell_type": "markdown",
   "metadata": {},
   "source": [
    "<img src=\"../static/images/iterables.png\"  width=\"240\">\n",
    "\n",
    "# Iterables\n",
    "\n",
    "Some steps in a neuroimaging analysis are repetitive. Running the same preprocessing on multiple subjects or doing statistical inference on multiple files. To prevent the creation of multiple individual scripts, Nipype has as execution plugin, called **``iterables``**.\n",
    "\n",
    "The main homepage has a [nice section](http://nipype.readthedocs.io/en/latest/users/mapnode_and_iterables.html) about ``MapNode`` and ``iterables`` if you want to learn more. Also, if you are interested in more advanced procedures, such as synchronizing multiple iterables or using conditional iterables, check out [synchronize and intersource](http://nipype.readthedocs.io/en/latest/users/joinnode_and_itersource.html#synchronize).\n",
    "\n",
    "For example, let's assume we have a node (A) that does simple skull stripping, followed by a node (B) that does isometric smoothing. Now, let's say, that we are curious about the effect of different smoothing kernels. Therefore, we want to run the smoothing node with FWHM set to 2mm, 8mm and 16mm."
   ]
  },
  {
   "cell_type": "code",
   "execution_count": null,
   "metadata": {},
   "outputs": [],
   "source": [
    "from nipype import Node, Workflow\n",
    "from nipype.interfaces.fsl import BET, IsotropicSmooth\n",
    "\n",
    "# Initiate a skull stripping Node with BET\n",
    "skullstrip = Node(BET(mask=True,\n",
    "                      in_file='/data/ds000114/sub-01/ses-test/anat/sub-01_ses-test_T1w.nii.gz'),\n",
    "                  name=\"skullstrip\")"
   ]
  },
  {
   "cell_type": "markdown",
   "metadata": {},
   "source": [
    "Create a smoothing Node with IsotropicSmooth"
   ]
  },
  {
   "cell_type": "code",
   "execution_count": null,
   "metadata": {},
   "outputs": [],
   "source": [
    "isosmooth = Node(IsotropicSmooth(), name='iso_smooth')"
   ]
  },
  {
   "cell_type": "markdown",
   "metadata": {},
   "source": [
    "Now, to use ``iterables`` and therefore smooth with different ``fwhm`` is as simple as that:"
   ]
  },
  {
   "cell_type": "code",
   "execution_count": null,
   "metadata": {},
   "outputs": [],
   "source": [
    "isosmooth.iterables = (\"fwhm\", [4, 8, 16])"
   ]
  },
  {
   "cell_type": "markdown",
   "metadata": {},
   "source": [
    "And to wrap it up. We need to create a workflow, connect the nodes and finally, can run the workflow in parallel."
   ]
  },
  {
   "cell_type": "code",
   "execution_count": null,
   "metadata": {},
   "outputs": [],
   "source": [
    "# Create the workflow\n",
    "wf = Workflow(name=\"smoothflow\")\n",
    "wf.base_dir = \"/output\"\n",
    "wf.connect(skullstrip, 'out_file', isosmooth, 'in_file')\n",
    "\n",
    "# Run it in parallel (one core for each smoothing kernel)\n",
    "wf.run('MultiProc', plugin_args={'n_procs': 3})"
   ]
  },
  {
   "cell_type": "markdown",
   "metadata": {},
   "source": [
    "If we visualize the graph with ``exec``, we can see where the parallelization actually takes place."
   ]
  },
  {
   "cell_type": "code",
   "execution_count": null,
   "metadata": {},
   "outputs": [],
   "source": [
    "# Visualize the detailed graph\n",
    "from IPython.display import Image\n",
    "wf.write_graph(graph2use='exec', format='png', simple_form=True)\n",
    "Image(filename='/output/smoothflow/graph_detailed.dot.png')"
   ]
  },
  {
   "cell_type": "markdown",
   "metadata": {},
   "source": [
    "If you look at the structure in the workflow directory, you can also see, that for each smoothing, a specific folder was created, i.e. ``_fwhm_16``."
   ]
  },
  {
   "cell_type": "code",
   "execution_count": null,
   "metadata": {},
   "outputs": [],
   "source": [
    "!tree /output/smoothflow -I '*txt|*pklz|report*|*.json|*js|*.dot|*.html'"
   ]
  },
  {
   "cell_type": "markdown",
   "metadata": {},
   "source": [
    "Now, let's visualize the results!"
   ]
  },
  {
   "cell_type": "code",
   "execution_count": null,
   "metadata": {},
   "outputs": [],
   "source": [
    "%pylab inline\n",
    "from nilearn import plotting\n",
    "plotting.plot_anat(\n",
    "    '/data/ds000114/sub-01/ses-test/anat/sub-01_ses-test_T1w.nii.gz', title='original',\n",
    "    display_mode='z', cut_coords=(-50, -35, -20, -5), annotate=False)\n",
    "plotting.plot_anat(\n",
    "    '/output/smoothflow/skullstrip/sub-01_ses-test_T1w_brain.nii.gz', title='skullstripped',\n",
    "    display_mode='z', cut_coords=(-50, -35, -20, -5), annotate=False)\n",
    "plotting.plot_anat(\n",
    "    '/output/smoothflow/_fwhm_4/iso_smooth/sub-01_ses-test_T1w_brain_smooth.nii.gz', title='FWHM=4',\n",
    "    display_mode='z', cut_coords=(-50, -35, -20, -5), annotate=False)\n",
    "plotting.plot_anat(\n",
    "    '/output/smoothflow/_fwhm_8/iso_smooth/sub-01_ses-test_T1w_brain_smooth.nii.gz', title='FWHM=8',\n",
    "    display_mode='z', cut_coords=(-50, -35, -20, -5), annotate=False)\n",
    "plotting.plot_anat(\n",
    "    '/output/smoothflow/_fwhm_16/iso_smooth/sub-01_ses-test_T1w_brain_smooth.nii.gz', title='FWHM=16',\n",
    "    display_mode='z', cut_coords=(-50, -35, -20, -5), annotate=False)"
   ]
  },
  {
   "cell_type": "markdown",
   "metadata": {},
   "source": [
    "# ``IdentityInterface`` (special use case of ``iterabels``)\n",
    "\n",
    "A special use case of ``iterables`` is the ``IdentityInterface``. The ``IdentityInterface`` interface allows you to create ``Nodes`` that simple identity mapping, i.e. ``Nodes`` that only work on parameters/strings.\n",
    "\n",
    "For example, let's say you want to run a preprocessing workflow over 5 subjects, with each having two runs and applying 2 different smoothing kernel (as is done in the [Preprocessing Example](example_preprocessing.ipynb)), we can do this as follows:"
   ]
  },
  {
   "cell_type": "code",
   "execution_count": null,
   "metadata": {},
   "outputs": [],
   "source": [
    "# First, let's specify the list of input variables\n",
    "subject_list = ['sub-01', 'sub-02', 'sub-03', 'sub-04', 'sub-05']\n",
    "session_list = ['run-01', 'run-02']\n",
    "fwhm_widths = [4, 8]"
   ]
  },
  {
   "cell_type": "markdown",
   "metadata": {},
   "source": [
    "Now, we can create the IdentityInterface Node"
   ]
  },
  {
   "cell_type": "code",
   "execution_count": null,
   "metadata": {},
   "outputs": [],
   "source": [
    "from nipype import IdentityInterface\n",
    "infosource = Node(IdentityInterface(fields=['subject_id', 'session_id', 'fwhm_id']),\n",
    "                  name=\"infosource\")\n",
    "infosource.iterables = [('subject_id', subject_list),\n",
    "                        ('session_id', session_list),\n",
    "                        ('fwhm_id', fwhm_widths)]"
   ]
  },
  {
   "cell_type": "markdown",
   "metadata": {},
   "source": [
    "That's it. Now, we can connect the output fields of this ``infosource`` node like any other node to wherever we want."
   ]
  },
  {
   "cell_type": "code",
   "execution_count": null,
   "metadata": {},
   "outputs": [],
   "source": [
    "infosource.outputs"
   ]
  },
  {
   "cell_type": "markdown",
   "metadata": {},
   "source": [
    "For example, like:"
   ]
  },
  {
   "cell_type": "markdown",
   "metadata": {},
   "source": [
    "```python\n",
    "workflow.connect([(infosource, selectfiles, [('subject_id', 'subject_id'),\n",
    "                                             ('session_id', 'session_id')]),\n",
    "                  (infosource, smooth, [('fwhm_id', 'fwhm')])\n",
    "                  ])\n",
    "```"
   ]
  }
 ],
 "metadata": {
  "anaconda-cloud": {},
  "kernelspec": {
   "display_name": "Python 3",
   "language": "python",
   "name": "python3"
  },
  "language_info": {
   "codemirror_mode": {
    "name": "ipython",
    "version": 3
   },
   "file_extension": ".py",
   "mimetype": "text/x-python",
   "name": "python",
   "nbconvert_exporter": "python",
   "pygments_lexer": "ipython3",
   "version": "3.6.2"
  }
 },
 "nbformat": 4,
 "nbformat_minor": 2
}
