{
 "cells": [
  {
   "cell_type": "markdown",
   "metadata": {},
   "source": [
    "# Model Specification for 1st-Level fMRI Analysis\n",
    "\n",
    "Nipype provides also an interfaces to create a first level Model for an fMRI analysis. Such a model is needed to specify the study specific information, such as **condition**, their **onsets** and **durations**. For more information, make sure to check out [Model Specificaton](http://nipype.readthedocs.io/en/latest/users/model_specification.html) and [nipype.algorithms.modelgen](http://nipype.readthedocs.io/en/latest/interfaces/generated/nipype.algorithms.modelgen.html)"
   ]
  },
  {
   "cell_type": "markdown",
   "metadata": {},
   "source": [
    "## Simple Example\n",
    "\n",
    "Let's consider a simple experiment, where we have three different stimuli such as ``'faces'``, ``'houses'`` and ``'scrambled pix'``. Now each of those three conditions has different stimuli onsets, but all of them have a stimuli presentation duration of 3 seconds.\n",
    "\n",
    "So to summarize:\n",
    "\n",
    "    conditions = ['faces', 'houses', 'scrambled pix']\n",
    "    onsets = [[0, 30, 60, 90],\n",
    "              [10, 40, 70, 100],\n",
    "              [20, 50, 80, 110]]\n",
    "    durations = [[3], [3], [3]]\n",
    "    \n",
    "The way we would create this model with Nipype is almsot as simple as that. The only step that is missing is to put this all into a ``Bunch`` object. This can be done as follows:"
   ]
  },
  {
   "cell_type": "code",
   "execution_count": null,
   "metadata": {},
   "outputs": [],
   "source": [
    "from nipype.interfaces.base import Bunch\n",
    "\n",
    "conditions = ['faces', 'houses', 'scrambled pix']\n",
    "onsets = [[0, 30, 60, 90],\n",
    "          [10, 40, 70, 100],\n",
    "          [20, 50, 80, 110]]\n",
    "durations = [[3], [3], [3]]\n",
    "\n",
    "subject_info = Bunch(conditions=conditions,\n",
    "                     onsets=onsets,\n",
    "                     durations=durations)"
   ]
  },
  {
   "cell_type": "markdown",
   "metadata": {},
   "source": [
    "It's also possible to specify additional regressors. For this you need to additionally specify:\n",
    "\n",
    "- **``regressors``**: list of regressors that you want to include in the model (must correspond to the number of volumes in the functional run)\n",
    "- **``regressor_names``**: name of the regressors that you want to include"
   ]
  },
  {
   "cell_type": "markdown",
   "metadata": {},
   "source": [
    "## Example based on dataset\n",
    "\n",
    "Now  let's look at a TSV file from our tutorial dataset."
   ]
  },
  {
   "cell_type": "code",
   "execution_count": null,
   "metadata": {},
   "outputs": [],
   "source": [
    "!cat /data/ds000114/task-fingerfootlips_events.tsv"
   ]
  },
  {
   "cell_type": "markdown",
   "metadata": {},
   "source": [
    "We can also use [pandas](http://pandas.pydata.org/) to create a data frame from our dataset."
   ]
  },
  {
   "cell_type": "code",
   "execution_count": null,
   "metadata": {},
   "outputs": [],
   "source": [
    "import pandas as pd\n",
    "trialinfo = pd.read_table('/data/ds000114/task-fingerfootlips_events.tsv')\n",
    "trialinfo.head()"
   ]
  },
  {
   "cell_type": "markdown",
   "metadata": {},
   "source": [
    "Before we can use the onsets, we first need to split them into the three conditions:"
   ]
  },
  {
   "cell_type": "code",
   "execution_count": null,
   "metadata": {},
   "outputs": [],
   "source": [
    "for group in trialinfo.groupby('trial_type'):\n",
    "    print(group)"
   ]
  },
  {
   "cell_type": "markdown",
   "metadata": {},
   "source": [
    "The last thing we now need to to is to put this into a ``Bunch`` object and we're done:"
   ]
  },
  {
   "cell_type": "code",
   "execution_count": null,
   "metadata": {},
   "outputs": [],
   "source": [
    "from nipype.interfaces.base import Bunch\n",
    "\n",
    "conditions = []\n",
    "onsets = []\n",
    "durations = []\n",
    "\n",
    "for group in trialinfo.groupby('trial_type'):\n",
    "    conditions.append(group[0])\n",
    "    onsets.append(group[1].onset.tolist())\n",
    "    durations.append(group[1].duration.tolist())\n",
    "\n",
    "subject_info = Bunch(conditions=conditions,\n",
    "                     onsets=onsets,\n",
    "                     durations=durations)\n",
    "subject_info.items()"
   ]
  }
 ],
 "metadata": {
  "kernelspec": {
   "display_name": "Python 3",
   "language": "python",
   "name": "python3"
  },
  "language_info": {
   "codemirror_mode": {
    "name": "ipython",
    "version": 3
   },
   "file_extension": ".py",
   "mimetype": "text/x-python",
   "name": "python",
   "nbconvert_exporter": "python",
   "pygments_lexer": "ipython3",
   "version": "3.6.2"
  }
 },
 "nbformat": 4,
 "nbformat_minor": 2
}
