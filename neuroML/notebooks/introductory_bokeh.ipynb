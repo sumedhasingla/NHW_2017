{
 "cells": [
  {
   "cell_type": "markdown",
   "metadata": {},
   "source": [
    "## Overfitting"
   ]
  },
  {
   "cell_type": "code",
   "execution_count": 1,
   "metadata": {},
   "outputs": [],
   "source": [
    "import numpy as np\n",
    "from bokeh.io import push_notebook\n",
    "from bokeh.models import ColumnDataSource\n",
    "from bokeh.plotting import figure, show, output_notebook\n",
    "from ipywidgets import interact\n",
    "\n",
    "from sklearn.preprocessing import PolynomialFeatures\n",
    "from sklearn.linear_model import LinearRegression\n",
    "from sklearn.pipeline import make_pipeline"
   ]
  },
  {
   "cell_type": "code",
   "execution_count": 2,
   "metadata": {},
   "outputs": [
    {
     "data": {
      "text/html": [
       "\n",
       "    <div class=\"bk-root\">\n",
       "        <a href=\"http://bokeh.pydata.org\" target=\"_blank\" class=\"bk-logo bk-logo-small bk-logo-notebook\"></a>\n",
       "        <span id=\"2ffc0bac-0f73-47f2-976c-69b4dfb092c7\">Loading BokehJS ...</span>\n",
       "    </div>"
      ]
     },
     "metadata": {},
     "output_type": "display_data"
    },
    {
     "data": {
      "application/javascript": [
       "\n",
       "(function(global) {\n",
       "  function now() {\n",
       "    return new Date();\n",
       "  }\n",
       "\n",
       "  var force = true;\n",
       "\n",
       "  if (typeof (window._bokeh_onload_callbacks) === \"undefined\" || force === true) {\n",
       "    window._bokeh_onload_callbacks = [];\n",
       "    window._bokeh_is_loading = undefined;\n",
       "  }\n",
       "\n",
       "\n",
       "  \n",
       "  if (typeof (window._bokeh_timeout) === \"undefined\" || force === true) {\n",
       "    window._bokeh_timeout = Date.now() + 5000;\n",
       "    window._bokeh_failed_load = false;\n",
       "  }\n",
       "\n",
       "  var NB_LOAD_WARNING = {'data': {'text/html':\n",
       "     \"<div style='background-color: #fdd'>\\n\"+\n",
       "     \"<p>\\n\"+\n",
       "     \"BokehJS does not appear to have successfully loaded. If loading BokehJS from CDN, this \\n\"+\n",
       "     \"may be due to a slow or bad network connection. Possible fixes:\\n\"+\n",
       "     \"</p>\\n\"+\n",
       "     \"<ul>\\n\"+\n",
       "     \"<li>re-rerun `output_notebook()` to attempt to load from CDN again, or</li>\\n\"+\n",
       "     \"<li>use INLINE resources instead, as so:</li>\\n\"+\n",
       "     \"</ul>\\n\"+\n",
       "     \"<code>\\n\"+\n",
       "     \"from bokeh.resources import INLINE\\n\"+\n",
       "     \"output_notebook(resources=INLINE)\\n\"+\n",
       "     \"</code>\\n\"+\n",
       "     \"</div>\"}};\n",
       "\n",
       "  function display_loaded() {\n",
       "    if (window.Bokeh !== undefined) {\n",
       "      var el = document.getElementById(\"2ffc0bac-0f73-47f2-976c-69b4dfb092c7\");\n",
       "      el.textContent = \"BokehJS \" + Bokeh.version + \" successfully loaded.\";\n",
       "    } else if (Date.now() < window._bokeh_timeout) {\n",
       "      setTimeout(display_loaded, 100)\n",
       "    }\n",
       "  }\n",
       "\n",
       "  function run_callbacks() {\n",
       "    try {\n",
       "      window._bokeh_onload_callbacks.forEach(function(callback) { callback() });\n",
       "    }\n",
       "    finally {\n",
       "      delete window._bokeh_onload_callbacks\n",
       "    }\n",
       "    console.info(\"Bokeh: all callbacks have finished\");\n",
       "  }\n",
       "\n",
       "  function load_libs(js_urls, callback) {\n",
       "    window._bokeh_onload_callbacks.push(callback);\n",
       "    if (window._bokeh_is_loading > 0) {\n",
       "      console.log(\"Bokeh: BokehJS is being loaded, scheduling callback at\", now());\n",
       "      return null;\n",
       "    }\n",
       "    if (js_urls == null || js_urls.length === 0) {\n",
       "      run_callbacks();\n",
       "      return null;\n",
       "    }\n",
       "    console.log(\"Bokeh: BokehJS not loaded, scheduling load and callback at\", now());\n",
       "    window._bokeh_is_loading = js_urls.length;\n",
       "    for (var i = 0; i < js_urls.length; i++) {\n",
       "      var url = js_urls[i];\n",
       "      var s = document.createElement('script');\n",
       "      s.src = url;\n",
       "      s.async = false;\n",
       "      s.onreadystatechange = s.onload = function() {\n",
       "        window._bokeh_is_loading--;\n",
       "        if (window._bokeh_is_loading === 0) {\n",
       "          console.log(\"Bokeh: all BokehJS libraries loaded\");\n",
       "          run_callbacks()\n",
       "        }\n",
       "      };\n",
       "      s.onerror = function() {\n",
       "        console.warn(\"failed to load library \" + url);\n",
       "      };\n",
       "      console.log(\"Bokeh: injecting script tag for BokehJS library: \", url);\n",
       "      document.getElementsByTagName(\"head\")[0].appendChild(s);\n",
       "    }\n",
       "  };var element = document.getElementById(\"2ffc0bac-0f73-47f2-976c-69b4dfb092c7\");\n",
       "  if (element == null) {\n",
       "    console.log(\"Bokeh: ERROR: autoload.js configured with elementid '2ffc0bac-0f73-47f2-976c-69b4dfb092c7' but no matching script tag was found. \")\n",
       "    return false;\n",
       "  }\n",
       "\n",
       "  var js_urls = [\"https://cdn.pydata.org/bokeh/release/bokeh-0.12.6.min.js\", \"https://cdn.pydata.org/bokeh/release/bokeh-widgets-0.12.6.min.js\"];\n",
       "\n",
       "  var inline_js = [\n",
       "    function(Bokeh) {\n",
       "      Bokeh.set_log_level(\"info\");\n",
       "    },\n",
       "    \n",
       "    function(Bokeh) {\n",
       "      \n",
       "    },\n",
       "    \n",
       "    function(Bokeh) {\n",
       "      \n",
       "      document.getElementById(\"2ffc0bac-0f73-47f2-976c-69b4dfb092c7\").textContent = \"BokehJS is loading...\";\n",
       "    },\n",
       "    function(Bokeh) {\n",
       "      console.log(\"Bokeh: injecting CSS: https://cdn.pydata.org/bokeh/release/bokeh-0.12.6.min.css\");\n",
       "      Bokeh.embed.inject_css(\"https://cdn.pydata.org/bokeh/release/bokeh-0.12.6.min.css\");\n",
       "      console.log(\"Bokeh: injecting CSS: https://cdn.pydata.org/bokeh/release/bokeh-widgets-0.12.6.min.css\");\n",
       "      Bokeh.embed.inject_css(\"https://cdn.pydata.org/bokeh/release/bokeh-widgets-0.12.6.min.css\");\n",
       "    }\n",
       "  ];\n",
       "\n",
       "  function run_inline_js() {\n",
       "    \n",
       "    if ((window.Bokeh !== undefined) || (force === true)) {\n",
       "      for (var i = 0; i < inline_js.length; i++) {\n",
       "        inline_js[i](window.Bokeh);\n",
       "      }if (force === true) {\n",
       "        display_loaded();\n",
       "      }} else if (Date.now() < window._bokeh_timeout) {\n",
       "      setTimeout(run_inline_js, 100);\n",
       "    } else if (!window._bokeh_failed_load) {\n",
       "      console.log(\"Bokeh: BokehJS failed to load within specified timeout.\");\n",
       "      window._bokeh_failed_load = true;\n",
       "    } else if (force !== true) {\n",
       "      var cell = $(document.getElementById(\"2ffc0bac-0f73-47f2-976c-69b4dfb092c7\")).parents('.cell').data().cell;\n",
       "      cell.output_area.append_execute_result(NB_LOAD_WARNING)\n",
       "    }\n",
       "\n",
       "  }\n",
       "\n",
       "  if (window._bokeh_is_loading === 0) {\n",
       "    console.log(\"Bokeh: BokehJS loaded, going straight to plotting\");\n",
       "    run_inline_js();\n",
       "  } else {\n",
       "    load_libs(js_urls, function() {\n",
       "      console.log(\"Bokeh: BokehJS plotting callback run at\", now());\n",
       "      run_inline_js();\n",
       "    });\n",
       "  }\n",
       "}(this));"
      ]
     },
     "metadata": {},
     "output_type": "display_data"
    }
   ],
   "source": [
    "output_notebook()"
   ]
  },
  {
   "cell_type": "code",
   "execution_count": 3,
   "metadata": {},
   "outputs": [],
   "source": [
    "def make_data(N=90, error=1.0, random_seed=None):\n",
    "    def test_func(x, err=0.5):\n",
    "        y = 10 - 1. / (x + 0.1)\n",
    "        if err > 0:\n",
    "            y = np.random.normal(y, err)\n",
    "        return y\n",
    "\n",
    "    # randomly sample the data\n",
    "    np.random.seed(1)\n",
    "    X = np.random.random(N)[:, np.newaxis]\n",
    "    y = test_func(X.ravel(), error)\n",
    "    \n",
    "    return X, y\n",
    "\n",
    "X, y = make_data(random_seed=1)"
   ]
  },
  {
   "cell_type": "code",
   "execution_count": 4,
   "metadata": {},
   "outputs": [],
   "source": [
    "def PolynomialRegression(degree=2, **kwargs):\n",
    "    return make_pipeline(PolynomialFeatures(degree),\n",
    "                         LinearRegression(**kwargs))"
   ]
  },
  {
   "cell_type": "code",
   "execution_count": 5,
   "metadata": {},
   "outputs": [
    {
     "data": {
      "text/plain": [
       "Pipeline(memory=None,\n",
       "     steps=[('polynomialfeatures', PolynomialFeatures(degree=2, include_bias=True, interaction_only=False)), ('linearregression', LinearRegression(copy_X=True, fit_intercept=True, n_jobs=1, normalize=False))])"
      ]
     },
     "execution_count": 5,
     "metadata": {},
     "output_type": "execute_result"
    }
   ],
   "source": [
    "regr = PolynomialRegression(degree=2)\n",
    "regr.fit(X, y)"
   ]
  },
  {
   "cell_type": "code",
   "execution_count": 6,
   "metadata": {},
   "outputs": [],
   "source": [
    "X_plot = np.linspace(X[:,0].min(), X[:,0].max(), 100)[:, np.newaxis]\n",
    "y_plot = regr.predict(X_plot)\n",
    "\n",
    "source = ColumnDataSource(data=dict(x=X_plot, y=y_plot))"
   ]
  },
  {
   "cell_type": "code",
   "execution_count": 7,
   "metadata": {},
   "outputs": [
    {
     "data": {
      "text/html": [
       "<div style=\"display: table;\"><div style=\"display: table-row;\"><div style=\"display: table-cell;\"><b title=\"bokeh.models.renderers.GlyphRenderer\">GlyphRenderer</b>(</div><div style=\"display: table-cell;\">id&nbsp;=&nbsp;'2f9ddc4a-384c-4366-89a1-e5eb6a8f726e', <span id=\"db03d89a-cda8-4bc6-8233-c389b622beae\" style=\"cursor: pointer;\">&hellip;)</span></div></div><div class=\"c61e3ae3-dd31-4d78-80d9-4c927bc7f967\" style=\"display: none;\"><div style=\"display: table-cell;\"></div><div style=\"display: table-cell;\">data_source&nbsp;=&nbsp;ColumnDataSource(id='c5108779-9473-43a6-96b7-5621f99df778', ...),</div></div><div class=\"c61e3ae3-dd31-4d78-80d9-4c927bc7f967\" style=\"display: none;\"><div style=\"display: table-cell;\"></div><div style=\"display: table-cell;\">glyph&nbsp;=&nbsp;Line(id='29f55b6e-f51f-4349-8ab9-0034e7480a42', ...),</div></div><div class=\"c61e3ae3-dd31-4d78-80d9-4c927bc7f967\" style=\"display: none;\"><div style=\"display: table-cell;\"></div><div style=\"display: table-cell;\">hover_glyph&nbsp;=&nbsp;None,</div></div><div class=\"c61e3ae3-dd31-4d78-80d9-4c927bc7f967\" style=\"display: none;\"><div style=\"display: table-cell;\"></div><div style=\"display: table-cell;\">js_event_callbacks&nbsp;=&nbsp;{},</div></div><div class=\"c61e3ae3-dd31-4d78-80d9-4c927bc7f967\" style=\"display: none;\"><div style=\"display: table-cell;\"></div><div style=\"display: table-cell;\">js_property_callbacks&nbsp;=&nbsp;{},</div></div><div class=\"c61e3ae3-dd31-4d78-80d9-4c927bc7f967\" style=\"display: none;\"><div style=\"display: table-cell;\"></div><div style=\"display: table-cell;\">level&nbsp;=&nbsp;'glyph',</div></div><div class=\"c61e3ae3-dd31-4d78-80d9-4c927bc7f967\" style=\"display: none;\"><div style=\"display: table-cell;\"></div><div style=\"display: table-cell;\">muted&nbsp;=&nbsp;False,</div></div><div class=\"c61e3ae3-dd31-4d78-80d9-4c927bc7f967\" style=\"display: none;\"><div style=\"display: table-cell;\"></div><div style=\"display: table-cell;\">muted_glyph&nbsp;=&nbsp;None,</div></div><div class=\"c61e3ae3-dd31-4d78-80d9-4c927bc7f967\" style=\"display: none;\"><div style=\"display: table-cell;\"></div><div style=\"display: table-cell;\">name&nbsp;=&nbsp;None,</div></div><div class=\"c61e3ae3-dd31-4d78-80d9-4c927bc7f967\" style=\"display: none;\"><div style=\"display: table-cell;\"></div><div style=\"display: table-cell;\">nonselection_glyph&nbsp;=&nbsp;Line(id='6133bece-131c-47ad-ae67-3d66946b9a94', ...),</div></div><div class=\"c61e3ae3-dd31-4d78-80d9-4c927bc7f967\" style=\"display: none;\"><div style=\"display: table-cell;\"></div><div style=\"display: table-cell;\">selection_glyph&nbsp;=&nbsp;None,</div></div><div class=\"c61e3ae3-dd31-4d78-80d9-4c927bc7f967\" style=\"display: none;\"><div style=\"display: table-cell;\"></div><div style=\"display: table-cell;\">subscribed_events&nbsp;=&nbsp;[],</div></div><div class=\"c61e3ae3-dd31-4d78-80d9-4c927bc7f967\" style=\"display: none;\"><div style=\"display: table-cell;\"></div><div style=\"display: table-cell;\">tags&nbsp;=&nbsp;[],</div></div><div class=\"c61e3ae3-dd31-4d78-80d9-4c927bc7f967\" style=\"display: none;\"><div style=\"display: table-cell;\"></div><div style=\"display: table-cell;\">visible&nbsp;=&nbsp;True,</div></div><div class=\"c61e3ae3-dd31-4d78-80d9-4c927bc7f967\" style=\"display: none;\"><div style=\"display: table-cell;\"></div><div style=\"display: table-cell;\">x_range_name&nbsp;=&nbsp;'default',</div></div><div class=\"c61e3ae3-dd31-4d78-80d9-4c927bc7f967\" style=\"display: none;\"><div style=\"display: table-cell;\"></div><div style=\"display: table-cell;\">y_range_name&nbsp;=&nbsp;'default')</div></div></div>\n",
       "<script>\n",
       "(function() {\n",
       "  var expanded = false;\n",
       "  var ellipsis = document.getElementById(\"db03d89a-cda8-4bc6-8233-c389b622beae\");\n",
       "  ellipsis.addEventListener(\"click\", function() {\n",
       "    var rows = document.getElementsByClassName(\"c61e3ae3-dd31-4d78-80d9-4c927bc7f967\");\n",
       "    for (var i = 0; i < rows.length; i++) {\n",
       "      var el = rows[i];\n",
       "      el.style.display = expanded ? \"none\" : \"table-row\";\n",
       "    }\n",
       "    ellipsis.innerHTML = expanded ? \"&hellip;)\" : \"&lsaquo;&lsaquo;&lsaquo;\";\n",
       "    expanded = !expanded;\n",
       "  });\n",
       "})();\n",
       "</script>\n"
      ],
      "text/plain": [
       "GlyphRenderer(id='2f9ddc4a-384c-4366-89a1-e5eb6a8f726e', ...)"
      ]
     },
     "execution_count": 7,
     "metadata": {},
     "output_type": "execute_result"
    }
   ],
   "source": [
    "TOOLS=\"hover,crosshair,pan,wheel_zoom,zoom_in,zoom_out,box_zoom,undo,redo,reset,tap,save,box_select,poly_select,lasso_select,\"\n",
    "\n",
    "p = figure(tools=TOOLS)\n",
    "\n",
    "p.scatter(X.ravel(), y)\n",
    "p.line('x', 'y', color=\"#2222aa\", alpha=0.5, line_width=2, source=source)"
   ]
  },
  {
   "cell_type": "code",
   "execution_count": 8,
   "metadata": {},
   "outputs": [],
   "source": [
    "def update(poly_degree):\n",
    "    regr = PolynomialRegression(degree=poly_degree)\n",
    "    regr.fit(X, y)\n",
    "    y_plot = regr.predict(X_plot)\n",
    "    source.data['y'] = y_plot\n",
    "    push_notebook()"
   ]
  },
  {
   "cell_type": "code",
   "execution_count": 11,
   "metadata": {},
   "outputs": [
    {
     "data": {
      "text/html": [
       "\n",
       "\n",
       "    <div class=\"bk-root\">\n",
       "        <div class=\"bk-plotdiv\" id=\"76d2a72a-f2a3-4fdb-a385-92375a2d512e\"></div>\n",
       "    </div>\n",
       "<script type=\"text/javascript\">\n",
       "  \n",
       "  (function(global) {\n",
       "    function now() {\n",
       "      return new Date();\n",
       "    }\n",
       "  \n",
       "    var force = false;\n",
       "  \n",
       "    if (typeof (window._bokeh_onload_callbacks) === \"undefined\" || force === true) {\n",
       "      window._bokeh_onload_callbacks = [];\n",
       "      window._bokeh_is_loading = undefined;\n",
       "    }\n",
       "  \n",
       "  \n",
       "    \n",
       "    if (typeof (window._bokeh_timeout) === \"undefined\" || force === true) {\n",
       "      window._bokeh_timeout = Date.now() + 0;\n",
       "      window._bokeh_failed_load = false;\n",
       "    }\n",
       "  \n",
       "    var NB_LOAD_WARNING = {'data': {'text/html':\n",
       "       \"<div style='background-color: #fdd'>\\n\"+\n",
       "       \"<p>\\n\"+\n",
       "       \"BokehJS does not appear to have successfully loaded. If loading BokehJS from CDN, this \\n\"+\n",
       "       \"may be due to a slow or bad network connection. Possible fixes:\\n\"+\n",
       "       \"</p>\\n\"+\n",
       "       \"<ul>\\n\"+\n",
       "       \"<li>re-rerun `output_notebook()` to attempt to load from CDN again, or</li>\\n\"+\n",
       "       \"<li>use INLINE resources instead, as so:</li>\\n\"+\n",
       "       \"</ul>\\n\"+\n",
       "       \"<code>\\n\"+\n",
       "       \"from bokeh.resources import INLINE\\n\"+\n",
       "       \"output_notebook(resources=INLINE)\\n\"+\n",
       "       \"</code>\\n\"+\n",
       "       \"</div>\"}};\n",
       "  \n",
       "    function display_loaded() {\n",
       "      if (window.Bokeh !== undefined) {\n",
       "        var el = document.getElementById(\"76d2a72a-f2a3-4fdb-a385-92375a2d512e\");\n",
       "        el.textContent = \"BokehJS \" + Bokeh.version + \" successfully loaded.\";\n",
       "      } else if (Date.now() < window._bokeh_timeout) {\n",
       "        setTimeout(display_loaded, 100)\n",
       "      }\n",
       "    }if ((window.Jupyter !== undefined) && Jupyter.notebook.kernel) {\n",
       "      comm_manager = Jupyter.notebook.kernel.comm_manager\n",
       "      comm_manager.register_target(\"7d60b38e-4235-47ba-818d-0221a7ccf465\", function () {});\n",
       "    }\n",
       "  \n",
       "    function run_callbacks() {\n",
       "      try {\n",
       "        window._bokeh_onload_callbacks.forEach(function(callback) { callback() });\n",
       "      }\n",
       "      finally {\n",
       "        delete window._bokeh_onload_callbacks\n",
       "      }\n",
       "      console.info(\"Bokeh: all callbacks have finished\");\n",
       "    }\n",
       "  \n",
       "    function load_libs(js_urls, callback) {\n",
       "      window._bokeh_onload_callbacks.push(callback);\n",
       "      if (window._bokeh_is_loading > 0) {\n",
       "        console.log(\"Bokeh: BokehJS is being loaded, scheduling callback at\", now());\n",
       "        return null;\n",
       "      }\n",
       "      if (js_urls == null || js_urls.length === 0) {\n",
       "        run_callbacks();\n",
       "        return null;\n",
       "      }\n",
       "      console.log(\"Bokeh: BokehJS not loaded, scheduling load and callback at\", now());\n",
       "      window._bokeh_is_loading = js_urls.length;\n",
       "      for (var i = 0; i < js_urls.length; i++) {\n",
       "        var url = js_urls[i];\n",
       "        var s = document.createElement('script');\n",
       "        s.src = url;\n",
       "        s.async = false;\n",
       "        s.onreadystatechange = s.onload = function() {\n",
       "          window._bokeh_is_loading--;\n",
       "          if (window._bokeh_is_loading === 0) {\n",
       "            console.log(\"Bokeh: all BokehJS libraries loaded\");\n",
       "            run_callbacks()\n",
       "          }\n",
       "        };\n",
       "        s.onerror = function() {\n",
       "          console.warn(\"failed to load library \" + url);\n",
       "        };\n",
       "        console.log(\"Bokeh: injecting script tag for BokehJS library: \", url);\n",
       "        document.getElementsByTagName(\"head\")[0].appendChild(s);\n",
       "      }\n",
       "    };var element = document.getElementById(\"76d2a72a-f2a3-4fdb-a385-92375a2d512e\");\n",
       "    if (element == null) {\n",
       "      console.log(\"Bokeh: ERROR: autoload.js configured with elementid '76d2a72a-f2a3-4fdb-a385-92375a2d512e' but no matching script tag was found. \")\n",
       "      return false;\n",
       "    }\n",
       "  \n",
       "    var js_urls = [];\n",
       "  \n",
       "    var inline_js = [\n",
       "      function(Bokeh) {\n",
       "        (function() {\n",
       "          var fn = function() {\n",
       "            var docs_json = {\"9d7756ca-4bb3-44ea-b301-a5195daf6fe9\":{\"roots\":{\"references\":[{\"attributes\":{},\"id\":\"4c4a5b97-7d6d-4be9-a9a4-e2905ba4ea00\",\"type\":\"BasicTickFormatter\"},{\"attributes\":{\"below\":[{\"id\":\"23ec329e-316d-488b-93d0-5d22a30b6264\",\"type\":\"LinearAxis\"}],\"left\":[{\"id\":\"cc414a70-971a-4960-a4ef-21ae15df41b5\",\"type\":\"LinearAxis\"}],\"renderers\":[{\"id\":\"23ec329e-316d-488b-93d0-5d22a30b6264\",\"type\":\"LinearAxis\"},{\"id\":\"80b4df98-8537-4487-982c-32fe28401fdf\",\"type\":\"Grid\"},{\"id\":\"cc414a70-971a-4960-a4ef-21ae15df41b5\",\"type\":\"LinearAxis\"},{\"id\":\"4beb6035-30d2-4394-86b3-0d001a4bb51e\",\"type\":\"Grid\"},{\"id\":\"bee7e2d2-d565-4416-bfd9-f98fe9975769\",\"type\":\"BoxAnnotation\"},{\"id\":\"334b1e67-8ba5-4b5d-af49-8e4488adaea8\",\"type\":\"BoxAnnotation\"},{\"id\":\"e0d94ef4-e7ff-47aa-a69d-f9a9562bc863\",\"type\":\"PolyAnnotation\"},{\"id\":\"ce5bc77e-4893-4fb4-862d-bc735575543a\",\"type\":\"PolyAnnotation\"},{\"id\":\"24b9d097-7887-433e-ac7e-8232c4cec341\",\"type\":\"GlyphRenderer\"},{\"id\":\"2f9ddc4a-384c-4366-89a1-e5eb6a8f726e\",\"type\":\"GlyphRenderer\"}],\"title\":{\"id\":\"54fd7dcd-69a0-4fa2-b218-cb7e81289012\",\"type\":\"Title\"},\"tool_events\":{\"id\":\"29130f82-caf9-4c96-81e4-4be04fd7bf41\",\"type\":\"ToolEvents\"},\"toolbar\":{\"id\":\"137470af-d9ff-4b75-951f-d8698000bab9\",\"type\":\"Toolbar\"},\"x_range\":{\"id\":\"8ed33543-1b22-41cd-b520-95c519945c92\",\"type\":\"DataRange1d\"},\"x_scale\":{\"id\":\"60b1b8a4-c333-42cc-9eee-f93b364f7c3e\",\"type\":\"LinearScale\"},\"y_range\":{\"id\":\"f92e65a2-ecbc-4cca-92cf-5abf0f6b58ce\",\"type\":\"DataRange1d\"},\"y_scale\":{\"id\":\"00b3c03a-94dd-4e70-abde-7a48c58ce10f\",\"type\":\"LinearScale\"}},\"id\":\"1756f35a-edad-4e92-9ee5-364c9f61e490\",\"subtype\":\"Figure\",\"type\":\"Plot\"},{\"attributes\":{\"plot\":{\"id\":\"1756f35a-edad-4e92-9ee5-364c9f61e490\",\"subtype\":\"Figure\",\"type\":\"Plot\"}},\"id\":\"487b0bb6-3d3d-430e-b56c-17411440cc75\",\"type\":\"PanTool\"},{\"attributes\":{\"plot\":{\"id\":\"1756f35a-edad-4e92-9ee5-364c9f61e490\",\"subtype\":\"Figure\",\"type\":\"Plot\"}},\"id\":\"367fb599-c067-4776-907c-b1c232bd3473\",\"type\":\"ZoomInTool\"},{\"attributes\":{},\"id\":\"c71a7d3b-4558-4f21-a2cf-679a5e64171d\",\"type\":\"BasicTickFormatter\"},{\"attributes\":{},\"id\":\"00b3c03a-94dd-4e70-abde-7a48c58ce10f\",\"type\":\"LinearScale\"},{\"attributes\":{\"fill_color\":{\"value\":\"#1f77b4\"},\"line_color\":{\"value\":\"#1f77b4\"},\"x\":{\"field\":\"x\"},\"y\":{\"field\":\"y\"}},\"id\":\"0a6e28de-d2a8-46e8-a976-0b2b5c5d42d7\",\"type\":\"Circle\"},{\"attributes\":{},\"id\":\"60b1b8a4-c333-42cc-9eee-f93b364f7c3e\",\"type\":\"LinearScale\"},{\"attributes\":{\"line_alpha\":{\"value\":0.5},\"line_color\":{\"value\":\"#2222aa\"},\"line_width\":{\"value\":2},\"x\":{\"field\":\"x\"},\"y\":{\"field\":\"y\"}},\"id\":\"29f55b6e-f51f-4349-8ab9-0034e7480a42\",\"type\":\"Line\"},{\"attributes\":{\"callback\":null},\"id\":\"f92e65a2-ecbc-4cca-92cf-5abf0f6b58ce\",\"type\":\"DataRange1d\"},{\"attributes\":{},\"id\":\"29130f82-caf9-4c96-81e4-4be04fd7bf41\",\"type\":\"ToolEvents\"},{\"attributes\":{\"plot\":{\"id\":\"1756f35a-edad-4e92-9ee5-364c9f61e490\",\"subtype\":\"Figure\",\"type\":\"Plot\"}},\"id\":\"0e5af802-0618-4a78-a6b4-a160e0168926\",\"type\":\"WheelZoomTool\"},{\"attributes\":{\"formatter\":{\"id\":\"c71a7d3b-4558-4f21-a2cf-679a5e64171d\",\"type\":\"BasicTickFormatter\"},\"plot\":{\"id\":\"1756f35a-edad-4e92-9ee5-364c9f61e490\",\"subtype\":\"Figure\",\"type\":\"Plot\"},\"ticker\":{\"id\":\"69ec2763-410b-4196-8395-73436d126df6\",\"type\":\"BasicTicker\"}},\"id\":\"23ec329e-316d-488b-93d0-5d22a30b6264\",\"type\":\"LinearAxis\"},{\"attributes\":{\"callback\":null,\"column_names\":[\"x\",\"y\"],\"data\":{\"x\":{\"__ndarray__\":\"AMBhZpD7HT/s+PZINbCEPyyXkLg5kpQ/4rGlzFjMnj9MZl3wO4OkP6fzZ3pLoKk/AoFyBFu9rj8uhz5HNe2xP9zNQwy9e7Q/ihRJ0UQKtz83W06WzJi5P+ShU1tUJ7w/kuhYINy1vj+gF6/yMaLAP/a6MdV16cE/TV60t7kwwz+kATea/XfEP/ukuXxBv8U/Ukg8X4UGxz+o675ByU3IP/+OQSQNlck/VjLEBlHcyj+s1UbplCPMPwN5ycvYas0/WhxMrhyyzj+xv86QYPnPP4SxqDlSoNA/LwPqKvRD0T/aVCsclufRP4ambA04i9I/Mfit/tku0z/dSe/ve9LTP4ibMOEddtQ/M+1x0r8Z1T/fPrPDYb3VP4qQ9LQDYdY/NuI1pqUE1z/hM3eXR6jXP4yFuIjpS9g/ONf5eYvv2D/jKDtrLZPZP456fFzPNto/Osy9TXHa2j/lHf8+E37bP5BvQDC1Idw/PMGBIVfF3D/nEsMS+WjdP5NkBASbDN4/PrZF9Tyw3j/pB4fm3lPfP5VZyNeA998/oNWEZJFN4D92fiVdYp/gP0snxlUz8eA/IdBmTgRD4T/3eAdH1ZThP8whqD+m5uE/ospIOHc44j94c+kwSIriP04ciikZ3OI/I8UqIuot4z/5bcsau3/jP88WbBOM0eM/pL8MDF0j5D96aK0ELnXkP1ARTv3+xuQ/Jbru9c8Y5T/7Yo/uoGrlP9ELMOdxvOU/prTQ30IO5j98XXHYE2DmP1IGEtHkseY/KK+yybUD5z/9V1PChlXnP9MA9LpXp+c/qamUsyj55z9+UjWs+UroP1T71aTKnOg/KqR2nZvu6D//TBeWbEDpP9X1t449kuk/q55Yhw7k6T+AR/l/3zXqP1bwmXiwh+o/LJk6cYHZ6j8BQttpUivrP9fqe2Ijfes/rZMcW/TO6z+CPL1TxSDsP1jlXUyWcuw/Lo7+RGfE7D8EN589OBbtP9nfPzYJaO0/r4jgLtq57T+FMYEnqwvuP1raISB8Xe4/MIPCGE2v7j8GLGMRHgHvP9vUAwrvUu8/sX2kAsCk7z8=\",\"dtype\":\"float64\",\"shape\":[100,1]},\"y\":{\"__ndarray__\":\"5vhM6bHE9b+cZaDB9DDzPw70GOXCoAJAzmMA6cQEB0AGYbPhlPQJQHYy+K/fpwxAltx1k9ZhD0ArTrmWogMRQEvI8cRvNhJAy4x5wH48E0BLHGD61RUUQEt3VfDezBRAS/oOeXZxFUBL5OZd5RMWQEsoSGP7wBZASwyrB8N/F0BLpHwuylAYQEt0z6e3LhlAS1T0KscPGkBLBGN3wOcaQEsk+VUJqhtAS8RL+oVLHEBLRFeUEsQcQEvEISB4Dx1AS8R0T9MtHUBLxMlqdSMdQEtEHppT+BxAS8Q5GiG3HEBLxMHHNGwcQEvE069aJBxAS8Tls6/rG0BLxFOJoMwbQEvE0zYfzxtAS8QJYRv4G0BLxLXaQkkcQEvEWYYJwRxAS8TpDvJaHUBLxAmWDBAeQEvE4Vqd1x5AS8S5ntunH0Am4pRKXDsgQCbiLHpPnSBAJuIMvI71IEAm4gyhuEAhQCbiTA50fCFAJuK8CounIUAm4pyw7sEhQCbiHGSlzCFAJuIc5aXJIUAm4pwIo7shQCbiXMTMpSFAJuKct4uLIUAm4lx8PHAhQCbinNrvViFAJuIcTDRCIUAm4px+7DMhQCbiHGE1LSFAJuKc+1wuIUAm4pw96jYhQCbinHG0RSFAJuKc/AdZIUAm4pwo1W4hQCbinM/khCFAJuKcrQ6ZIUAm4pyBbKkhQCbinDGGtCFAJuKct3K5IUAm4pzH67chQCbinK9RsCFAJuKcM6CjIUAm4pxPVJMhQCbinCNGgSFAJuKcM3pvIUAm4px77l8hQCbinLNoVCFAJuKcG0tOIUAm4pzLc04hQCbinKssVSFAJuKcWytiIUAm4pzbpXQhQCbinEt2iyFAJuKc602lIUAm4pxr7MAhQCbinAtX3SFAJuKcawX6IUAm4pzL9BYiQCbinMugNCJAJuKcC9JTIkAm4pyLRnUiQCbinIs6mSJAJuKcS9a+IkAm4pxLp+MiQCbinEtCAyNAJuKcS0gXI0Am4pxLEhgjQCbinMs//iJAJuKcy5XFIkAm4pzLX3EiQCbinMuKEiJAJuKcy5LPIUA=\",\"dtype\":\"float64\",\"shape\":[100]}}},\"id\":\"c5108779-9473-43a6-96b7-5621f99df778\",\"type\":\"ColumnDataSource\"},{\"attributes\":{\"plot\":{\"id\":\"1756f35a-edad-4e92-9ee5-364c9f61e490\",\"subtype\":\"Figure\",\"type\":\"Plot\"}},\"id\":\"be4e163e-861c-44a7-8ba0-778e39ca3b62\",\"type\":\"ResetTool\"},{\"attributes\":{\"dimension\":1,\"plot\":{\"id\":\"1756f35a-edad-4e92-9ee5-364c9f61e490\",\"subtype\":\"Figure\",\"type\":\"Plot\"},\"ticker\":{\"id\":\"eed15aeb-d248-48bd-994c-2b58f08dcf2a\",\"type\":\"BasicTicker\"}},\"id\":\"4beb6035-30d2-4394-86b3-0d001a4bb51e\",\"type\":\"Grid\"},{\"attributes\":{\"callback\":null},\"id\":\"8ed33543-1b22-41cd-b520-95c519945c92\",\"type\":\"DataRange1d\"},{\"attributes\":{\"plot\":{\"id\":\"1756f35a-edad-4e92-9ee5-364c9f61e490\",\"subtype\":\"Figure\",\"type\":\"Plot\"}},\"id\":\"ff6030ca-df93-4c4f-97bd-e1c82cf7f298\",\"type\":\"ZoomOutTool\"},{\"attributes\":{},\"id\":\"69ec2763-410b-4196-8395-73436d126df6\",\"type\":\"BasicTicker\"},{\"attributes\":{\"formatter\":{\"id\":\"4c4a5b97-7d6d-4be9-a9a4-e2905ba4ea00\",\"type\":\"BasicTickFormatter\"},\"plot\":{\"id\":\"1756f35a-edad-4e92-9ee5-364c9f61e490\",\"subtype\":\"Figure\",\"type\":\"Plot\"},\"ticker\":{\"id\":\"eed15aeb-d248-48bd-994c-2b58f08dcf2a\",\"type\":\"BasicTicker\"}},\"id\":\"cc414a70-971a-4960-a4ef-21ae15df41b5\",\"type\":\"LinearAxis\"},{\"attributes\":{\"active_drag\":\"auto\",\"active_inspect\":\"auto\",\"active_scroll\":\"auto\",\"active_tap\":\"auto\",\"tools\":[{\"id\":\"be95141d-cf4c-4af2-a522-9d8920395478\",\"type\":\"HoverTool\"},{\"id\":\"e24b8c35-7f89-44df-8b2b-0b10e626a26b\",\"type\":\"CrosshairTool\"},{\"id\":\"487b0bb6-3d3d-430e-b56c-17411440cc75\",\"type\":\"PanTool\"},{\"id\":\"0e5af802-0618-4a78-a6b4-a160e0168926\",\"type\":\"WheelZoomTool\"},{\"id\":\"367fb599-c067-4776-907c-b1c232bd3473\",\"type\":\"ZoomInTool\"},{\"id\":\"ff6030ca-df93-4c4f-97bd-e1c82cf7f298\",\"type\":\"ZoomOutTool\"},{\"id\":\"2493b2f2-6234-4b30-81a0-0f7df2b73d70\",\"type\":\"BoxZoomTool\"},{\"id\":\"f7637df2-5590-41a6-9d7b-4f29a0e94c04\",\"type\":\"UndoTool\"},{\"id\":\"a2c61b1c-53cc-4776-aca2-6351c1536310\",\"type\":\"RedoTool\"},{\"id\":\"be4e163e-861c-44a7-8ba0-778e39ca3b62\",\"type\":\"ResetTool\"},{\"id\":\"a23f2ae3-5ff8-46f3-a7e2-66580fbcb98d\",\"type\":\"TapTool\"},{\"id\":\"8bfdefe5-ee3d-4a6e-b179-a4c3de0e7b8e\",\"type\":\"SaveTool\"},{\"id\":\"4dd72c5f-e181-47ff-b144-9abef0e43405\",\"type\":\"BoxSelectTool\"},{\"id\":\"12613258-a4e4-48ae-8799-1914a144c1c5\",\"type\":\"PolySelectTool\"},{\"id\":\"f00a8e8f-ea06-47f3-80cb-ad3db90252a9\",\"type\":\"LassoSelectTool\"}]},\"id\":\"137470af-d9ff-4b75-951f-d8698000bab9\",\"type\":\"Toolbar\"},{\"attributes\":{\"line_alpha\":{\"value\":0.1},\"line_color\":{\"value\":\"#1f77b4\"},\"line_width\":{\"value\":2},\"x\":{\"field\":\"x\"},\"y\":{\"field\":\"y\"}},\"id\":\"6133bece-131c-47ad-ae67-3d66946b9a94\",\"type\":\"Line\"},{\"attributes\":{\"fill_alpha\":{\"value\":0.5},\"fill_color\":{\"value\":\"lightgrey\"},\"level\":\"overlay\",\"line_alpha\":{\"value\":1.0},\"line_color\":{\"value\":\"black\"},\"line_dash\":[4,4],\"line_width\":{\"value\":2},\"plot\":null,\"xs_units\":\"screen\",\"ys_units\":\"screen\"},\"id\":\"e0d94ef4-e7ff-47aa-a69d-f9a9562bc863\",\"type\":\"PolyAnnotation\"},{\"attributes\":{\"overlay\":{\"id\":\"bee7e2d2-d565-4416-bfd9-f98fe9975769\",\"type\":\"BoxAnnotation\"},\"plot\":{\"id\":\"1756f35a-edad-4e92-9ee5-364c9f61e490\",\"subtype\":\"Figure\",\"type\":\"Plot\"}},\"id\":\"2493b2f2-6234-4b30-81a0-0f7df2b73d70\",\"type\":\"BoxZoomTool\"},{\"attributes\":{\"plot\":{\"id\":\"1756f35a-edad-4e92-9ee5-364c9f61e490\",\"subtype\":\"Figure\",\"type\":\"Plot\"}},\"id\":\"8bfdefe5-ee3d-4a6e-b179-a4c3de0e7b8e\",\"type\":\"SaveTool\"},{\"attributes\":{},\"id\":\"eed15aeb-d248-48bd-994c-2b58f08dcf2a\",\"type\":\"BasicTicker\"},{\"attributes\":{\"callback\":null,\"overlay\":{\"id\":\"334b1e67-8ba5-4b5d-af49-8e4488adaea8\",\"type\":\"BoxAnnotation\"},\"plot\":{\"id\":\"1756f35a-edad-4e92-9ee5-364c9f61e490\",\"subtype\":\"Figure\",\"type\":\"Plot\"},\"renderers\":[{\"id\":\"24b9d097-7887-433e-ac7e-8232c4cec341\",\"type\":\"GlyphRenderer\"},{\"id\":\"2f9ddc4a-384c-4366-89a1-e5eb6a8f726e\",\"type\":\"GlyphRenderer\"}]},\"id\":\"4dd72c5f-e181-47ff-b144-9abef0e43405\",\"type\":\"BoxSelectTool\"},{\"attributes\":{\"bottom_units\":\"screen\",\"fill_alpha\":{\"value\":0.5},\"fill_color\":{\"value\":\"lightgrey\"},\"left_units\":\"screen\",\"level\":\"overlay\",\"line_alpha\":{\"value\":1.0},\"line_color\":{\"value\":\"black\"},\"line_dash\":[4,4],\"line_width\":{\"value\":2},\"plot\":null,\"render_mode\":\"css\",\"right_units\":\"screen\",\"top_units\":\"screen\"},\"id\":\"bee7e2d2-d565-4416-bfd9-f98fe9975769\",\"type\":\"BoxAnnotation\"},{\"attributes\":{\"data_source\":{\"id\":\"c5108779-9473-43a6-96b7-5621f99df778\",\"type\":\"ColumnDataSource\"},\"glyph\":{\"id\":\"29f55b6e-f51f-4349-8ab9-0034e7480a42\",\"type\":\"Line\"},\"hover_glyph\":null,\"muted_glyph\":null,\"nonselection_glyph\":{\"id\":\"6133bece-131c-47ad-ae67-3d66946b9a94\",\"type\":\"Line\"},\"selection_glyph\":null},\"id\":\"2f9ddc4a-384c-4366-89a1-e5eb6a8f726e\",\"type\":\"GlyphRenderer\"},{\"attributes\":{\"plot\":null,\"text\":\"\"},\"id\":\"54fd7dcd-69a0-4fa2-b218-cb7e81289012\",\"type\":\"Title\"},{\"attributes\":{\"callback\":null,\"column_names\":[\"x\",\"y\"],\"data\":{\"x\":{\"__ndarray__\":\"Bjz6D32w2j9R8Lrz5QznPwDAYWaQ+x0/9Aj+t2pZ0z88Bcej5cjCPxDKsIyAo7c/5OE05l/Xxz/Oo1u9qh3WP+j7e2ejZNk/VJ9il/w94T+KlYE6FdTaPycjGXJR7eU/DGIYx30ryj9KFuu8iRnsP8CsZ0R+C5w/qeWnR3h05T/+WqgzH7XaPwsJuX3J4OE/3KoG/zL4wT9ESHS8Y1vJP18n3RKzn+k/EAY2s//77j9YDr5IJA/UP5SWEsKBJ+Y/3sd1Q2EL7D/jC1EnnqDsP1gcjBp1xbU/kKZ5Ef3+oz/8qPLQAL3FP+eerk6+Gew/iGT6EkItuT8ujF9lbfPaP7irpfEHp+4/yErKpLAP4T+slCh52yPmP+API3loMdQ/MB0iy9D35T+VcKblQLXqP6C5X4QpupI/twF/pi4B6D+xfaQCwKTvP8CoMRn58Oc/9q6RW8vy0T+edOO4xkHpP9D/WAIFbbo/IADBm0mq3D/7emLgNhPtPyIaOv+SytI/arf0QOlq0j8IlGW4xqTAP4AotIru1JM/st2qSwW55T9QMpFOoRbLP3g1ZGq3/tA/NNSsRO913z8Q5zfkVVKrPz+sdOIrX+I/VPhNfwDIwj8SPgtJl9viP06P7KRrZOY/kAIS0ZYyuj8qeZmv5H/aP53k+K2GOOY/XCZTxOmB2j8wtf3wf5OpPxxvLjgQJuE/R1OPRM495T/Yayu7+HngPz+EHsgeOu4/C1KIEw/F4j9hxCkiq+jsP0TtKmfFmME/QDBGrs7TwT94pYJBJtbpP5qxToyJc9k/8NBvilMqxT9o7nF5Jq7tP+5skbzLQdY/ASWNGqcG6D+wWIEgYDvnP/3EwiILROw/nkuXah/14z8Cb2ptuAfoP+4ZG7ZZVNY/TC3aon9G0T/z2gKTGavsP/D8DJfYZds/AvMLPPjf7j9NEP6p6TrlPyKQS2zu5OM/\",\"dtype\":\"float64\",\"shape\":[90]},\"y\":{\"__ndarray__\":\"xYQSWrqAJEAofouEs4kdQDgAzrVL7Pa/tnbE1EQKHEAzMqsWB24YQC0Sf6NAtRZARERgkwtKG0Csr83LCe8WQP6ypNkeuR5AeUEl8nCGIkCVtgxjqpsgQKlZxk0a+iJAwljxJuv4GUBrsyXhwY0hQA1dbKsosQJAbYLLM2o5IkCy9xa+yIcgQAFTR7+hMyFAAcWnZ3GtFEC4kmm3jRccQPiSwi/0BSJA2XGKLANjJECsX16RaI8hQBi7GkKZ2CFAx6MUGHkzIUBBtU6UMbYgQBi5XHbYExRArgERWWIWB0AOKSLv6swXQHf+B2fhCiJA0gdNAnJaEUCVi6Wt3o4hQFI4EXMWNyFABDjP9E9KI0CtDi/TBUgiQHjMaVC1XyBACtn+TteIHkBpZBkx6TIiQDAkfm0GSwJAcoqeweh6H0Dg3cvjeqEhQJeLFwELtSFA/Qsi/FX+F0AF1whQnWEiQATMUUm+sxdAMuKoIOFCHUAC3HbK17ciQCXQA3WwlhhATFEC6KuHHUCeJUYF1CUQQJrPUJZ88wVA9YwbJPc/IkAInMwE0xAbQOIOj1Xz9BlASnCDlKwqI0D8exjIUskVQD02wF5nohpAhN6wsoW7HEByinOjlFokQHYXxF3eLCJAdCk39wreDkA8ZaVHCNYhQJqmb3vbHiFAM5ct3Q/OHUDiegUgRc8AQDVdLm229CFAVBQ7cpT3IkCzxXviKQAfQMu5UJJkICNAlzHzl7CYHUCh88rpSZwjQPKr3Y2lVxdAUdFzzWGJFkDS74e0ppchQEn2RvQWuCFAiWHEsG3tG0CYtmonyxwjQEhejbYYnh9ATf0uARHOIUADwlYkwdAiQKocUkZYbiJA5O16s/aZIkCNNp7NiAchQLjpTQeWWRVAsqcbHtOrIEByPwtenl0mQFYzUfZyGCFAzkttquXrIUBw7+EyfhshQNW4ap+a/SBA\",\"dtype\":\"float64\",\"shape\":[90]}}},\"id\":\"1e0d07ca-f69d-457c-83b0-cd2edcdbaad2\",\"type\":\"ColumnDataSource\"},{\"attributes\":{\"bottom_units\":\"screen\",\"fill_alpha\":{\"value\":0.5},\"fill_color\":{\"value\":\"lightgrey\"},\"left_units\":\"screen\",\"level\":\"overlay\",\"line_alpha\":{\"value\":1.0},\"line_color\":{\"value\":\"black\"},\"line_dash\":[4,4],\"line_width\":{\"value\":2},\"plot\":null,\"render_mode\":\"css\",\"right_units\":\"screen\",\"top_units\":\"screen\"},\"id\":\"334b1e67-8ba5-4b5d-af49-8e4488adaea8\",\"type\":\"BoxAnnotation\"},{\"attributes\":{\"plot\":{\"id\":\"1756f35a-edad-4e92-9ee5-364c9f61e490\",\"subtype\":\"Figure\",\"type\":\"Plot\"}},\"id\":\"e24b8c35-7f89-44df-8b2b-0b10e626a26b\",\"type\":\"CrosshairTool\"},{\"attributes\":{\"fill_alpha\":{\"value\":0.1},\"fill_color\":{\"value\":\"#1f77b4\"},\"line_alpha\":{\"value\":0.1},\"line_color\":{\"value\":\"#1f77b4\"},\"x\":{\"field\":\"x\"},\"y\":{\"field\":\"y\"}},\"id\":\"fa8b701c-dc96-4231-950f-1c098f49be2d\",\"type\":\"Circle\"},{\"attributes\":{\"callback\":null,\"plot\":{\"id\":\"1756f35a-edad-4e92-9ee5-364c9f61e490\",\"subtype\":\"Figure\",\"type\":\"Plot\"}},\"id\":\"a23f2ae3-5ff8-46f3-a7e2-66580fbcb98d\",\"type\":\"TapTool\"},{\"attributes\":{\"fill_alpha\":{\"value\":0.5},\"fill_color\":{\"value\":\"lightgrey\"},\"level\":\"overlay\",\"line_alpha\":{\"value\":1.0},\"line_color\":{\"value\":\"black\"},\"line_dash\":[4,4],\"line_width\":{\"value\":2},\"plot\":null,\"xs_units\":\"screen\",\"ys_units\":\"screen\"},\"id\":\"ce5bc77e-4893-4fb4-862d-bc735575543a\",\"type\":\"PolyAnnotation\"},{\"attributes\":{\"plot\":{\"id\":\"1756f35a-edad-4e92-9ee5-364c9f61e490\",\"subtype\":\"Figure\",\"type\":\"Plot\"}},\"id\":\"f7637df2-5590-41a6-9d7b-4f29a0e94c04\",\"type\":\"UndoTool\"},{\"attributes\":{\"plot\":{\"id\":\"1756f35a-edad-4e92-9ee5-364c9f61e490\",\"subtype\":\"Figure\",\"type\":\"Plot\"},\"ticker\":{\"id\":\"69ec2763-410b-4196-8395-73436d126df6\",\"type\":\"BasicTicker\"}},\"id\":\"80b4df98-8537-4487-982c-32fe28401fdf\",\"type\":\"Grid\"},{\"attributes\":{\"data_source\":{\"id\":\"1e0d07ca-f69d-457c-83b0-cd2edcdbaad2\",\"type\":\"ColumnDataSource\"},\"glyph\":{\"id\":\"0a6e28de-d2a8-46e8-a976-0b2b5c5d42d7\",\"type\":\"Circle\"},\"hover_glyph\":null,\"muted_glyph\":null,\"nonselection_glyph\":{\"id\":\"fa8b701c-dc96-4231-950f-1c098f49be2d\",\"type\":\"Circle\"},\"selection_glyph\":null},\"id\":\"24b9d097-7887-433e-ac7e-8232c4cec341\",\"type\":\"GlyphRenderer\"},{\"attributes\":{\"callback\":null,\"plot\":{\"id\":\"1756f35a-edad-4e92-9ee5-364c9f61e490\",\"subtype\":\"Figure\",\"type\":\"Plot\"}},\"id\":\"be95141d-cf4c-4af2-a522-9d8920395478\",\"type\":\"HoverTool\"},{\"attributes\":{\"callback\":null,\"overlay\":{\"id\":\"ce5bc77e-4893-4fb4-862d-bc735575543a\",\"type\":\"PolyAnnotation\"},\"plot\":{\"id\":\"1756f35a-edad-4e92-9ee5-364c9f61e490\",\"subtype\":\"Figure\",\"type\":\"Plot\"}},\"id\":\"f00a8e8f-ea06-47f3-80cb-ad3db90252a9\",\"type\":\"LassoSelectTool\"},{\"attributes\":{\"plot\":{\"id\":\"1756f35a-edad-4e92-9ee5-364c9f61e490\",\"subtype\":\"Figure\",\"type\":\"Plot\"}},\"id\":\"a2c61b1c-53cc-4776-aca2-6351c1536310\",\"type\":\"RedoTool\"},{\"attributes\":{\"overlay\":{\"id\":\"e0d94ef4-e7ff-47aa-a69d-f9a9562bc863\",\"type\":\"PolyAnnotation\"},\"plot\":{\"id\":\"1756f35a-edad-4e92-9ee5-364c9f61e490\",\"subtype\":\"Figure\",\"type\":\"Plot\"}},\"id\":\"12613258-a4e4-48ae-8799-1914a144c1c5\",\"type\":\"PolySelectTool\"}],\"root_ids\":[\"1756f35a-edad-4e92-9ee5-364c9f61e490\"]},\"title\":\"Bokeh Application\",\"version\":\"0.12.6\"}};\n",
       "            var render_items = [{\"docid\":\"9d7756ca-4bb3-44ea-b301-a5195daf6fe9\",\"elementid\":\"76d2a72a-f2a3-4fdb-a385-92375a2d512e\",\"modelid\":\"1756f35a-edad-4e92-9ee5-364c9f61e490\",\"notebook_comms_target\":\"7d60b38e-4235-47ba-818d-0221a7ccf465\"}];\n",
       "            \n",
       "            Bokeh.embed.embed_items(docs_json, render_items);\n",
       "          };\n",
       "          if (document.readyState != \"loading\") fn();\n",
       "          else document.addEventListener(\"DOMContentLoaded\", fn);\n",
       "        })();\n",
       "      },\n",
       "      function(Bokeh) {\n",
       "      }\n",
       "    ];\n",
       "  \n",
       "    function run_inline_js() {\n",
       "      \n",
       "      if ((window.Bokeh !== undefined) || (force === true)) {\n",
       "        for (var i = 0; i < inline_js.length; i++) {\n",
       "          inline_js[i](window.Bokeh);\n",
       "        }if (force === true) {\n",
       "          display_loaded();\n",
       "        }} else if (Date.now() < window._bokeh_timeout) {\n",
       "        setTimeout(run_inline_js, 100);\n",
       "      } else if (!window._bokeh_failed_load) {\n",
       "        console.log(\"Bokeh: BokehJS failed to load within specified timeout.\");\n",
       "        window._bokeh_failed_load = true;\n",
       "      } else if (force !== true) {\n",
       "        var cell = $(document.getElementById(\"76d2a72a-f2a3-4fdb-a385-92375a2d512e\")).parents('.cell').data().cell;\n",
       "        cell.output_area.append_execute_result(NB_LOAD_WARNING)\n",
       "      }\n",
       "  \n",
       "    }\n",
       "  \n",
       "    if (window._bokeh_is_loading === 0) {\n",
       "      console.log(\"Bokeh: BokehJS loaded, going straight to plotting\");\n",
       "      run_inline_js();\n",
       "    } else {\n",
       "      load_libs(js_urls, function() {\n",
       "        console.log(\"Bokeh: BokehJS plotting callback run at\", now());\n",
       "        run_inline_js();\n",
       "      });\n",
       "    }\n",
       "  }(this));\n",
       "</script>"
      ]
     },
     "metadata": {},
     "output_type": "display_data"
    },
    {
     "data": {
      "text/html": [
       "<p><code>&lt;Bokeh Notebook handle for <strong>In[11]</strong>&gt;</code></p>"
      ],
      "text/plain": [
       "<bokeh.io._CommsHandle at 0x7f21d6b98160>"
      ]
     },
     "execution_count": 11,
     "metadata": {},
     "output_type": "execute_result"
    }
   ],
   "source": [
    "show(p, notebook_handle=True)"
   ]
  },
  {
   "cell_type": "markdown",
   "metadata": {},
   "source": [
    "**Here you can change a degree of polynomial used by the model**"
   ]
  },
  {
   "cell_type": "code",
   "execution_count": 10,
   "metadata": {},
   "outputs": [
    {
     "data": {
      "application/vnd.jupyter.widget-view+json": {
       "model_id": "d7592a8bbb5644df9b3a4099c0fa8f93",
       "version_major": 2,
       "version_minor": 0
      },
      "text/plain": [
       "A Jupyter Widget"
      ]
     },
     "metadata": {},
     "output_type": "display_data"
    },
    {
     "data": {
      "text/plain": [
       "<function __main__.update>"
      ]
     },
     "execution_count": 10,
     "metadata": {},
     "output_type": "execute_result"
    }
   ],
   "source": [
    "interact(update, poly_degree=(0,20,1))"
   ]
  },
  {
   "cell_type": "code",
   "execution_count": null,
   "metadata": {},
   "outputs": [],
   "source": []
  }
 ],
 "metadata": {
  "kernelspec": {
   "display_name": "Python 3",
   "language": "python",
   "name": "python3"
  },
  "language_info": {
   "codemirror_mode": {
    "name": "ipython",
    "version": 3
   },
   "file_extension": ".py",
   "mimetype": "text/x-python",
   "name": "python",
   "nbconvert_exporter": "python",
   "pygments_lexer": "ipython3",
   "version": "3.6.2"
  }
 },
 "nbformat": 4,
 "nbformat_minor": 2
}
