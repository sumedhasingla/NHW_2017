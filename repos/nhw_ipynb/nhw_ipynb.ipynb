{
 "cells": [
  {
   "cell_type": "markdown",
   "metadata": {},
   "source": [
    "# Basics\n",
    "\n",
    "We'll fly through this, but if you forget any of the basic notebook functionality, you can come back here to find it.\n",
    "\n",
    "\n",
    "## Notebook navigation\n",
    "\n",
    "You'll notice that when you select a \"cell\" of the notebook, there is a colored bar on the left. If that bar is blue you are in command mode and you can use the command mode shortcuts to manipulate cells and move quickly through the notebook. If you press `enter` on a selected cell, you'll enter edit mode and a cursor will appear inside the cell. Once you've finished editing the cell, you can press `esc` to return to command mode.\n",
    "\n",
    "## Running Cells\n",
    "\n",
    "`shit+enter`: run a cell and advance the active cell to the following cell  \n",
    "`ctrl+enter`: run a cell and keep this cell as the active cell\n",
    "\n",
    "## Help Menu\n",
    "\n",
    "The help menu has links to documentation for notebooks, markdown, extensions (if installed), and lots of frequently used modules. Most importantly though, you can see all of the keyboard shortcuts there.\n",
    "\n",
    "## Displaying variables\n",
    "\n",
    "By default the notebook will display the value of variables or statements when they're alone on a line."
   ]
  },
  {
   "cell_type": "code",
   "execution_count": 1,
   "metadata": {
    "ExecuteTime": {
     "end_time": "2017-09-04T20:46:54.214852Z",
     "start_time": "2017-09-04T20:46:54.204814Z"
    }
   },
   "outputs": [
    {
     "data": {
      "text/plain": [
       "'Having fun'"
      ]
     },
     "execution_count": 1,
     "metadata": {},
     "output_type": "execute_result"
    }
   ],
   "source": [
    "foo = \"Having fun\"\n",
    "foo"
   ]
  },
  {
   "cell_type": "markdown",
   "metadata": {},
   "source": [
    "The notebook will pretty print some types of outputs, such as pandas dataframes."
   ]
  },
  {
   "cell_type": "code",
   "execution_count": 2,
   "metadata": {
    "ExecuteTime": {
     "end_time": "2017-09-04T20:46:56.039862Z",
     "start_time": "2017-09-04T20:46:55.103236Z"
    },
    "scrolled": true
   },
   "outputs": [
    {
     "data": {
      "text/html": [
       "<div>\n",
       "<style>\n",
       "    .dataframe thead tr:only-child th {\n",
       "        text-align: right;\n",
       "    }\n",
       "\n",
       "    .dataframe thead th {\n",
       "        text-align: left;\n",
       "    }\n",
       "\n",
       "    .dataframe tbody tr th {\n",
       "        vertical-align: top;\n",
       "    }\n",
       "</style>\n",
       "<table border=\"1\" class=\"dataframe\">\n",
       "  <thead>\n",
       "    <tr style=\"text-align: right;\">\n",
       "      <th></th>\n",
       "      <th>sepal_length</th>\n",
       "      <th>sepal_width</th>\n",
       "      <th>petal_length</th>\n",
       "      <th>petal_width</th>\n",
       "      <th>species</th>\n",
       "    </tr>\n",
       "  </thead>\n",
       "  <tbody>\n",
       "    <tr>\n",
       "      <th>0</th>\n",
       "      <td>5.1</td>\n",
       "      <td>3.5</td>\n",
       "      <td>1.4</td>\n",
       "      <td>0.2</td>\n",
       "      <td>setosa</td>\n",
       "    </tr>\n",
       "    <tr>\n",
       "      <th>1</th>\n",
       "      <td>4.9</td>\n",
       "      <td>3.0</td>\n",
       "      <td>1.4</td>\n",
       "      <td>0.2</td>\n",
       "      <td>setosa</td>\n",
       "    </tr>\n",
       "    <tr>\n",
       "      <th>2</th>\n",
       "      <td>4.7</td>\n",
       "      <td>3.2</td>\n",
       "      <td>1.3</td>\n",
       "      <td>0.2</td>\n",
       "      <td>setosa</td>\n",
       "    </tr>\n",
       "    <tr>\n",
       "      <th>3</th>\n",
       "      <td>4.6</td>\n",
       "      <td>3.1</td>\n",
       "      <td>1.5</td>\n",
       "      <td>0.2</td>\n",
       "      <td>setosa</td>\n",
       "    </tr>\n",
       "    <tr>\n",
       "      <th>4</th>\n",
       "      <td>5.0</td>\n",
       "      <td>3.6</td>\n",
       "      <td>1.4</td>\n",
       "      <td>0.2</td>\n",
       "      <td>setosa</td>\n",
       "    </tr>\n",
       "  </tbody>\n",
       "</table>\n",
       "</div>"
      ],
      "text/plain": [
       "   sepal_length  sepal_width  petal_length  petal_width species\n",
       "0           5.1          3.5           1.4          0.2  setosa\n",
       "1           4.9          3.0           1.4          0.2  setosa\n",
       "2           4.7          3.2           1.3          0.2  setosa\n",
       "3           4.6          3.1           1.5          0.2  setosa\n",
       "4           5.0          3.6           1.4          0.2  setosa"
      ]
     },
     "execution_count": 2,
     "metadata": {},
     "output_type": "execute_result"
    }
   ],
   "source": [
    "import seaborn as sns\n",
    "iris = sns.load_dataset('iris')\n",
    "iris.head()"
   ]
  },
  {
   "cell_type": "markdown",
   "metadata": {},
   "source": [
    "With a settings change, you can also make the notebook print out any variable or statement on it's own line."
   ]
  },
  {
   "cell_type": "code",
   "execution_count": 3,
   "metadata": {
    "ExecuteTime": {
     "end_time": "2017-09-04T20:46:56.244093Z",
     "start_time": "2017-09-04T20:46:56.241040Z"
    },
    "collapsed": true
   },
   "outputs": [],
   "source": [
    "from IPython.core.interactiveshell import InteractiveShell\n",
    "InteractiveShell.ast_node_interactivity = \"all\""
   ]
  },
  {
   "cell_type": "code",
   "execution_count": 4,
   "metadata": {
    "ExecuteTime": {
     "end_time": "2017-09-04T20:46:56.888065Z",
     "start_time": "2017-09-04T20:46:56.875392Z"
    },
    "scrolled": true
   },
   "outputs": [
    {
     "data": {
      "text/plain": [
       "'Having fun'"
      ]
     },
     "execution_count": 4,
     "metadata": {},
     "output_type": "execute_result"
    },
    {
     "data": {
      "text/html": [
       "<div>\n",
       "<style>\n",
       "    .dataframe thead tr:only-child th {\n",
       "        text-align: right;\n",
       "    }\n",
       "\n",
       "    .dataframe thead th {\n",
       "        text-align: left;\n",
       "    }\n",
       "\n",
       "    .dataframe tbody tr th {\n",
       "        vertical-align: top;\n",
       "    }\n",
       "</style>\n",
       "<table border=\"1\" class=\"dataframe\">\n",
       "  <thead>\n",
       "    <tr style=\"text-align: right;\">\n",
       "      <th></th>\n",
       "      <th>sepal_length</th>\n",
       "      <th>sepal_width</th>\n",
       "      <th>petal_length</th>\n",
       "      <th>petal_width</th>\n",
       "      <th>species</th>\n",
       "    </tr>\n",
       "  </thead>\n",
       "  <tbody>\n",
       "    <tr>\n",
       "      <th>0</th>\n",
       "      <td>5.1</td>\n",
       "      <td>3.5</td>\n",
       "      <td>1.4</td>\n",
       "      <td>0.2</td>\n",
       "      <td>setosa</td>\n",
       "    </tr>\n",
       "    <tr>\n",
       "      <th>1</th>\n",
       "      <td>4.9</td>\n",
       "      <td>3.0</td>\n",
       "      <td>1.4</td>\n",
       "      <td>0.2</td>\n",
       "      <td>setosa</td>\n",
       "    </tr>\n",
       "    <tr>\n",
       "      <th>2</th>\n",
       "      <td>4.7</td>\n",
       "      <td>3.2</td>\n",
       "      <td>1.3</td>\n",
       "      <td>0.2</td>\n",
       "      <td>setosa</td>\n",
       "    </tr>\n",
       "    <tr>\n",
       "      <th>3</th>\n",
       "      <td>4.6</td>\n",
       "      <td>3.1</td>\n",
       "      <td>1.5</td>\n",
       "      <td>0.2</td>\n",
       "      <td>setosa</td>\n",
       "    </tr>\n",
       "    <tr>\n",
       "      <th>4</th>\n",
       "      <td>5.0</td>\n",
       "      <td>3.6</td>\n",
       "      <td>1.4</td>\n",
       "      <td>0.2</td>\n",
       "      <td>setosa</td>\n",
       "    </tr>\n",
       "  </tbody>\n",
       "</table>\n",
       "</div>"
      ],
      "text/plain": [
       "   sepal_length  sepal_width  petal_length  petal_width species\n",
       "0           5.1          3.5           1.4          0.2  setosa\n",
       "1           4.9          3.0           1.4          0.2  setosa\n",
       "2           4.7          3.2           1.3          0.2  setosa\n",
       "3           4.6          3.1           1.5          0.2  setosa\n",
       "4           5.0          3.6           1.4          0.2  setosa"
      ]
     },
     "execution_count": 4,
     "metadata": {},
     "output_type": "execute_result"
    }
   ],
   "source": [
    "foo\n",
    "iris.head()"
   ]
  },
  {
   "cell_type": "markdown",
   "metadata": {
    "ExecuteTime": {
     "end_time": "2017-08-31T19:28:23.816956Z",
     "start_time": "2017-08-31T19:28:23.814494Z"
    }
   },
   "source": [
    "## Function help\n",
    "\n",
    "It's easy to get function documentation when you're in the jupyter notebook. Pressing `shift+tab` when your cursor is inside the parentheses of of a function will bring up the call signature of the function, and you can expand this to get the full documetation."
   ]
  },
  {
   "cell_type": "code",
   "execution_count": 5,
   "metadata": {
    "ExecuteTime": {
     "end_time": "2017-09-04T20:46:57.585935Z",
     "start_time": "2017-09-04T20:46:57.582262Z"
    }
   },
   "outputs": [
    {
     "name": "stdout",
     "output_type": "stream",
     "text": [
      "\n"
     ]
    }
   ],
   "source": [
    "# Press shift+tab inside the parentheses to get print's call signature and docstring \n",
    "print()"
   ]
  },
  {
   "cell_type": "markdown",
   "metadata": {
    "ExecuteTime": {
     "end_time": "2017-08-31T19:32:54.663981Z",
     "start_time": "2017-08-31T19:32:54.660616Z"
    }
   },
   "source": [
    "Prepending or appending a question mark on a library, method, or variable will also bring up it's docstring."
   ]
  },
  {
   "cell_type": "code",
   "execution_count": 6,
   "metadata": {
    "ExecuteTime": {
     "end_time": "2017-09-04T20:46:58.933422Z",
     "start_time": "2017-09-04T20:46:58.896907Z"
    },
    "collapsed": true
   },
   "outputs": [],
   "source": [
    "range?"
   ]
  },
  {
   "cell_type": "code",
   "execution_count": 7,
   "metadata": {
    "ExecuteTime": {
     "end_time": "2017-09-04T20:46:59.414901Z",
     "start_time": "2017-09-04T20:46:59.394682Z"
    },
    "collapsed": true
   },
   "outputs": [],
   "source": [
    "?iris.head"
   ]
  },
  {
   "cell_type": "markdown",
   "metadata": {},
   "source": [
    "## Executing shell commands with !\n",
    "If you need to run a shell command you can do so right from the notebook by prepending the line with an exclamation mark."
   ]
  },
  {
   "cell_type": "code",
   "execution_count": 8,
   "metadata": {
    "ExecuteTime": {
     "end_time": "2017-09-04T20:47:00.590068Z",
     "start_time": "2017-09-04T20:47:00.471474Z"
    }
   },
   "outputs": [
    {
     "name": "stdout",
     "output_type": "stream",
     "text": [
      "/Users/nielsond/code/nhw_ipynb\r\n"
     ]
    }
   ],
   "source": [
    "!pwd"
   ]
  },
  {
   "cell_type": "markdown",
   "metadata": {
    "ExecuteTime": {
     "end_time": "2017-08-31T19:40:13.852939Z",
     "start_time": "2017-08-31T19:40:13.848807Z"
    }
   },
   "source": [
    "## Multicursor and alt-select\n",
    "You can drop a cursor at multiple points inside the same cell with `ctrl(cmd on mac)+click` or by clicking and dragging while holding alt."
   ]
  },
  {
   "cell_type": "code",
   "execution_count": 9,
   "metadata": {
    "ExecuteTime": {
     "end_time": "2017-09-04T20:47:06.684790Z",
     "start_time": "2017-09-04T20:47:06.681250Z"
    },
    "collapsed": true
   },
   "outputs": [],
   "source": [
    "###Exercise###\n",
    "# Use multicursor to add Bear to each item in the following list\n",
    "# You'll see the plus sign in the corner throughout the rest \n",
    "# of this notebook. You can expand it to see the solution\n",
    "bears = [\"Yogi\"\n",
    "        ,\"Pooh\"\n",
    "        ,\"Fuzz\"\n",
    "        ,\"Tall\"]"
   ]
  },
  {
   "cell_type": "markdown",
   "metadata": {},
   "source": [
    "# Jupyter notebook extensions\n",
    "Jupyter notebook extensions give notebooks various additional functionality, but they're not all garaunteed to be stable. You can find instructions for installing them here: https://github.com/ipython-contrib/jupyter_contrib_nbextensions\n",
    "\n"
   ]
  },
  {
   "cell_type": "markdown",
   "metadata": {},
   "source": [
    "# IPython Magic\n",
    "If you are running your notebook with an python kernel, there are some special built in funcitonality that you can access with \"magic\" functions. There are line magics that are preceded by a single `%` and affect only that line and cell magics preceded by `%%` that you place at the beginning of a cell to modify the behavior of that cell. There are [lots of magics](http://ipython.readthedocs.io/en/stable/interactive/magics.htm), but here are some handy ones."
   ]
  },
  {
   "cell_type": "markdown",
   "metadata": {},
   "source": [
    "## Environtment variables: %env\n",
    "If you need to modify the environment variables that apply to a running notebook and don't want to restart your notebook server, `%env` allows you to check and set them from within the notebook"
   ]
  },
  {
   "cell_type": "code",
   "execution_count": 10,
   "metadata": {
    "ExecuteTime": {
     "end_time": "2017-09-04T20:47:13.862464Z",
     "start_time": "2017-09-04T20:47:13.856985Z"
    },
    "scrolled": true
   },
   "outputs": [
    {
     "data": {
      "text/plain": [
       "{'Apple_PubSub_Socket_Render': '/private/tmp/com.apple.launchd.MWk2esEZg1/Render',\n",
       " 'CLICOLOR': '1',\n",
       " 'CONDA_DEFAULT_ENV': 'nhw_ipynb',\n",
       " 'CONDA_PATH_BACKUP': '/usr/local/fsl/bin:/Users/nielsond/miniconda3/bin:/usr/local/fsl/bin:/sw/bin:/sw/sbin:/Users/nielsond/miniconda3/bin:/usr/local/bin:/usr/bin:/bin:/usr/sbin:/sbin:/opt/X11/bin:/Users/nielsond/abin:/Users/nielsond/abin',\n",
       " 'CONDA_PREFIX': '/Users/nielsond/miniconda3/envs/nhw_ipynb',\n",
       " 'CONDA_PS1_BACKUP': '\\\\h:\\\\W \\\\u\\\\$ ',\n",
       " 'DBUS_SESSION_BUS_ADDRESS': 'launchd:env=DBUS_FINK_SESSION_BUS_SOCKET',\n",
       " 'DISPLAY': '/private/tmp/com.apple.launchd.GqMVsSYLn2/org.macosforge.xquartz:0',\n",
       " 'DYLD_LIBRARY_PATH': '/opt/X11/lib/flat_namespace',\n",
       " 'FSLDIR': '/usr/local/fsl',\n",
       " 'FSLGECUDAQ': 'cuda.q',\n",
       " 'FSLLOCKDIR': '',\n",
       " 'FSLMACHINELIST': '',\n",
       " 'FSLMULTIFILEQUIT': 'TRUE',\n",
       " 'FSLOUTPUTTYPE': 'NIFTI_GZ',\n",
       " 'FSLREMOTECALL': '',\n",
       " 'FSLTCLSH': '/usr/local/fsl/bin/fsltclsh',\n",
       " 'FSLWISH': '/usr/local/fsl/bin/fslwish',\n",
       " 'GIT_PAGER': 'cat',\n",
       " 'HOME': '/Users/nielsond',\n",
       " 'INFOPATH': '/sw/share/info:/sw/info:/usr/share/info',\n",
       " 'JPY_PARENT_PID': '7210',\n",
       " 'LANG': 'en_US.UTF-8',\n",
       " 'LOGNAME': 'nielsond',\n",
       " 'MANPATH': '/sw/share/man:/Users/nielsond/miniconda3/share/man:/usr/local/share/man:/usr/share/man:/opt/X11/share/man:/Library/Developer/CommandLineTools/usr/share/man:/sw/lib/perl5/5.18.2/man',\n",
       " 'MPLBACKEND': 'module://ipykernel.pylab.backend_inline',\n",
       " 'OLDPWD': '/Users/nielsond/code',\n",
       " 'PAGER': 'cat',\n",
       " 'PATH': '/Users/nielsond/miniconda3/envs/nhw_ipynb/bin:/Users/nielsond/miniconda3/envs/nhw_ipynb/bin:/usr/local/fsl/bin:/Users/nielsond/miniconda3/bin:/usr/local/fsl/bin:/sw/bin:/sw/sbin:/Users/nielsond/miniconda3/bin:/usr/local/bin:/usr/bin:/bin:/usr/sbin:/sbin:/opt/X11/bin:/Users/nielsond/abin:/Users/nielsond/abin',\n",
       " 'PERL5LIB': '/sw/lib/perl5:/sw/lib/perl5/darwin',\n",
       " 'PS1': '(nhw_ipynb) \\\\h:\\\\W \\\\u\\\\$ ',\n",
       " 'PWD': '/Users/nielsond/code/nhw_ipynb',\n",
       " 'PYTHONPATH': ':/Users/nielsond/abin:/Users/nielsond/abin',\n",
       " 'SECURITYSESSIONID': '186a8',\n",
       " 'SGML_CATALOG_FILES': '/sw/etc/sgml/catalog',\n",
       " 'SHELL': '/bin/bash',\n",
       " 'SHLVL': '1',\n",
       " 'SSH_AUTH_SOCK': '/private/tmp/com.apple.launchd.gk3JskJKYB/Listeners',\n",
       " 'TERM': 'xterm-color',\n",
       " 'TERM_PROGRAM': 'Apple_Terminal',\n",
       " 'TERM_PROGRAM_VERSION': '388.1.1',\n",
       " 'TERM_SESSION_ID': '61C827AF-03F6-4663-AC06-745CD2C0E9A0',\n",
       " 'TMPDIR': '/var/folders/pt/dbkv61_12_l2d0g0pjhr_jycv9nfbc/T/',\n",
       " 'USER': 'nielsond',\n",
       " 'XDG_CACHE_HOME': '/Users/nielsond/.cache',\n",
       " 'XDG_CONFIG_DIRS': '/sw/etc/xdg',\n",
       " 'XDG_CONFIG_HOME': '/Users/nielsond/.config',\n",
       " 'XDG_DATA_DIRS': '/sw/share',\n",
       " 'XDG_DATA_HOME': '/Users/nielsond/.local/share',\n",
       " 'XDG_RUNTIME_DIR': '/var/folders/pt/dbkv61_12_l2d0g0pjhr_jycv9nfbc/C/',\n",
       " 'XML_CATALOG_FILES': '/sw/etc/xml/catalog',\n",
       " 'XPC_FLAGS': '0x0',\n",
       " 'XPC_SERVICE_NAME': '0',\n",
       " '_': '/Users/nielsond/miniconda3/envs/nhw_ipynb/bin/jupyter',\n",
       " '__CF_USER_TEXT_ENCODING': '0x369AB96C:0x0:0x0'}"
      ]
     },
     "execution_count": 10,
     "metadata": {},
     "output_type": "execute_result"
    }
   ],
   "source": [
    "%env"
   ]
  },
  {
   "cell_type": "code",
   "execution_count": 11,
   "metadata": {
    "ExecuteTime": {
     "end_time": "2017-09-04T20:47:14.649379Z",
     "start_time": "2017-09-04T20:47:14.645615Z"
    },
    "scrolled": true
   },
   "outputs": [
    {
     "name": "stdout",
     "output_type": "stream",
     "text": [
      "env: FOO=\"Warming up\"\n"
     ]
    }
   ],
   "source": [
    "%env FOO=\"Warming up\""
   ]
  },
  {
   "cell_type": "code",
   "execution_count": 12,
   "metadata": {
    "ExecuteTime": {
     "end_time": "2017-09-04T20:47:14.991991Z",
     "start_time": "2017-09-04T20:47:14.987709Z"
    }
   },
   "outputs": [
    {
     "data": {
      "text/plain": [
       "'\"Warming up\"'"
      ]
     },
     "execution_count": 12,
     "metadata": {},
     "output_type": "execute_result"
    }
   ],
   "source": [
    "%env FOO"
   ]
  },
  {
   "cell_type": "markdown",
   "metadata": {
    "ExecuteTime": {
     "end_time": "2017-08-31T20:14:41.260881Z",
     "start_time": "2017-08-31T20:14:41.258670Z"
    }
   },
   "source": [
    "## Manipulating files with magic"
   ]
  },
  {
   "cell_type": "markdown",
   "metadata": {
    "collapsed": true
   },
   "source": [
    "### Load a file: %load\n",
    "With the `%load` magic you can load the contents of a file into a cell"
   ]
  },
  {
   "cell_type": "code",
   "execution_count": null,
   "metadata": {
    "ExecuteTime": {
     "end_time": "2017-09-04T20:24:17.241323Z",
     "start_time": "2017-09-04T20:24:17.238150Z"
    },
    "collapsed": true
   },
   "outputs": [],
   "source": [
    "# %load boring.py\n",
    "print(\"Not much going on here\")\n"
   ]
  },
  {
   "cell_type": "markdown",
   "metadata": {},
   "source": [
    "### Writing files: %%writefile\n",
    "With `%%writefile` you can write the contents of a cell to a file. Let's create a simple python script that sets a python variable equal to the value of the environment variable we just created."
   ]
  },
  {
   "cell_type": "code",
   "execution_count": 13,
   "metadata": {
    "ExecuteTime": {
     "end_time": "2017-09-04T20:47:19.973115Z",
     "start_time": "2017-09-04T20:47:19.968912Z"
    }
   },
   "outputs": [
    {
     "name": "stdout",
     "output_type": "stream",
     "text": [
      "Overwriting ./grab_foo.py\n"
     ]
    }
   ],
   "source": [
    "%%writefile ./grab_foo.py\n",
    "import os\n",
    "bar = os.environ['FOO']"
   ]
  },
  {
   "cell_type": "markdown",
   "metadata": {},
   "source": [
    "### Running files: %run\n",
    "`%run` is a line magic that executes the file or ipython notebook passed to it."
   ]
  },
  {
   "cell_type": "code",
   "execution_count": 14,
   "metadata": {
    "ExecuteTime": {
     "end_time": "2017-09-04T20:47:22.505414Z",
     "start_time": "2017-09-04T20:47:22.501301Z"
    }
   },
   "outputs": [
    {
     "name": "stdout",
     "output_type": "stream",
     "text": [
      "\"Warming up\"\n"
     ]
    }
   ],
   "source": [
    "%run ./grab_foo.py\n",
    "print(bar)"
   ]
  },
  {
   "cell_type": "markdown",
   "metadata": {},
   "source": [
    "## Debugging: %pdb, %debug\n",
    "`%pdb` toggles automatic calling of [The Python Debugger (pdb)](https://docs.python.org/3.6/library/pdb.html#debugger-commands) so you can figure out what is breaking whenever an error is thrown.  \n",
    "\n",
    "[`%debug`](http://ipython.readthedocs.io/en/stable/interactive/magics.html#magic-debug) lets you drop into pdb after an error has been thrown even if automatic calling was off. You can also activate the debugger before executing code which allows you to set break points."
   ]
  },
  {
   "cell_type": "code",
   "execution_count": 15,
   "metadata": {
    "ExecuteTime": {
     "end_time": "2017-09-04T20:47:24.985889Z",
     "start_time": "2017-09-04T20:47:24.978445Z"
    },
    "collapsed": true
   },
   "outputs": [],
   "source": [
    "def is_moving(alive, location=\"south\"):\n",
    "    \"\"\"determine if a creature is moving\"\"\"\n",
    "    \n",
    "    if (not alive) and (location==\"north\"):\n",
    "        moving = True\n",
    "    elif not alive:\n",
    "        moving = 1/0\n",
    "    else:\n",
    "        moving = True\n",
    "    return moving\n",
    "        "
   ]
  },
  {
   "cell_type": "code",
   "execution_count": 16,
   "metadata": {
    "ExecuteTime": {
     "end_time": "2017-09-04T20:47:30.458577Z",
     "start_time": "2017-09-04T20:47:27.778559Z"
    }
   },
   "outputs": [
    {
     "name": "stdout",
     "output_type": "stream",
     "text": [
      "Automatic pdb calling has been turned ON\n"
     ]
    },
    {
     "ename": "ZeroDivisionError",
     "evalue": "division by zero",
     "output_type": "error",
     "traceback": [
      "\u001b[0;31m---------------------------------------------------------------------------\u001b[0m",
      "\u001b[0;31mZeroDivisionError\u001b[0m                         Traceback (most recent call last)",
      "\u001b[0;32m<ipython-input-16-b8a0a946c725>\u001b[0m in \u001b[0;36m<module>\u001b[0;34m()\u001b[0m\n\u001b[1;32m      1\u001b[0m \u001b[0mget_ipython\u001b[0m\u001b[0;34m(\u001b[0m\u001b[0;34m)\u001b[0m\u001b[0;34m.\u001b[0m\u001b[0mmagic\u001b[0m\u001b[0;34m(\u001b[0m\u001b[0;34m'pdb'\u001b[0m\u001b[0;34m)\u001b[0m\u001b[0;34m\u001b[0m\u001b[0m\n\u001b[0;32m----> 2\u001b[0;31m \u001b[0mis_moving\u001b[0m\u001b[0;34m(\u001b[0m\u001b[0;32mFalse\u001b[0m\u001b[0;34m)\u001b[0m\u001b[0;34m\u001b[0m\u001b[0m\n\u001b[0m",
      "\u001b[0;32m<ipython-input-15-2689e9f1e380>\u001b[0m in \u001b[0;36mis_moving\u001b[0;34m(alive, location)\u001b[0m\n\u001b[1;32m      5\u001b[0m         \u001b[0mmoving\u001b[0m \u001b[0;34m=\u001b[0m \u001b[0;32mTrue\u001b[0m\u001b[0;34m\u001b[0m\u001b[0m\n\u001b[1;32m      6\u001b[0m     \u001b[0;32melif\u001b[0m \u001b[0;32mnot\u001b[0m \u001b[0malive\u001b[0m\u001b[0;34m:\u001b[0m\u001b[0;34m\u001b[0m\u001b[0m\n\u001b[0;32m----> 7\u001b[0;31m         \u001b[0mmoving\u001b[0m \u001b[0;34m=\u001b[0m \u001b[0;36m1\u001b[0m\u001b[0;34m/\u001b[0m\u001b[0;36m0\u001b[0m\u001b[0;34m\u001b[0m\u001b[0m\n\u001b[0m\u001b[1;32m      8\u001b[0m     \u001b[0;32melse\u001b[0m\u001b[0;34m:\u001b[0m\u001b[0;34m\u001b[0m\u001b[0m\n\u001b[1;32m      9\u001b[0m         \u001b[0mmoving\u001b[0m \u001b[0;34m=\u001b[0m \u001b[0;32mTrue\u001b[0m\u001b[0;34m\u001b[0m\u001b[0m\n",
      "\u001b[0;31mZeroDivisionError\u001b[0m: division by zero"
     ]
    },
    {
     "name": "stdout",
     "output_type": "stream",
     "text": [
      "> \u001b[0;32m<ipython-input-15-2689e9f1e380>\u001b[0m(7)\u001b[0;36mis_moving\u001b[0;34m()\u001b[0m\n",
      "\u001b[0;32m      5 \u001b[0;31m        \u001b[0mmoving\u001b[0m \u001b[0;34m=\u001b[0m \u001b[0;32mTrue\u001b[0m\u001b[0;34m\u001b[0m\u001b[0m\n",
      "\u001b[0m\u001b[0;32m      6 \u001b[0;31m    \u001b[0;32melif\u001b[0m \u001b[0;32mnot\u001b[0m \u001b[0malive\u001b[0m\u001b[0;34m:\u001b[0m\u001b[0;34m\u001b[0m\u001b[0m\n",
      "\u001b[0m\u001b[0;32m----> 7 \u001b[0;31m        \u001b[0mmoving\u001b[0m \u001b[0;34m=\u001b[0m \u001b[0;36m1\u001b[0m\u001b[0;34m/\u001b[0m\u001b[0;36m0\u001b[0m\u001b[0;34m\u001b[0m\u001b[0m\n",
      "\u001b[0m\u001b[0;32m      8 \u001b[0;31m    \u001b[0;32melse\u001b[0m\u001b[0;34m:\u001b[0m\u001b[0;34m\u001b[0m\u001b[0m\n",
      "\u001b[0m\u001b[0;32m      9 \u001b[0;31m        \u001b[0mmoving\u001b[0m \u001b[0;34m=\u001b[0m \u001b[0;32mTrue\u001b[0m\u001b[0;34m\u001b[0m\u001b[0m\n",
      "\u001b[0m\n",
      "ipdb> q\n"
     ]
    }
   ],
   "source": [
    "%pdb\n",
    "is_moving(False)"
   ]
  },
  {
   "cell_type": "code",
   "execution_count": 18,
   "metadata": {
    "ExecuteTime": {
     "end_time": "2017-09-04T20:49:38.120678Z",
     "start_time": "2017-09-04T20:49:38.117366Z"
    }
   },
   "outputs": [
    {
     "name": "stdout",
     "output_type": "stream",
     "text": [
      "Automatic pdb calling has been turned OFF\n"
     ]
    }
   ],
   "source": [
    "# Turn autopdb back off\n",
    "%pdb"
   ]
  },
  {
   "cell_type": "code",
   "execution_count": 19,
   "metadata": {
    "ExecuteTime": {
     "end_time": "2017-09-04T20:49:40.674025Z",
     "start_time": "2017-09-04T20:49:39.213264Z"
    },
    "scrolled": false
   },
   "outputs": [
    {
     "name": "stdout",
     "output_type": "stream",
     "text": [
      "> \u001b[0;32m<ipython-input-15-2689e9f1e380>\u001b[0m(7)\u001b[0;36mis_moving\u001b[0;34m()\u001b[0m\n",
      "\u001b[0;32m      5 \u001b[0;31m        \u001b[0mmoving\u001b[0m \u001b[0;34m=\u001b[0m \u001b[0;32mTrue\u001b[0m\u001b[0;34m\u001b[0m\u001b[0m\n",
      "\u001b[0m\u001b[0;32m      6 \u001b[0;31m    \u001b[0;32melif\u001b[0m \u001b[0;32mnot\u001b[0m \u001b[0malive\u001b[0m\u001b[0;34m:\u001b[0m\u001b[0;34m\u001b[0m\u001b[0m\n",
      "\u001b[0m\u001b[0;32m----> 7 \u001b[0;31m        \u001b[0mmoving\u001b[0m \u001b[0;34m=\u001b[0m \u001b[0;36m1\u001b[0m\u001b[0;34m/\u001b[0m\u001b[0;36m0\u001b[0m\u001b[0;34m\u001b[0m\u001b[0m\n",
      "\u001b[0m\u001b[0;32m      8 \u001b[0;31m    \u001b[0;32melse\u001b[0m\u001b[0;34m:\u001b[0m\u001b[0;34m\u001b[0m\u001b[0m\n",
      "\u001b[0m\u001b[0;32m      9 \u001b[0;31m        \u001b[0mmoving\u001b[0m \u001b[0;34m=\u001b[0m \u001b[0;32mTrue\u001b[0m\u001b[0;34m\u001b[0m\u001b[0m\n",
      "\u001b[0m\n",
      "ipdb> q\n"
     ]
    }
   ],
   "source": [
    "%debug"
   ]
  },
  {
   "cell_type": "markdown",
   "metadata": {},
   "source": [
    "## Why's my code so slow: timing and profiling\n",
    "`%%time` gives you the execution time of a single run of a cell.\n",
    "\n",
    "\n",
    "`%%timeit` runs a statment 100,000 times and gives you the total execution time, it repeats this 3 times and returns the quickest result, this gives you an idea of the best case for execution of this code on your machine. The mean isn't used because slower execution times are often the result of other processes interfering with python.\n",
    "\n",
    "`%prun` runs the statement you give it and returns the number of times each internal function was called within the statement.\n",
    "\n"
   ]
  },
  {
   "cell_type": "code",
   "execution_count": 20,
   "metadata": {
    "ExecuteTime": {
     "end_time": "2017-09-04T20:49:43.093405Z",
     "start_time": "2017-09-04T20:49:43.077879Z"
    },
    "collapsed": true
   },
   "outputs": [],
   "source": [
    "def slow_reverse(x):\n",
    "    y = []\n",
    "    for xi in x:\n",
    "        y.insert(0,xi)\n",
    "    return y\n",
    "def something_slow(n):\n",
    "    b = []\n",
    "    for i in range(0,n):\n",
    "        b.append(i)\n",
    "        b = slow_reverse(b)\n",
    "        \n",
    "def fast_reverse(x):\n",
    "    return x[::-1]\n",
    "def something_fast(n):\n",
    "    b = []\n",
    "    for i in range(0,n):\n",
    "        b.append(i)\n",
    "        b = fast_reverse(b)"
   ]
  },
  {
   "cell_type": "code",
   "execution_count": 21,
   "metadata": {
    "ExecuteTime": {
     "end_time": "2017-09-04T20:49:50.618576Z",
     "start_time": "2017-09-04T20:49:43.609709Z"
    }
   },
   "outputs": [
    {
     "name": "stdout",
     "output_type": "stream",
     "text": [
      "866 µs ± 32.5 µs per loop (mean ± std. dev. of 7 runs, 1000 loops each)\n"
     ]
    }
   ],
   "source": [
    "%%timeit \n",
    "something_slow(100)"
   ]
  },
  {
   "cell_type": "code",
   "execution_count": 22,
   "metadata": {
    "ExecuteTime": {
     "end_time": "2017-09-04T20:49:54.997281Z",
     "start_time": "2017-09-04T20:49:50.620125Z"
    }
   },
   "outputs": [
    {
     "name": "stdout",
     "output_type": "stream",
     "text": [
      "53.6 µs ± 2.63 µs per loop (mean ± std. dev. of 7 runs, 10000 loops each)\n"
     ]
    }
   ],
   "source": [
    "%%timeit\n",
    "something_fast(100)"
   ]
  },
  {
   "cell_type": "code",
   "execution_count": 23,
   "metadata": {
    "ExecuteTime": {
     "end_time": "2017-09-04T20:49:55.009582Z",
     "start_time": "2017-09-04T20:49:54.998721Z"
    }
   },
   "outputs": [
    {
     "name": "stdout",
     "output_type": "stream",
     "text": [
      "          5254 function calls in 0.001 seconds\n",
      "\n",
      "   Ordered by: internal time\n",
      "\n",
      "   ncalls  tottime  percall  cumtime  percall filename:lineno(function)\n",
      "     5050    0.001    0.000    0.001    0.000 {method 'insert' of 'list' objects}\n",
      "      100    0.001    0.000    0.001    0.000 <ipython-input-20-4830d2dce4ac>:1(slow_reverse)\n",
      "        1    0.000    0.000    0.001    0.001 <ipython-input-20-4830d2dce4ac>:6(something_slow)\n",
      "        1    0.000    0.000    0.001    0.001 {built-in method builtins.exec}\n",
      "      100    0.000    0.000    0.000    0.000 {method 'append' of 'list' objects}\n",
      "        1    0.000    0.000    0.001    0.001 <string>:1(<module>)\n",
      "        1    0.000    0.000    0.000    0.000 {method 'disable' of '_lsprof.Profiler' objects}\n",
      "\n",
      "\n"
     ]
    },
    {
     "data": {
      "text/plain": [
       "<pstats.Stats at 0x10d3ab208>"
      ]
     },
     "execution_count": 23,
     "metadata": {},
     "output_type": "execute_result"
    }
   ],
   "source": [
    "pres = %prun -r something_slow(100)\n",
    "pres.print_stats()"
   ]
  },
  {
   "cell_type": "code",
   "execution_count": 24,
   "metadata": {
    "ExecuteTime": {
     "end_time": "2017-09-04T20:49:55.020496Z",
     "start_time": "2017-09-04T20:49:55.011201Z"
    }
   },
   "outputs": [
    {
     "name": "stdout",
     "output_type": "stream",
     "text": [
      "          204 function calls in 0.000 seconds\n",
      "\n",
      "   Ordered by: internal time\n",
      "\n",
      "   ncalls  tottime  percall  cumtime  percall filename:lineno(function)\n",
      "      100    0.000    0.000    0.000    0.000 <ipython-input-20-4830d2dce4ac>:12(fast_reverse)\n",
      "        1    0.000    0.000    0.000    0.000 <ipython-input-20-4830d2dce4ac>:14(something_fast)\n",
      "      100    0.000    0.000    0.000    0.000 {method 'append' of 'list' objects}\n",
      "        1    0.000    0.000    0.000    0.000 {built-in method builtins.exec}\n",
      "        1    0.000    0.000    0.000    0.000 <string>:1(<module>)\n",
      "        1    0.000    0.000    0.000    0.000 {method 'disable' of '_lsprof.Profiler' objects}\n",
      "\n",
      "\n"
     ]
    },
    {
     "data": {
      "text/plain": [
       "<pstats.Stats at 0x10d3ab898>"
      ]
     },
     "execution_count": 24,
     "metadata": {},
     "output_type": "execute_result"
    }
   ],
   "source": [
    "pres = %prun -r something_fast(100)\n",
    "pres.print_stats()"
   ]
  },
  {
   "cell_type": "markdown",
   "metadata": {},
   "source": [
    "## Pretty pictures: %matplotlib inline\n",
    "\n",
    "One of the really nice parts of notebooks is that you have markdown, code, and figures all in one document. the `%matplotlib inline` magic turns on plotting in the notebook."
   ]
  },
  {
   "cell_type": "code",
   "execution_count": 25,
   "metadata": {
    "ExecuteTime": {
     "end_time": "2017-09-04T20:49:55.027300Z",
     "start_time": "2017-09-04T20:49:55.022002Z"
    },
    "collapsed": true
   },
   "outputs": [],
   "source": [
    "from matplotlib import pyplot as plt\n",
    "import numpy as np\n",
    "import pandas as pd\n",
    "%matplotlib inline"
   ]
  },
  {
   "cell_type": "code",
   "execution_count": 26,
   "metadata": {
    "ExecuteTime": {
     "end_time": "2017-09-04T20:49:55.302288Z",
     "start_time": "2017-09-04T20:49:55.029049Z"
    }
   },
   "outputs": [
    {
     "data": {
      "text/plain": [
       "[<matplotlib.lines.Line2D at 0x103062320>]"
      ]
     },
     "execution_count": 26,
     "metadata": {},
     "output_type": "execute_result"
    },
    {
     "data": {
      "text/plain": [
       "<matplotlib.legend.Legend at 0x11080cdd8>"
      ]
     },
     "execution_count": 26,
     "metadata": {},
     "output_type": "execute_result"
    },
    {
     "data": {
      "text/plain": [
       "[<matplotlib.lines.Line2D at 0x10d3ae400>]"
      ]
     },
     "execution_count": 26,
     "metadata": {},
     "output_type": "execute_result"
    },
    {
     "data": {
      "text/plain": [
       "<matplotlib.legend.Legend at 0x11082e7b8>"
      ]
     },
     "execution_count": 26,
     "metadata": {},
     "output_type": "execute_result"
    },
    {
     "data": {
      "text/plain": [
       "[<matplotlib.lines.Line2D at 0x11081eef0>]"
      ]
     },
     "execution_count": 26,
     "metadata": {},
     "output_type": "execute_result"
    },
    {
     "data": {
      "text/plain": [
       "<matplotlib.legend.Legend at 0x11083fc18>"
      ]
     },
     "execution_count": 26,
     "metadata": {},
     "output_type": "execute_result"
    },
    {
     "data": {
      "image/png": "[encoded data removed]",
      "text/plain": [
       "<matplotlib.figure.Figure at 0x10d3ae278>"
      ]
     },
     "metadata": {},
     "output_type": "display_data"
    }
   ],
   "source": [
    "for s in pd.unique(iris.species):\n",
    "    x = iris.loc[iris.species == s,\"sepal_length\"]\n",
    "    y = iris.loc[iris.species == s,\"sepal_width\"]\n",
    "    plt.plot(x,y,'o', label =s);\n",
    "    plt.legend(loc='best');"
   ]
  },
  {
   "cell_type": "markdown",
   "metadata": {},
   "source": [
    "## Bonus: Speaking of plotting, seaborn makes things easier and prettier\n",
    "You can see the [seaborn documentation](https://seaborn.pydata.org/index.html) for more examples of pretty plots made easy"
   ]
  },
  {
   "cell_type": "code",
   "execution_count": 27,
   "metadata": {
    "ExecuteTime": {
     "end_time": "2017-09-04T20:49:57.897869Z",
     "start_time": "2017-09-04T20:49:55.303741Z"
    }
   },
   "outputs": [
    {
     "data": {
      "image/png": "[encoded data removed]",
      "text/plain": [
       "<matplotlib.figure.Figure at 0x10d3aa828>"
      ]
     },
     "metadata": {},
     "output_type": "display_data"
    }
   ],
   "source": [
    "import seaborn as sns\n",
    "sns.set()\n",
    "sns.pairplot(iris,hue=\"species\");"
   ]
  },
  {
   "cell_type": "markdown",
   "metadata": {
    "collapsed": true
   },
   "source": [
    "# Widgets\n",
    "\n",
    "[Ipython widgets](http://ipywidgets.readthedocs.io/en/stable/index.html) are python objects represented in the browser than you can use to create interactive GUIs. This can be particularly useful for exploring your data. We'll use the `interact` function to create some interactive widgets.\n",
    "\n",
    "## interact\n",
    "`interact` creates UI elements that let you control the input parameters to a function. So first we'll need a function."
   ]
  },
  {
   "cell_type": "code",
   "execution_count": 28,
   "metadata": {
    "ExecuteTime": {
     "end_time": "2017-09-04T20:49:57.901885Z",
     "start_time": "2017-09-04T20:49:57.899103Z"
    },
    "collapsed": true
   },
   "outputs": [],
   "source": [
    "from ipywidgets import interact, interactive, fixed, interact_manual\n",
    "import ipywidgets as widgets"
   ]
  },
  {
   "cell_type": "code",
   "execution_count": 29,
   "metadata": {
    "ExecuteTime": {
     "end_time": "2017-09-04T20:49:57.908337Z",
     "start_time": "2017-09-04T20:49:57.903176Z"
    },
    "collapsed": true
   },
   "outputs": [],
   "source": [
    "def f(x):\n",
    "    print(x)"
   ]
  },
  {
   "cell_type": "code",
   "execution_count": 30,
   "metadata": {
    "ExecuteTime": {
     "end_time": "2017-09-04T20:49:57.931551Z",
     "start_time": "2017-09-04T20:49:57.909628Z"
    }
   },
   "outputs": [
    {
     "data": {
      "application/vnd.jupyter.widget-view+json": {
       "model_id": "604b6f279da54dc5ac4f90addaea8d1d",
       "version_major": 2,
       "version_minor": 0
      },
      "text/plain": [
       "A Jupyter Widget"
      ]
     },
     "metadata": {},
     "output_type": "display_data"
    }
   ],
   "source": [
    "#now we'll create an interactive ui\n",
    "interact(f,x=2.);"
   ]
  },
  {
   "cell_type": "code",
   "execution_count": 31,
   "metadata": {
    "ExecuteTime": {
     "end_time": "2017-09-04T20:49:57.961830Z",
     "start_time": "2017-09-04T20:49:57.933686Z"
    }
   },
   "outputs": [
    {
     "data": {
      "application/vnd.jupyter.widget-view+json": {
       "model_id": "a86ed1ef794445f7b3c20c899e905c85",
       "version_major": 2,
       "version_minor": 0
      },
      "text/plain": [
       "A Jupyter Widget"
      ]
     },
     "metadata": {},
     "output_type": "display_data"
    }
   ],
   "source": [
    "#interact will create a checkbox if you pass it a bool\n",
    "interact(f,x=True);"
   ]
  },
  {
   "cell_type": "code",
   "execution_count": 32,
   "metadata": {
    "ExecuteTime": {
     "end_time": "2017-09-04T20:49:57.988896Z",
     "start_time": "2017-09-04T20:49:57.963551Z"
    },
    "scrolled": false
   },
   "outputs": [
    {
     "data": {
      "application/vnd.jupyter.widget-view+json": {
       "model_id": "9a454be6d43e4b748a8356b424de247b",
       "version_major": 2,
       "version_minor": 0
      },
      "text/plain": [
       "A Jupyter Widget"
      ]
     },
     "metadata": {},
     "output_type": "display_data"
    }
   ],
   "source": [
    "#interact will create a text area if you pass it a string\n",
    "interact(f,x=\"Your text here\");"
   ]
  },
  {
   "cell_type": "code",
   "execution_count": 33,
   "metadata": {
    "ExecuteTime": {
     "end_time": "2017-09-04T20:49:58.041863Z",
     "start_time": "2017-09-04T20:49:57.990904Z"
    }
   },
   "outputs": [
    {
     "data": {
      "application/vnd.jupyter.widget-view+json": {
       "model_id": "378db8f064cb49d78122608f3e7549d9",
       "version_major": 2,
       "version_minor": 0
      },
      "text/plain": [
       "A Jupyter Widget"
      ]
     },
     "metadata": {},
     "output_type": "display_data"
    },
    {
     "data": {
      "application/vnd.jupyter.widget-view+json": {
       "model_id": "e1c3650bbba64683a0825d379950c8f4",
       "version_major": 2,
       "version_minor": 0
      },
      "text/plain": [
       "A Jupyter Widget"
      ]
     },
     "metadata": {},
     "output_type": "display_data"
    }
   ],
   "source": [
    "#interact will create a dropdown if you pass it a list or dict\n",
    "interact(f,x=[\"Option 1\", \"Option 2\"]);\n",
    "interact(f,x={\"Option 1\":1, \"Option 2\":2});"
   ]
  },
  {
   "cell_type": "markdown",
   "metadata": {},
   "source": [
    "Now these examples are fine, but they don't do much. We've already seen that jupyter cand do inline plotting, so now we'll make an inline interactive plot. We turned on inline plotting earlier, so now we just need a function that accepts a parameter and draws a plot."
   ]
  },
  {
   "cell_type": "code",
   "execution_count": 34,
   "metadata": {
    "ExecuteTime": {
     "end_time": "2017-09-04T20:49:58.047592Z",
     "start_time": "2017-09-04T20:49:58.043641Z"
    },
    "collapsed": true
   },
   "outputs": [],
   "source": [
    "def plotpower(a):\n",
    "    x = np.linspace(1,10,100)\n",
    "    y = x**a\n",
    "    plt.plot(x,y)"
   ]
  },
  {
   "cell_type": "code",
   "execution_count": 35,
   "metadata": {
    "ExecuteTime": {
     "end_time": "2017-09-04T20:49:58.224677Z",
     "start_time": "2017-09-04T20:49:58.049337Z"
    }
   },
   "outputs": [
    {
     "data": {
      "application/vnd.jupyter.widget-view+json": {
       "model_id": "a157d47f2a544c55be4bb9923ca8087f",
       "version_major": 2,
       "version_minor": 0
      },
      "text/plain": [
       "A Jupyter Widget"
      ]
     },
     "metadata": {},
     "output_type": "display_data"
    }
   ],
   "source": [
    "interact(plotpower, a = 2.);"
   ]
  },
  {
   "cell_type": "markdown",
   "metadata": {},
   "source": [
    "## interactive\n",
    "What if we want to get the value of a? `interact` is a shortcut that makes and displays the widget object for you based on your inputs, `interactive` just creates and returns the widget object. You'll need to use `Ipython.display.display` to view the widget."
   ]
  },
  {
   "cell_type": "code",
   "execution_count": 36,
   "metadata": {
    "ExecuteTime": {
     "end_time": "2017-09-04T20:49:58.247184Z",
     "start_time": "2017-09-04T20:49:58.226416Z"
    },
    "collapsed": true
   },
   "outputs": [],
   "source": [
    "widg_obj = interactive(plotpower, a = 2.);"
   ]
  },
  {
   "cell_type": "code",
   "execution_count": 37,
   "metadata": {
    "ExecuteTime": {
     "end_time": "2017-09-04T20:49:58.493652Z",
     "start_time": "2017-09-04T20:49:58.249252Z"
    }
   },
   "outputs": [
    {
     "data": {
      "application/vnd.jupyter.widget-view+json": {
       "model_id": "e6fb11be4c2c45d0bb3e1b7560537bf5",
       "version_major": 2,
       "version_minor": 0
      },
      "text/plain": [
       "A Jupyter Widget"
      ]
     },
     "metadata": {},
     "output_type": "display_data"
    }
   ],
   "source": [
    "from IPython.display import display\n",
    "display(widg_obj)"
   ]
  },
  {
   "cell_type": "markdown",
   "metadata": {},
   "source": [
    "Now that you've got a widget object the `.kwargs` property holds the interactively defined value of your inputs."
   ]
  },
  {
   "cell_type": "code",
   "execution_count": 38,
   "metadata": {
    "ExecuteTime": {
     "end_time": "2017-09-04T20:50:05.556308Z",
     "start_time": "2017-09-04T20:50:05.552575Z"
    }
   },
   "outputs": [
    {
     "data": {
      "text/plain": [
       "{'a': 2.0}"
      ]
     },
     "execution_count": 38,
     "metadata": {},
     "output_type": "execute_result"
    }
   ],
   "source": [
    "widg_obj.kwargs"
   ]
  },
  {
   "cell_type": "markdown",
   "metadata": {},
   "source": [
    "### widget exercise\n",
    "\n",
    "Below you can find a simple function to plot a trigonometric function that takes three input parameters. Create a widget that allows the three input parameters to be manipulated interactively. You might need to debug trig_plot."
   ]
  },
  {
   "cell_type": "code",
   "execution_count": 39,
   "metadata": {
    "ExecuteTime": {
     "end_time": "2017-09-04T20:50:08.903032Z",
     "start_time": "2017-09-04T20:50:08.889279Z"
    },
    "collapsed": true
   },
   "outputs": [],
   "source": [
    "def trig_plot(frequency, amplitude, fx_name= 'sin'):\n",
    "    \"\"\"Plot a trigonometric function for values of x between 0 and 2pi.\n",
    "    Function plotted will be fx(x*frequency)*amplitude.\n",
    "    \n",
    "    Parameters\n",
    "    ----------\n",
    "    frequency: float or int indicated frequency\n",
    "    amplitude: float or int indicated amplitude\n",
    "    fx_name: string indicated the trigonmetric function to plot, should be one of sin, cos, or tan\n",
    "    \"\"\"\n",
    "    if fx_name == 'cos ':\n",
    "        fx = np.cos\n",
    "    elif fx_name == 'tan ':\n",
    "        fx = np.tan\n",
    "    elif fx_name == 'sin ':\n",
    "        fx = np.sin\n",
    "    else:\n",
    "        raise NotImplementedError(\"The function %s has not been implemented\"%fx_name)\n",
    "    x = np.linspace(0,2*np.pi,100)\n",
    "    y = fx(frequency * x)*amplitude\n",
    "    plt.plot(x,y)\n",
    "    \n",
    "    return y"
   ]
  },
  {
   "cell_type": "code",
   "execution_count": null,
   "metadata": {
    "collapsed": true
   },
   "outputs": [],
   "source": []
  },
  {
   "cell_type": "markdown",
   "metadata": {
    "ExecuteTime": {
     "end_time": "2017-09-04T20:43:09.681108Z",
     "start_time": "2017-09-04T20:43:09.677501Z"
    }
   },
   "source": [
    "Now assign the result of your interactive plot to a variable `tp_res` and the arguments to `tp_args`."
   ]
  },
  {
   "cell_type": "code",
   "execution_count": null,
   "metadata": {
    "collapsed": true
   },
   "outputs": [],
   "source": []
  },
  {
   "cell_type": "markdown",
   "metadata": {},
   "source": [
    "## Niwidgets\n",
    "[Niwidgets](https://github.com/janfreyberg/niwidgets) lets you interactively explore neuroimaging data in yor notebook."
   ]
  },
  {
   "cell_type": "code",
   "execution_count": 40,
   "metadata": {
    "ExecuteTime": {
     "end_time": "2017-09-04T20:50:17.861240Z",
     "start_time": "2017-09-04T20:50:16.976194Z"
    }
   },
   "outputs": [
    {
     "name": "stdout",
     "output_type": "stream",
     "text": [
      "Requirement already satisfied: niwidgets in /Users/nielsond/miniconda3/envs/nhw_ipynb/lib/python3.6/site-packages\n",
      "Requirement already satisfied: ipywidgets in /Users/nielsond/miniconda3/envs/nhw_ipynb/lib/python3.6/site-packages (from niwidgets)\n",
      "Requirement already satisfied: nilearn in /Users/nielsond/miniconda3/envs/nhw_ipynb/lib/python3.6/site-packages (from niwidgets)\n",
      "Requirement already satisfied: nibabel in /Users/nielsond/miniconda3/envs/nhw_ipynb/lib/python3.6/site-packages (from niwidgets)\n",
      "Requirement already satisfied: ipython>=4.0.0; python_version >= \"3.3\" in /Users/nielsond/miniconda3/envs/nhw_ipynb/lib/python3.6/site-packages (from ipywidgets->niwidgets)\n",
      "Requirement already satisfied: nbformat>=4.2.0 in /Users/nielsond/miniconda3/envs/nhw_ipynb/lib/python3.6/site-packages (from ipywidgets->niwidgets)\n",
      "Requirement already satisfied: traitlets>=4.3.1 in /Users/nielsond/miniconda3/envs/nhw_ipynb/lib/python3.6/site-packages (from ipywidgets->niwidgets)\n",
      "Requirement already satisfied: ipykernel>=4.5.1 in /Users/nielsond/miniconda3/envs/nhw_ipynb/lib/python3.6/site-packages (from ipywidgets->niwidgets)\n",
      "Requirement already satisfied: widgetsnbextension~=3.0.0 in /Users/nielsond/miniconda3/envs/nhw_ipynb/lib/python3.6/site-packages (from ipywidgets->niwidgets)\n",
      "Requirement already satisfied: notebook>=4.4.1 in /Users/nielsond/miniconda3/envs/nhw_ipynb/lib/python3.6/site-packages (from widgetsnbextension~=3.0.0->ipywidgets->niwidgets)\n"
     ]
    }
   ],
   "source": [
    "!pip install niwidgets"
   ]
  },
  {
   "cell_type": "code",
   "execution_count": 41,
   "metadata": {
    "ExecuteTime": {
     "end_time": "2017-09-04T20:50:21.189845Z",
     "start_time": "2017-09-04T20:50:20.196473Z"
    }
   },
   "outputs": [
    {
     "data": {
      "application/vnd.jupyter.widget-view+json": {
       "model_id": "b5447f298b6c4d8d9a77fd81d36375bb",
       "version_major": 2,
       "version_minor": 0
      },
      "text/plain": [
       "A Jupyter Widget"
      ]
     },
     "metadata": {},
     "output_type": "display_data"
    }
   ],
   "source": [
    "from niwidgets import NiftiWidget\n",
    "\n",
    "from niwidgets import examplet1\n",
    "\n",
    "test_widget = NiftiWidget(examplet1)\n",
    "test_widget.nifti_plotter()"
   ]
  },
  {
   "cell_type": "code",
   "execution_count": 42,
   "metadata": {
    "ExecuteTime": {
     "end_time": "2017-09-04T20:50:23.255867Z",
     "start_time": "2017-09-04T20:50:21.200821Z"
    }
   },
   "outputs": [
    {
     "data": {
      "application/vnd.jupyter.widget-view+json": {
       "model_id": "0db66606298d43f69e2fcf8d012ae76b",
       "version_major": 2,
       "version_minor": 0
      },
      "text/plain": [
       "A Jupyter Widget"
      ]
     },
     "metadata": {},
     "output_type": "display_data"
    }
   ],
   "source": [
    "from niwidgets import examplezmap\n",
    "import nilearn.plotting as nip\n",
    "\n",
    "test = NiftiWidget(examplezmap)\n",
    "test.nifti_plotter(plotting_func=nip.plot_glass_brain, threshold=(0.0, 10.0, 0.01),\n",
    "                   display_mode=['ortho','xz'])"
   ]
  },
  {
   "cell_type": "markdown",
   "metadata": {},
   "source": [
    "# Beyond Python\n",
    "Jupyter notebooks aren't just for Python. Jupyter actually referst to JUlia PYThon and R. It's easy to install other kernels with anaconda."
   ]
  },
  {
   "cell_type": "markdown",
   "metadata": {
    "ExecuteTime": {
     "end_time": "2017-09-04T13:26:01.428720Z",
     "start_time": "2017-09-04T13:25:56.245854Z"
    }
   },
   "source": [
    "## Julia\n",
    "From [Julia's docs](https://docs.julialang.org/en/stable/manual/introduction/): \"The Julia programming language... is a flexible dynamic language, appropriate for scientific and numerical computing, with performance comparable to traditional statically-typed languages.\"\n",
    "\n",
    "To run julia in Jupyter note books, you'll first need to install julia. You can download the package for your machine from [here](https://julialang.org/downloads/). "
   ]
  },
  {
   "cell_type": "code",
   "execution_count": 43,
   "metadata": {
    "ExecuteTime": {
     "end_time": "2017-09-04T20:50:38.454223Z",
     "start_time": "2017-09-04T20:50:38.427840Z"
    }
   },
   "outputs": [
    {
     "name": "stdout",
     "output_type": "stream",
     "text": [
      "ENV[\"JUPYTER\"]=\"/Users/nielsond/miniconda3/envs/nhw_ipynb/bin/jupyter\"\n",
      "Pkg.add(\"IJulia\")\n",
      "Pkg.build(\"IJulia\")\n"
     ]
    }
   ],
   "source": [
    "# This will print out what you need to put ininstall_ijulia.jl\n",
    "jupyter_path = !which jupyter\n",
    "print('ENV[\"JUPYTER\"]=\"%s\"'%jupyter_path[0])\n",
    "print('Pkg.add(\"IJulia\")')\n",
    "print('Pkg.build(\"IJulia\")')"
   ]
  },
  {
   "cell_type": "markdown",
   "metadata": {},
   "source": [
    "Use a writefile magic to write the output of the above cell to a file called install_ijulia.jl"
   ]
  },
  {
   "cell_type": "code",
   "execution_count": null,
   "metadata": {
    "collapsed": true
   },
   "outputs": [],
   "source": []
  },
  {
   "cell_type": "code",
   "execution_count": 17,
   "metadata": {
    "ExecuteTime": {
     "end_time": "2017-09-04T14:08:34.735859Z",
     "start_time": "2017-09-04T14:08:06.061043Z"
    }
   },
   "outputs": [
    {
     "name": "stdout",
     "output_type": "stream",
     "text": [
      "INFO: Package IJulia is already installed\n",
      "INFO: Building Conda\n",
      "INFO: Building Homebrew\n",
      "INFO: Building MbedTLS\n",
      "INFO: Building ZMQ\n",
      "WARNING: Compat.KERNEL is deprecated.\n",
      "  likely near /Users/nielsond/.julia/v0.6/ZMQ/deps/build.jl:35\n",
      "WARNING: Compat.KERNEL is deprecated.\n",
      "  likely near /Users/nielsond/.julia/v0.6/ZMQ/deps/build.jl:35\n",
      "in can_use at /Users/nielsond/.julia/v0.6/Homebrew/src/bindeps_integration.jl\n",
      "WARNING: Compat.KERNEL is deprecated.\n",
      "  likely near /Users/nielsond/.julia/v0.6/ZMQ/deps/build.jl:35\n",
      "in package_available at /Users/nielsond/.julia/v0.6/Homebrew/src/bindeps_integration.jl\n",
      "INFO: Building IJulia\n",
      "INFO: Found Jupyter version 4.3.0: /Users/nielsond/miniconda3/envs/nhw_ipynb/bin/jupyter\n",
      "INFO: Installing Julia kernelspec julia-0.6\n",
      "[InstallKernelSpec] Removing existing kernelspec in /Users/nielsond/Library/Jupyter/kernels/julia-0.6\n",
      "[InstallKernelSpec] Installed kernelspec julia-0.6 in /Users/nielsond/Library/Jupyter/kernels/julia-0.6\n"
     ]
    }
   ],
   "source": [
    "!/Applications/Julia-0.6.app/Contents/Resources/julia/bin/julia ./install_ijulia.jl"
   ]
  },
  {
   "cell_type": "markdown",
   "metadata": {},
   "source": [
    "Now unfortunately you'll need to restart your jupyter server for it to find the new kernels. If you're following along on jupyter hub, you won't be able to do this."
   ]
  },
  {
   "cell_type": "markdown",
   "metadata": {
    "ExecuteTime": {
     "end_time": "2017-09-04T14:09:56.873811Z",
     "start_time": "2017-09-04T14:09:56.871382Z"
    }
   },
   "source": [
    "## R"
   ]
  },
  {
   "cell_type": "code",
   "execution_count": 56,
   "metadata": {
    "ExecuteTime": {
     "end_time": "2017-09-01T12:41:46.573474Z",
     "start_time": "2017-09-01T12:31:07.491122Z"
    }
   },
   "outputs": [
    {
     "name": "stdout",
     "output_type": "stream",
     "text": [
      "Fetching package metadata ...........\n",
      "Solving package specifications: .\n",
      "\n",
      "Package plan for installation in environment /Users/nielsond/miniconda3/envs/nhw_ipynb:\n",
      "\n",
      "The following NEW packages will be INSTALLED:\n",
      "\n",
      "    cairo:          1.14.8-0            \n",
      "    curl:           7.54.1-0            \n",
      "    fontconfig:     2.12.1-3            \n",
      "    gettext:        0.19.8-1            \n",
      "    glib:           2.50.2-1            \n",
      "    gsl:            2.2.1-0             \n",
      "    harfbuzz:       0.9.39-2            \n",
      "    jbig:           2.1-0               \n",
      "    jpeg:           9b-0                \n",
      "    krb5:           1.13.2-0            \n",
      "    libffi:         3.2.1-1             \n",
      "    libgcc:         4.8.5-1             \n",
      "    libiconv:       1.14-0              \n",
      "    libssh2:        1.8.0-0             \n",
      "    libtiff:        4.0.6-3             \n",
      "    libxml2:        2.9.4-0             \n",
      "    ncurses:        5.9-10              \n",
      "    pandoc:         1.19.2.1-0          \n",
      "    pango:          1.40.3-1            \n",
      "    pcre:           8.39-1              \n",
      "    pixman:         0.34.0-0            \n",
      "    r-assertthat:   0.2.0-r3.4.1_0     r\n",
      "    r-backports:    1.1.0-r3.4.1_0     r\n",
      "    r-base:         3.4.1-0            r\n",
      "    r-base64enc:    0.1_3-r3.4.1_0     r\n",
      "    r-bh:           1.62.0_1-r3.4.1_0  r\n",
      "    r-bindr:        0.1-r3.4.1_0       r\n",
      "    r-bindrcpp:     0.2-r3.4.1_0       r\n",
      "    r-bitops:       1.0_6-r3.4.1_2     r\n",
      "    r-boot:         1.3_19-r3.4.1_0    r\n",
      "    r-broom:        0.4.2-r3.4.1_0     r\n",
      "    r-car:          2.1_4-r3.4.1_0     r\n",
      "    r-caret:        6.0_76-r3.4.1_0    r\n",
      "    r-catools:      1.17.1-r3.4.1_2    r\n",
      "    r-cellranger:   1.1.0-r3.4.1_0     r\n",
      "    r-class:        7.3_14-r3.4.1_0    r\n",
      "    r-cluster:      2.0.6-r3.4.1_0     r\n",
      "    r-codetools:    0.2_15-r3.4.1_0    r\n",
      "    r-colorspace:   1.3_2-r3.4.1_0     r\n",
      "    r-crayon:       1.3.2-r3.4.1_0     r\n",
      "    r-curl:         2.6-r3.4.1_0       r\n",
      "    r-data.table:   1.10.4-r3.4.1_0    r\n",
      "    r-dbi:          0.6_1-r3.4.1_0     r\n",
      "    r-dichromat:    2.0_0-r3.4.1_2     r\n",
      "    r-digest:       0.6.12-r3.4.1_0    r\n",
      "    r-dplyr:        0.7.0-r3.4.1_0     r\n",
      "    r-essentials:   1.6.0-r3.4.1_0     r\n",
      "    r-evaluate:     0.10-r3.4.1_0      r\n",
      "    r-forcats:      0.2.0-r3.4.1_0     r\n",
      "    r-foreach:      1.4.3-r3.4.1_0     r\n",
      "    r-foreign:      0.8_68-r3.4.1_0    r\n",
      "    r-formatr:      1.5-r3.4.1_0       r\n",
      "    r-ggplot2:      2.2.1-r3.4.1_0     r\n",
      "    r-gistr:        0.4.0-r3.4.1_0     r\n",
      "    r-glmnet:       2.0_10-r3.4.1_0    r\n",
      "    r-glue:         1.1.1-r3.4.1_0     r\n",
      "    r-gtable:       0.2.0-r3.4.1_0     r\n",
      "    r-haven:        1.0.0-r3.4.1_0     r\n",
      "    r-hexbin:       1.27.1-r3.4.1_0    r\n",
      "    r-highr:        0.6-r3.4.1_0       r\n",
      "    r-hms:          0.3-r3.4.1_0       r\n",
      "    r-htmltools:    0.3.6-r3.4.1_0     r\n",
      "    r-htmlwidgets:  0.8-r3.4.1_1       r\n",
      "    r-httpuv:       1.3.3-r3.4.1_0     r\n",
      "    r-httr:         1.2.1-r3.4.1_0     r\n",
      "    r-irdisplay:    0.4.4-r3.4.1_0     r\n",
      "    r-irkernel:     0.7.1-r3.4.1_0     r\n",
      "    r-iterators:    1.0.8-r3.4.1_0     r\n",
      "    r-jsonlite:     1.5-r3.4.1_0       r\n",
      "    r-kernsmooth:   2.23_15-r3.4.1_0   r\n",
      "    r-knitr:        1.16-r3.4.1_0      r\n",
      "    r-labeling:     0.3-r3.4.1_2       r\n",
      "    r-lattice:      0.20_35-r3.4.1_0   r\n",
      "    r-lazyeval:     0.2.0-r3.4.1_0     r\n",
      "    r-lme4:         1.1_13-r3.4.1_0    r\n",
      "    r-lubridate:    1.6.0-r3.4.1_0     r\n",
      "    r-magrittr:     1.5-r3.4.1_2       r\n",
      "    r-maps:         3.2.0-r3.4.1_0     r\n",
      "    r-markdown:     0.8-r3.4.1_0       r\n",
      "    r-mass:         7.3_47-r3.4.1_0    r\n",
      "    r-matrix:       1.2_10-r3.4.1_0    r\n",
      "    r-matrixmodels: 0.4_1-r3.4.1_0     r\n",
      "    r-mgcv:         1.8_17-r3.4.1_0    r\n",
      "    r-mime:         0.5-r3.4.1_0       r\n",
      "    r-minqa:        1.2.4-r3.4.1_2     r\n",
      "    r-mnormt:       1.5_5-r3.4.1_0     r\n",
      "    r-modelmetrics: 1.1.0-r3.4.1_0     r\n",
      "    r-modelr:       0.1.0-r3.4.1_0     r\n",
      "    r-munsell:      0.4.3-r3.4.1_0     r\n",
      "    r-nlme:         3.1_131-r3.4.1_0   r\n",
      "    r-nloptr:       1.0.4-r3.4.1_2     r\n",
      "    r-nnet:         7.3_12-r3.4.1_0    r\n",
      "    r-openssl:      0.9.6-r3.4.1_0     r\n",
      "    r-pbdzmq:       0.2_6-r3.4.1_0     r\n",
      "    r-pbkrtest:     0.4_7-r3.4.1_0     r\n",
      "    r-pkgconfig:    2.0.1-r3.4.1_0     r\n",
      "    r-plogr:        0.1_1-r3.4.1_0     r\n",
      "    r-plyr:         1.8.4-r3.4.1_0     r\n",
      "    r-pryr:         0.1.2-r3.4.1_0     r\n",
      "    r-psych:        1.7.5-r3.4.1_0     r\n",
      "    r-purrr:        0.2.2.2-r3.4.1_0   r\n",
      "    r-quantmod:     0.4_9-r3.4.1_0     r\n",
      "    r-quantreg:     5.33-r3.4.1_0      r\n",
      "    r-r6:           2.2.1-r3.4.1_0     r\n",
      "    r-randomforest: 4.6_12-r3.4.1_0    r\n",
      "    r-rbokeh:       0.5.0-r3.4.1_0     r\n",
      "    r-rcolorbrewer: 1.1_2-r3.4.1_3     r\n",
      "    r-rcpp:         0.12.11-r3.4.1_0   r\n",
      "    r-rcppeigen:    0.3.3.3.0-r3.4.1_0 r\n",
      "    r-readr:        1.1.1-r3.4.1_0     r\n",
      "    r-readxl:       1.0.0-r3.4.1_0     r\n",
      "    r-recommended:  3.4.1-r3.4.1_0     r\n",
      "    r-rematch:      1.0.1-r3.4.1_0     r\n",
      "    r-repr:         0.10-r3.4.1_0      r\n",
      "    r-reshape2:     1.4.2-r3.4.1_0     r\n",
      "    r-rlang:        0.1.1-r3.4.1_0     r\n",
      "    r-rmarkdown:    1.5-r3.4.1_0       r\n",
      "    r-rpart:        4.1_11-r3.4.1_0    r\n",
      "    r-rprojroot:    1.2-r3.4.1_0       r\n",
      "    r-rvest:        0.3.2-r3.4.1_0     r\n",
      "    r-scales:       0.4.1-r3.4.1_0     r\n",
      "    r-selectr:      0.3_1-r3.4.1_0     r\n",
      "    r-shiny:        1.0.3-r3.4.1_0     r\n",
      "    r-sourcetools:  0.1.6-r3.4.1_0     r\n",
      "    r-sparsem:      1.77-r3.4.1_0      r\n",
      "    r-spatial:      7.3_11-r3.4.1_0    r\n",
      "    r-stringi:      1.1.5-r3.4.1_0     r\n",
      "    r-stringr:      1.2.0-r3.4.1_0     r\n",
      "    r-survival:     2.41_3-r3.4.1_0    r\n",
      "    r-tibble:       1.3.3-r3.4.1_0     r\n",
      "    r-tidyr:        0.6.3-r3.4.1_0     r\n",
      "    r-tidyverse:    1.1.1-r3.4.1_0     r\n",
      "    r-ttr:          0.23_1-r3.4.1_0    r\n",
      "    r-uuid:         0.1_2-r3.4.1_0     r\n",
      "    r-xml2:         1.1.1-r3.4.1_0     r\n",
      "    r-xtable:       1.8_2-r3.4.1_0     r\n",
      "    r-xts:          0.9_7-r3.4.1_2     r\n",
      "    r-yaml:         2.1.14-r3.4.1_0    r\n",
      "    r-zoo:          1.8_0-r3.4.1_0     r\n",
      "    zeromq:         4.1.3-0             \n",
      "\n",
      "pandoc-1.19.2. 100% |################################| Time: 0:01:08 493.46 kB/s\n",
      "curl-7.54.1-0. 100% |################################| Time: 0:00:00 910.95 kB/s\n",
      "r-base-3.4.1-0 100% |################################| Time: 0:00:33 705.97 kB/s\n",
      "r-assertthat-0 100% |################################| Time: 0:00:00 361.83 kB/s\n",
      "r-backports-1. 100% |################################| Time: 0:00:00 223.40 kB/s\n",
      "r-base64enc-0. 100% |################################| Time: 0:00:00 174.49 kB/s\n",
      "r-bh-1.62.0_1- 100% |################################| Time: 0:00:10 875.34 kB/s\n",
      "r-bindr-0.1-r3 100% |################################| Time: 0:00:00 105.62 kB/s\n",
      "r-bitops-1.0_6 100% |################################| Time: 0:00:00 180.66 kB/s\n",
      "r-boot-1.3_19- 100% |################################| Time: 0:00:02 224.09 kB/s\n",
      "r-cluster-2.0. 100% |################################| Time: 0:00:00 848.58 kB/s\n",
      "r-codetools-0. 100% |################################| Time: 0:00:00 504.06 kB/s\n",
      "r-colorspace-1 100% |################################| Time: 0:00:00 672.65 kB/s\n",
      "r-crayon-1.3.2 100% |################################| Time: 0:00:01 591.90 kB/s\n",
      "r-curl-2.6-r3. 100% |################################| Time: 0:00:00 588.73 kB/s\n",
      "r-data.table-1 100% |################################| Time: 0:00:01 894.56 kB/s\n",
      "r-dbi-0.6_1-r3 100% |################################| Time: 0:00:01 688.62 kB/s\n",
      "r-dichromat-2. 100% |################################| Time: 0:00:00 327.43 kB/s\n",
      "r-digest-0.6.1 100% |################################| Time: 0:00:00 807.07 kB/s\n",
      "r-foreign-0.8_ 100% |################################| Time: 0:00:00 886.28 kB/s\n",
      "r-formatr-1.5- 100% |################################| Time: 0:00:00 931.14 kB/s\n",
      "r-glue-1.1.1-r 100% |################################| Time: 0:00:00 578.37 kB/s\n",
      "r-gtable-0.2.0 100% |################################| Time: 0:00:00 906.09 kB/s\n",
      "r-highr-0.6-r3 100% |################################| Time: 0:00:00 356.11 kB/s\n",
      "r-hms-0.3-r3.4 100% |################################| Time: 0:00:00 343.01 kB/s\n",
      "r-iterators-1. 100% |################################| Time: 0:00:04  70.01 kB/s\n",
      "r-jsonlite-1.5 100% |################################| Time: 0:00:12  81.79 kB/s\n",
      "r-kernsmooth-2 100% |################################| Time: 0:00:00 202.48 kB/s\n",
      "r-labeling-0.3 100% |################################| Time: 0:00:00 285.27 kB/s\n",
      "r-lattice-0.20 100% |################################| Time: 0:00:01 429.31 kB/s\n",
      "r-lazyeval-0.2 100% |################################| Time: 0:00:01  97.51 kB/s\n",
      "r-magrittr-1.5 100% |################################| Time: 0:00:01 105.35 kB/s\n",
      "r-maps-3.2.0-r 100% |################################| Time: 0:00:23 151.29 kB/s\n",
      "r-mass-7.3_47- 100% |################################| Time: 0:00:01 711.69 kB/s\n",
      "r-mime-0.5-r3. 100% |################################| Time: 0:00:00 403.72 kB/s\n",
      "r-mnormt-1.5_5 100% |################################| Time: 0:00:00   1.29 MB/s\n",
      "r-nloptr-1.0.4 100% |################################| Time: 0:00:00   1.05 MB/s\n",
      "r-nnet-7.3_12- 100% |################################| Time: 0:00:00   1.07 MB/s\n",
      "r-openssl-0.9. 100% |################################| Time: 0:00:01 645.91 kB/s\n",
      "r-pkgconfig-2. 100% |################################| Time: 0:00:00 426.40 kB/s\n",
      "r-plogr-0.1_1- 100% |################################| Time: 0:00:00 198.48 kB/s\n",
      "r-r6-2.2.1-r3. 100% |################################| Time: 0:00:00 650.58 kB/s\n",
      "r-randomforest 100% |################################| Time: 0:00:00 684.52 kB/s\n",
      "r-rcolorbrewer 100% |################################| Time: 0:00:00 385.75 kB/s\n",
      "r-rcpp-0.12.11 100% |################################| Time: 0:00:03 747.30 kB/s\n",
      "r-rematch-1.0. 100% |################################| Time: 0:00:00 347.49 kB/s\n",
      "r-repr-0.10-r3 100% |################################| Time: 0:00:00 811.87 kB/s\n",
      "r-rlang-0.1.1- 100% |################################| Time: 0:00:00 603.62 kB/s\n",
      "r-rpart-4.1_11 100% |################################| Time: 0:00:02 390.17 kB/s\n",
      "r-sourcetools- 100% |################################| Time: 0:00:00  76.64 kB/s\n",
      "r-sparsem-1.77 100% |################################| Time: 0:00:02 332.28 kB/s\n",
      "r-spatial-7.3_ 100% |################################| Time: 0:00:00 815.09 kB/s\n",
      "r-stringi-1.1. 100% |################################| Time: 0:00:14 794.11 kB/s\n",
      "r-uuid-0.1_2-r 100% |################################| Time: 0:00:00 420.54 kB/s\n",
      "r-xtable-1.8_2 100% |################################| Time: 0:00:00   1.02 MB/s\n",
      "r-yaml-2.1.14- 100% |################################| Time: 0:00:00   1.13 MB/s\n",
      "r-bindrcpp-0.2 100% |################################| Time: 0:00:00 789.27 kB/s\n",
      "r-catools-1.17 100% |################################| Time: 0:00:00 625.35 kB/s\n",
      "r-class-7.3_14 100% |################################| Time: 0:00:00 614.67 kB/s\n",
      "r-foreach-1.4. 100% |################################| Time: 0:00:01 352.60 kB/s\n",
      "r-hexbin-1.27. 100% |################################| Time: 0:00:00   1.02 MB/s\n",
      "r-htmltools-0. 100% |################################| Time: 0:00:00   1.04 MB/s\n",
      "r-httpuv-1.3.3 100% |################################| Time: 0:00:00 720.38 kB/s\n",
      "r-httr-1.2.1-r 100% |################################| Time: 0:00:00 798.65 kB/s\n",
      "r-irdisplay-0. 100% |################################| Time: 0:00:00 578.52 kB/s\n",
      "r-markdown-0.8 100% |################################| Time: 0:00:00 194.99 kB/s\n",
      "r-matrix-1.2_1 100% |################################| Time: 0:00:04 591.14 kB/s\n",
      "r-minqa-1.2.4- 100% |################################| Time: 0:00:00 382.11 kB/s\n",
      "r-modelmetrics 100% |################################| Time: 0:00:00 630.49 kB/s\n",
      "r-munsell-0.4. 100% |################################| Time: 0:00:00 608.76 kB/s\n",
      "r-nlme-3.1_131 100% |################################| Time: 0:00:02   1.04 MB/s\n",
      "r-pbdzmq-0.2_6 100% |################################| Time: 0:00:00 797.29 kB/s\n",
      "r-plyr-1.8.4-r 100% |################################| Time: 0:00:02 320.29 kB/s\n",
      "r-rprojroot-1. 100% |################################| Time: 0:00:00 355.97 kB/s\n",
      "r-stringr-1.2. 100% |################################| Time: 0:00:00 374.83 kB/s\n",
      "r-tibble-1.3.3 100% |################################| Time: 0:00:01 150.03 kB/s\n",
      "r-xml2-1.1.1-r 100% |################################| Time: 0:00:00 392.77 kB/s\n",
      "r-zoo-1.8_0-r3 100% |################################| Time: 0:00:02 329.32 kB/s\n",
      "r-cellranger-1 100% |################################| Time: 0:00:00 541.91 kB/s\n",
      "r-dplyr-0.7.0- 100% |################################| Time: 0:00:06 256.61 kB/s\n",
      "r-evaluate-0.1 100% |################################| Time: 0:00:00  74.97 kB/s\n",
      "r-forcats-0.2. 100% |################################| Time: 0:00:01 139.50 kB/s\n",
      "r-glmnet-2.0_1 100% |################################| Time: 0:00:09 141.46 kB/s\n",
      "r-htmlwidgets- 100% |################################| Time: 0:00:11  68.81 kB/s\n",
      "r-lubridate-1. 100% |################################| Time: 0:00:04 142.29 kB/s\n",
      "r-matrixmodels 100% |################################| Time: 0:00:03  81.09 kB/s\n",
      "r-mgcv-1.8_17- 100% |################################| Time: 0:00:27  89.08 kB/s\n",
      "r-pryr-0.1.2-r 100% |################################| Time: 0:00:00 209.12 kB/s\n",
      "r-psych-1.7.5- 100% |################################| Time: 0:00:24 165.49 kB/s\n",
      "r-purrr-0.2.2. 100% |################################| Time: 0:00:01  88.30 kB/s\n",
      "r-rcppeigen-0. 100% |################################| Time: 0:00:13 143.19 kB/s\n",
      "r-readr-1.1.1- 100% |################################| Time: 0:00:01 314.32 kB/s\n",
      "r-reshape2-1.4 100% |################################| Time: 0:00:00 275.51 kB/s\n",
      "r-scales-0.4.1 100% |################################| Time: 0:00:00 392.59 kB/s\n",
      "r-selectr-0.3_ 100% |################################| Time: 0:00:01 155.03 kB/s\n",
      "r-shiny-1.0.3- 100% |################################| Time: 0:00:06 400.87 kB/s\n",
      "r-survival-2.4 100% |################################| Time: 0:00:11 446.62 kB/s\n",
      "r-xts-0.9_7-r3 100% |################################| Time: 0:00:01 387.43 kB/s\n",
      "r-ggplot2-2.2. 100% |################################| Time: 0:00:08 334.84 kB/s\n",
      "r-haven-1.0.0- 100% |################################| Time: 0:00:01 160.18 kB/s\n",
      "r-irkernel-0.7 100% |################################| Time: 0:00:00 300.60 kB/s\n",
      "r-knitr-1.16-r 100% |################################| Time: 0:00:01 506.12 kB/s\n",
      "r-lme4-1.1_13- 100% |################################| Time: 0:00:11 391.88 kB/s\n",
      "r-quantreg-5.3 100% |################################| Time: 0:00:04 383.55 kB/s\n",
      "r-readxl-1.0.0 100% |################################| Time: 0:00:02 371.28 kB/s\n",
      "r-recommended- 100% |################################| Time: 0:00:00   8.73 kB/s\n",
      "r-rvest-0.3.2- 100% |################################| Time: 0:00:02 346.29 kB/s\n",
      "r-tidyr-0.6.3- 100% |################################| Time: 0:00:01 246.37 kB/s\n",
      "r-ttr-0.23_1-r 100% |################################| Time: 0:00:01 386.83 kB/s\n",
      "r-broom-0.4.2- 100% |################################| Time: 0:00:06 241.86 kB/s\n",
      "r-pbkrtest-0.4 100% |################################| Time: 0:00:01 153.06 kB/s\n",
      "r-quantmod-0.4 100% |################################| Time: 0:00:01 360.17 kB/s\n",
      "r-rmarkdown-1. 100% |################################| Time: 0:01:05  28.73 kB/s\n",
      "r-rmarkdown-1. 100% |################################| Time: 0:00:06 301.31 kB/s\n",
      "r-car-2.1_4-r3 100% |################################| Time: 0:00:02 618.62 kB/s\n",
      "r-gistr-0.4.0- 100% |################################| Time: 0:00:11 165.61 kB/s\n",
      "r-modelr-0.1.0 100% |################################| Time: 0:00:00 327.75 kB/s\n",
      "r-caret-6.0_76 100% |################################| Time: 0:00:04 688.03 kB/s\n",
      "r-rbokeh-0.5.0 100% |################################| Time: 0:00:01 744.75 kB/s\n",
      "r-tidyverse-1. 100% |################################| Time: 0:00:00 816.88 kB/s\n",
      "r-essentials-1 100% |################################| Time: 0:00:00 795.35 kB/s\n",
      "Fetching package metadata .........\n",
      "Solving package specifications: .\n",
      "\n",
      "Package plan for installation in environment /Users/nielsond/miniconda3/envs/nhw_ipynb:\n",
      "\n",
      "The following NEW packages will be INSTALLED:\n",
      "\n",
      "    rpy2:           2.8.6-py36r3.4.1_2\n",
      "    singledispatch: 3.4.0.3-py36_0    \n",
      "\n",
      "singledispatch 100% |################################| Time: 0:00:00 116.12 kB/s\n",
      "rpy2-2.8.6-py3 100% |################################| Time: 0:00:00 454.26 kB/s\n"
     ]
    }
   ],
   "source": [
    "!conda install -y -c r r-essentials\n",
    "#rpy2 lets python and R interact with each other.\n",
    "!conda install -y rpy2"
   ]
  },
  {
   "cell_type": "code",
   "execution_count": 2,
   "metadata": {
    "ExecuteTime": {
     "end_time": "2017-09-01T12:49:46.458160Z",
     "start_time": "2017-09-01T12:49:46.088818Z"
    },
    "collapsed": true
   },
   "outputs": [],
   "source": [
    "%load_ext rpy2.ipython"
   ]
  },
  {
   "cell_type": "code",
   "execution_count": 3,
   "metadata": {
    "ExecuteTime": {
     "end_time": "2017-09-01T12:49:47.763183Z",
     "start_time": "2017-09-01T12:49:47.324506Z"
    }
   },
   "outputs": [
    {
     "name": "stderr",
     "output_type": "stream",
     "text": [
      "/Users/nielsond/miniconda3/envs/nhw_ipynb/lib/python3.6/site-packages/rpy2/rinterface/__init__.py:186: RRuntimeWarning: Loading required package: ggplot2\n",
      "\n",
      "  warnings.warn(x, RRuntimeWarning)\n"
     ]
    },
    {
     "data": {
      "text/plain": [
       "array([1], dtype=int32)"
      ]
     },
     "execution_count": 3,
     "metadata": {},
     "output_type": "execute_result"
    }
   ],
   "source": [
    "%R require(ggplot2)"
   ]
  },
  {
   "cell_type": "code",
   "execution_count": 4,
   "metadata": {
    "ExecuteTime": {
     "end_time": "2017-09-01T12:49:51.901573Z",
     "start_time": "2017-09-01T12:49:51.878067Z"
    },
    "scrolled": true
   },
   "outputs": [
    {
     "data": {
      "text/html": [
       "<div>\n",
       "<style>\n",
       "    .dataframe thead tr:only-child th {\n",
       "        text-align: right;\n",
       "    }\n",
       "\n",
       "    .dataframe thead th {\n",
       "        text-align: left;\n",
       "    }\n",
       "\n",
       "    .dataframe tbody tr th {\n",
       "        vertical-align: top;\n",
       "    }\n",
       "</style>\n",
       "<table border=\"1\" class=\"dataframe\">\n",
       "  <thead>\n",
       "    <tr style=\"text-align: right;\">\n",
       "      <th></th>\n",
       "      <th>sepal_length</th>\n",
       "      <th>sepal_width</th>\n",
       "      <th>petal_length</th>\n",
       "      <th>petal_width</th>\n",
       "      <th>species</th>\n",
       "    </tr>\n",
       "  </thead>\n",
       "  <tbody>\n",
       "    <tr>\n",
       "      <th>0</th>\n",
       "      <td>5.1</td>\n",
       "      <td>3.5</td>\n",
       "      <td>1.4</td>\n",
       "      <td>0.2</td>\n",
       "      <td>setosa</td>\n",
       "    </tr>\n",
       "    <tr>\n",
       "      <th>1</th>\n",
       "      <td>4.9</td>\n",
       "      <td>3.0</td>\n",
       "      <td>1.4</td>\n",
       "      <td>0.2</td>\n",
       "      <td>setosa</td>\n",
       "    </tr>\n",
       "    <tr>\n",
       "      <th>2</th>\n",
       "      <td>4.7</td>\n",
       "      <td>3.2</td>\n",
       "      <td>1.3</td>\n",
       "      <td>0.2</td>\n",
       "      <td>setosa</td>\n",
       "    </tr>\n",
       "    <tr>\n",
       "      <th>3</th>\n",
       "      <td>4.6</td>\n",
       "      <td>3.1</td>\n",
       "      <td>1.5</td>\n",
       "      <td>0.2</td>\n",
       "      <td>setosa</td>\n",
       "    </tr>\n",
       "    <tr>\n",
       "      <th>4</th>\n",
       "      <td>5.0</td>\n",
       "      <td>3.6</td>\n",
       "      <td>1.4</td>\n",
       "      <td>0.2</td>\n",
       "      <td>setosa</td>\n",
       "    </tr>\n",
       "    <tr>\n",
       "      <th>5</th>\n",
       "      <td>5.4</td>\n",
       "      <td>3.9</td>\n",
       "      <td>1.7</td>\n",
       "      <td>0.4</td>\n",
       "      <td>setosa</td>\n",
       "    </tr>\n",
       "    <tr>\n",
       "      <th>6</th>\n",
       "      <td>4.6</td>\n",
       "      <td>3.4</td>\n",
       "      <td>1.4</td>\n",
       "      <td>0.3</td>\n",
       "      <td>setosa</td>\n",
       "    </tr>\n",
       "    <tr>\n",
       "      <th>7</th>\n",
       "      <td>5.0</td>\n",
       "      <td>3.4</td>\n",
       "      <td>1.5</td>\n",
       "      <td>0.2</td>\n",
       "      <td>setosa</td>\n",
       "    </tr>\n",
       "    <tr>\n",
       "      <th>8</th>\n",
       "      <td>4.4</td>\n",
       "      <td>2.9</td>\n",
       "      <td>1.4</td>\n",
       "      <td>0.2</td>\n",
       "      <td>setosa</td>\n",
       "    </tr>\n",
       "    <tr>\n",
       "      <th>9</th>\n",
       "      <td>4.9</td>\n",
       "      <td>3.1</td>\n",
       "      <td>1.5</td>\n",
       "      <td>0.1</td>\n",
       "      <td>setosa</td>\n",
       "    </tr>\n",
       "    <tr>\n",
       "      <th>10</th>\n",
       "      <td>5.4</td>\n",
       "      <td>3.7</td>\n",
       "      <td>1.5</td>\n",
       "      <td>0.2</td>\n",
       "      <td>setosa</td>\n",
       "    </tr>\n",
       "    <tr>\n",
       "      <th>11</th>\n",
       "      <td>4.8</td>\n",
       "      <td>3.4</td>\n",
       "      <td>1.6</td>\n",
       "      <td>0.2</td>\n",
       "      <td>setosa</td>\n",
       "    </tr>\n",
       "    <tr>\n",
       "      <th>12</th>\n",
       "      <td>4.8</td>\n",
       "      <td>3.0</td>\n",
       "      <td>1.4</td>\n",
       "      <td>0.1</td>\n",
       "      <td>setosa</td>\n",
       "    </tr>\n",
       "    <tr>\n",
       "      <th>13</th>\n",
       "      <td>4.3</td>\n",
       "      <td>3.0</td>\n",
       "      <td>1.1</td>\n",
       "      <td>0.1</td>\n",
       "      <td>setosa</td>\n",
       "    </tr>\n",
       "    <tr>\n",
       "      <th>14</th>\n",
       "      <td>5.8</td>\n",
       "      <td>4.0</td>\n",
       "      <td>1.2</td>\n",
       "      <td>0.2</td>\n",
       "      <td>setosa</td>\n",
       "    </tr>\n",
       "    <tr>\n",
       "      <th>15</th>\n",
       "      <td>5.7</td>\n",
       "      <td>4.4</td>\n",
       "      <td>1.5</td>\n",
       "      <td>0.4</td>\n",
       "      <td>setosa</td>\n",
       "    </tr>\n",
       "    <tr>\n",
       "      <th>16</th>\n",
       "      <td>5.4</td>\n",
       "      <td>3.9</td>\n",
       "      <td>1.3</td>\n",
       "      <td>0.4</td>\n",
       "      <td>setosa</td>\n",
       "    </tr>\n",
       "    <tr>\n",
       "      <th>17</th>\n",
       "      <td>5.1</td>\n",
       "      <td>3.5</td>\n",
       "      <td>1.4</td>\n",
       "      <td>0.3</td>\n",
       "      <td>setosa</td>\n",
       "    </tr>\n",
       "    <tr>\n",
       "      <th>18</th>\n",
       "      <td>5.7</td>\n",
       "      <td>3.8</td>\n",
       "      <td>1.7</td>\n",
       "      <td>0.3</td>\n",
       "      <td>setosa</td>\n",
       "    </tr>\n",
       "    <tr>\n",
       "      <th>19</th>\n",
       "      <td>5.1</td>\n",
       "      <td>3.8</td>\n",
       "      <td>1.5</td>\n",
       "      <td>0.3</td>\n",
       "      <td>setosa</td>\n",
       "    </tr>\n",
       "    <tr>\n",
       "      <th>20</th>\n",
       "      <td>5.4</td>\n",
       "      <td>3.4</td>\n",
       "      <td>1.7</td>\n",
       "      <td>0.2</td>\n",
       "      <td>setosa</td>\n",
       "    </tr>\n",
       "    <tr>\n",
       "      <th>21</th>\n",
       "      <td>5.1</td>\n",
       "      <td>3.7</td>\n",
       "      <td>1.5</td>\n",
       "      <td>0.4</td>\n",
       "      <td>setosa</td>\n",
       "    </tr>\n",
       "    <tr>\n",
       "      <th>22</th>\n",
       "      <td>4.6</td>\n",
       "      <td>3.6</td>\n",
       "      <td>1.0</td>\n",
       "      <td>0.2</td>\n",
       "      <td>setosa</td>\n",
       "    </tr>\n",
       "    <tr>\n",
       "      <th>23</th>\n",
       "      <td>5.1</td>\n",
       "      <td>3.3</td>\n",
       "      <td>1.7</td>\n",
       "      <td>0.5</td>\n",
       "      <td>setosa</td>\n",
       "    </tr>\n",
       "    <tr>\n",
       "      <th>24</th>\n",
       "      <td>4.8</td>\n",
       "      <td>3.4</td>\n",
       "      <td>1.9</td>\n",
       "      <td>0.2</td>\n",
       "      <td>setosa</td>\n",
       "    </tr>\n",
       "    <tr>\n",
       "      <th>25</th>\n",
       "      <td>5.0</td>\n",
       "      <td>3.0</td>\n",
       "      <td>1.6</td>\n",
       "      <td>0.2</td>\n",
       "      <td>setosa</td>\n",
       "    </tr>\n",
       "    <tr>\n",
       "      <th>26</th>\n",
       "      <td>5.0</td>\n",
       "      <td>3.4</td>\n",
       "      <td>1.6</td>\n",
       "      <td>0.4</td>\n",
       "      <td>setosa</td>\n",
       "    </tr>\n",
       "    <tr>\n",
       "      <th>27</th>\n",
       "      <td>5.2</td>\n",
       "      <td>3.5</td>\n",
       "      <td>1.5</td>\n",
       "      <td>0.2</td>\n",
       "      <td>setosa</td>\n",
       "    </tr>\n",
       "    <tr>\n",
       "      <th>28</th>\n",
       "      <td>5.2</td>\n",
       "      <td>3.4</td>\n",
       "      <td>1.4</td>\n",
       "      <td>0.2</td>\n",
       "      <td>setosa</td>\n",
       "    </tr>\n",
       "    <tr>\n",
       "      <th>29</th>\n",
       "      <td>4.7</td>\n",
       "      <td>3.2</td>\n",
       "      <td>1.6</td>\n",
       "      <td>0.2</td>\n",
       "      <td>setosa</td>\n",
       "    </tr>\n",
       "    <tr>\n",
       "      <th>...</th>\n",
       "      <td>...</td>\n",
       "      <td>...</td>\n",
       "      <td>...</td>\n",
       "      <td>...</td>\n",
       "      <td>...</td>\n",
       "    </tr>\n",
       "    <tr>\n",
       "      <th>120</th>\n",
       "      <td>6.9</td>\n",
       "      <td>3.2</td>\n",
       "      <td>5.7</td>\n",
       "      <td>2.3</td>\n",
       "      <td>virginica</td>\n",
       "    </tr>\n",
       "    <tr>\n",
       "      <th>121</th>\n",
       "      <td>5.6</td>\n",
       "      <td>2.8</td>\n",
       "      <td>4.9</td>\n",
       "      <td>2.0</td>\n",
       "      <td>virginica</td>\n",
       "    </tr>\n",
       "    <tr>\n",
       "      <th>122</th>\n",
       "      <td>7.7</td>\n",
       "      <td>2.8</td>\n",
       "      <td>6.7</td>\n",
       "      <td>2.0</td>\n",
       "      <td>virginica</td>\n",
       "    </tr>\n",
       "    <tr>\n",
       "      <th>123</th>\n",
       "      <td>6.3</td>\n",
       "      <td>2.7</td>\n",
       "      <td>4.9</td>\n",
       "      <td>1.8</td>\n",
       "      <td>virginica</td>\n",
       "    </tr>\n",
       "    <tr>\n",
       "      <th>124</th>\n",
       "      <td>6.7</td>\n",
       "      <td>3.3</td>\n",
       "      <td>5.7</td>\n",
       "      <td>2.1</td>\n",
       "      <td>virginica</td>\n",
       "    </tr>\n",
       "    <tr>\n",
       "      <th>125</th>\n",
       "      <td>7.2</td>\n",
       "      <td>3.2</td>\n",
       "      <td>6.0</td>\n",
       "      <td>1.8</td>\n",
       "      <td>virginica</td>\n",
       "    </tr>\n",
       "    <tr>\n",
       "      <th>126</th>\n",
       "      <td>6.2</td>\n",
       "      <td>2.8</td>\n",
       "      <td>4.8</td>\n",
       "      <td>1.8</td>\n",
       "      <td>virginica</td>\n",
       "    </tr>\n",
       "    <tr>\n",
       "      <th>127</th>\n",
       "      <td>6.1</td>\n",
       "      <td>3.0</td>\n",
       "      <td>4.9</td>\n",
       "      <td>1.8</td>\n",
       "      <td>virginica</td>\n",
       "    </tr>\n",
       "    <tr>\n",
       "      <th>128</th>\n",
       "      <td>6.4</td>\n",
       "      <td>2.8</td>\n",
       "      <td>5.6</td>\n",
       "      <td>2.1</td>\n",
       "      <td>virginica</td>\n",
       "    </tr>\n",
       "    <tr>\n",
       "      <th>129</th>\n",
       "      <td>7.2</td>\n",
       "      <td>3.0</td>\n",
       "      <td>5.8</td>\n",
       "      <td>1.6</td>\n",
       "      <td>virginica</td>\n",
       "    </tr>\n",
       "    <tr>\n",
       "      <th>130</th>\n",
       "      <td>7.4</td>\n",
       "      <td>2.8</td>\n",
       "      <td>6.1</td>\n",
       "      <td>1.9</td>\n",
       "      <td>virginica</td>\n",
       "    </tr>\n",
       "    <tr>\n",
       "      <th>131</th>\n",
       "      <td>7.9</td>\n",
       "      <td>3.8</td>\n",
       "      <td>6.4</td>\n",
       "      <td>2.0</td>\n",
       "      <td>virginica</td>\n",
       "    </tr>\n",
       "    <tr>\n",
       "      <th>132</th>\n",
       "      <td>6.4</td>\n",
       "      <td>2.8</td>\n",
       "      <td>5.6</td>\n",
       "      <td>2.2</td>\n",
       "      <td>virginica</td>\n",
       "    </tr>\n",
       "    <tr>\n",
       "      <th>133</th>\n",
       "      <td>6.3</td>\n",
       "      <td>2.8</td>\n",
       "      <td>5.1</td>\n",
       "      <td>1.5</td>\n",
       "      <td>virginica</td>\n",
       "    </tr>\n",
       "    <tr>\n",
       "      <th>134</th>\n",
       "      <td>6.1</td>\n",
       "      <td>2.6</td>\n",
       "      <td>5.6</td>\n",
       "      <td>1.4</td>\n",
       "      <td>virginica</td>\n",
       "    </tr>\n",
       "    <tr>\n",
       "      <th>135</th>\n",
       "      <td>7.7</td>\n",
       "      <td>3.0</td>\n",
       "      <td>6.1</td>\n",
       "      <td>2.3</td>\n",
       "      <td>virginica</td>\n",
       "    </tr>\n",
       "    <tr>\n",
       "      <th>136</th>\n",
       "      <td>6.3</td>\n",
       "      <td>3.4</td>\n",
       "      <td>5.6</td>\n",
       "      <td>2.4</td>\n",
       "      <td>virginica</td>\n",
       "    </tr>\n",
       "    <tr>\n",
       "      <th>137</th>\n",
       "      <td>6.4</td>\n",
       "      <td>3.1</td>\n",
       "      <td>5.5</td>\n",
       "      <td>1.8</td>\n",
       "      <td>virginica</td>\n",
       "    </tr>\n",
       "    <tr>\n",
       "      <th>138</th>\n",
       "      <td>6.0</td>\n",
       "      <td>3.0</td>\n",
       "      <td>4.8</td>\n",
       "      <td>1.8</td>\n",
       "      <td>virginica</td>\n",
       "    </tr>\n",
       "    <tr>\n",
       "      <th>139</th>\n",
       "      <td>6.9</td>\n",
       "      <td>3.1</td>\n",
       "      <td>5.4</td>\n",
       "      <td>2.1</td>\n",
       "      <td>virginica</td>\n",
       "    </tr>\n",
       "    <tr>\n",
       "      <th>140</th>\n",
       "      <td>6.7</td>\n",
       "      <td>3.1</td>\n",
       "      <td>5.6</td>\n",
       "      <td>2.4</td>\n",
       "      <td>virginica</td>\n",
       "    </tr>\n",
       "    <tr>\n",
       "      <th>141</th>\n",
       "      <td>6.9</td>\n",
       "      <td>3.1</td>\n",
       "      <td>5.1</td>\n",
       "      <td>2.3</td>\n",
       "      <td>virginica</td>\n",
       "    </tr>\n",
       "    <tr>\n",
       "      <th>142</th>\n",
       "      <td>5.8</td>\n",
       "      <td>2.7</td>\n",
       "      <td>5.1</td>\n",
       "      <td>1.9</td>\n",
       "      <td>virginica</td>\n",
       "    </tr>\n",
       "    <tr>\n",
       "      <th>143</th>\n",
       "      <td>6.8</td>\n",
       "      <td>3.2</td>\n",
       "      <td>5.9</td>\n",
       "      <td>2.3</td>\n",
       "      <td>virginica</td>\n",
       "    </tr>\n",
       "    <tr>\n",
       "      <th>144</th>\n",
       "      <td>6.7</td>\n",
       "      <td>3.3</td>\n",
       "      <td>5.7</td>\n",
       "      <td>2.5</td>\n",
       "      <td>virginica</td>\n",
       "    </tr>\n",
       "    <tr>\n",
       "      <th>145</th>\n",
       "      <td>6.7</td>\n",
       "      <td>3.0</td>\n",
       "      <td>5.2</td>\n",
       "      <td>2.3</td>\n",
       "      <td>virginica</td>\n",
       "    </tr>\n",
       "    <tr>\n",
       "      <th>146</th>\n",
       "      <td>6.3</td>\n",
       "      <td>2.5</td>\n",
       "      <td>5.0</td>\n",
       "      <td>1.9</td>\n",
       "      <td>virginica</td>\n",
       "    </tr>\n",
       "    <tr>\n",
       "      <th>147</th>\n",
       "      <td>6.5</td>\n",
       "      <td>3.0</td>\n",
       "      <td>5.2</td>\n",
       "      <td>2.0</td>\n",
       "      <td>virginica</td>\n",
       "    </tr>\n",
       "    <tr>\n",
       "      <th>148</th>\n",
       "      <td>6.2</td>\n",
       "      <td>3.4</td>\n",
       "      <td>5.4</td>\n",
       "      <td>2.3</td>\n",
       "      <td>virginica</td>\n",
       "    </tr>\n",
       "    <tr>\n",
       "      <th>149</th>\n",
       "      <td>5.9</td>\n",
       "      <td>3.0</td>\n",
       "      <td>5.1</td>\n",
       "      <td>1.8</td>\n",
       "      <td>virginica</td>\n",
       "    </tr>\n",
       "  </tbody>\n",
       "</table>\n",
       "<p>150 rows × 5 columns</p>\n",
       "</div>"
      ],
      "text/plain": [
       "     sepal_length  sepal_width  petal_length  petal_width    species\n",
       "0             5.1          3.5           1.4          0.2     setosa\n",
       "1             4.9          3.0           1.4          0.2     setosa\n",
       "2             4.7          3.2           1.3          0.2     setosa\n",
       "3             4.6          3.1           1.5          0.2     setosa\n",
       "4             5.0          3.6           1.4          0.2     setosa\n",
       "5             5.4          3.9           1.7          0.4     setosa\n",
       "6             4.6          3.4           1.4          0.3     setosa\n",
       "7             5.0          3.4           1.5          0.2     setosa\n",
       "8             4.4          2.9           1.4          0.2     setosa\n",
       "9             4.9          3.1           1.5          0.1     setosa\n",
       "10            5.4          3.7           1.5          0.2     setosa\n",
       "11            4.8          3.4           1.6          0.2     setosa\n",
       "12            4.8          3.0           1.4          0.1     setosa\n",
       "13            4.3          3.0           1.1          0.1     setosa\n",
       "14            5.8          4.0           1.2          0.2     setosa\n",
       "15            5.7          4.4           1.5          0.4     setosa\n",
       "16            5.4          3.9           1.3          0.4     setosa\n",
       "17            5.1          3.5           1.4          0.3     setosa\n",
       "18            5.7          3.8           1.7          0.3     setosa\n",
       "19            5.1          3.8           1.5          0.3     setosa\n",
       "20            5.4          3.4           1.7          0.2     setosa\n",
       "21            5.1          3.7           1.5          0.4     setosa\n",
       "22            4.6          3.6           1.0          0.2     setosa\n",
       "23            5.1          3.3           1.7          0.5     setosa\n",
       "24            4.8          3.4           1.9          0.2     setosa\n",
       "25            5.0          3.0           1.6          0.2     setosa\n",
       "26            5.0          3.4           1.6          0.4     setosa\n",
       "27            5.2          3.5           1.5          0.2     setosa\n",
       "28            5.2          3.4           1.4          0.2     setosa\n",
       "29            4.7          3.2           1.6          0.2     setosa\n",
       "..            ...          ...           ...          ...        ...\n",
       "120           6.9          3.2           5.7          2.3  virginica\n",
       "121           5.6          2.8           4.9          2.0  virginica\n",
       "122           7.7          2.8           6.7          2.0  virginica\n",
       "123           6.3          2.7           4.9          1.8  virginica\n",
       "124           6.7          3.3           5.7          2.1  virginica\n",
       "125           7.2          3.2           6.0          1.8  virginica\n",
       "126           6.2          2.8           4.8          1.8  virginica\n",
       "127           6.1          3.0           4.9          1.8  virginica\n",
       "128           6.4          2.8           5.6          2.1  virginica\n",
       "129           7.2          3.0           5.8          1.6  virginica\n",
       "130           7.4          2.8           6.1          1.9  virginica\n",
       "131           7.9          3.8           6.4          2.0  virginica\n",
       "132           6.4          2.8           5.6          2.2  virginica\n",
       "133           6.3          2.8           5.1          1.5  virginica\n",
       "134           6.1          2.6           5.6          1.4  virginica\n",
       "135           7.7          3.0           6.1          2.3  virginica\n",
       "136           6.3          3.4           5.6          2.4  virginica\n",
       "137           6.4          3.1           5.5          1.8  virginica\n",
       "138           6.0          3.0           4.8          1.8  virginica\n",
       "139           6.9          3.1           5.4          2.1  virginica\n",
       "140           6.7          3.1           5.6          2.4  virginica\n",
       "141           6.9          3.1           5.1          2.3  virginica\n",
       "142           5.8          2.7           5.1          1.9  virginica\n",
       "143           6.8          3.2           5.9          2.3  virginica\n",
       "144           6.7          3.3           5.7          2.5  virginica\n",
       "145           6.7          3.0           5.2          2.3  virginica\n",
       "146           6.3          2.5           5.0          1.9  virginica\n",
       "147           6.5          3.0           5.2          2.0  virginica\n",
       "148           6.2          3.4           5.4          2.3  virginica\n",
       "149           5.9          3.0           5.1          1.8  virginica\n",
       "\n",
       "[150 rows x 5 columns]"
      ]
     },
     "execution_count": 4,
     "metadata": {},
     "output_type": "execute_result"
    }
   ],
   "source": [
    "iris"
   ]
  },
  {
   "cell_type": "markdown",
   "metadata": {},
   "source": [
    "You can use the `%%R` cell magic to indicate that a cell will contain R code. the magic accpets arguments, including `-i` for data passed from Python to R. Let's use ggplot to plot the iris dataset that we loaded from python"
   ]
  },
  {
   "cell_type": "code",
   "execution_count": 11,
   "metadata": {
    "ExecuteTime": {
     "end_time": "2017-09-01T12:51:31.171303Z",
     "start_time": "2017-09-01T12:51:29.532063Z"
    }
   },
   "outputs": [
    {
     "data": {
      "image/png": "[encoded data removed]"
     },
     "metadata": {},
     "output_type": "display_data"
    }
   ],
   "source": [
    "%%R -i iris\n",
    "ggplot(iris, aes(x = sepal_length, y = petal_width, color = species)) + geom_point() + \n",
    "    geom_smooth(method = \"lm\", se = F)"
   ]
  },
  {
   "cell_type": "markdown",
   "metadata": {},
   "source": [
    "# Making notebooks play nice with git\n",
    "Instructions from: https://svds.com/jupyter-notebook-best-practices-for-data-science/\n",
    "git diffs on jupyter notebooks can be a mess. If you automatically save out the .py and .html versions and track those with git as well, then you can look at the .py to evaluate changes to the code and look at the .html to evaluate changes to the outputs."
   ]
  },
  {
   "cell_type": "code",
   "execution_count": 4,
   "metadata": {},
   "outputs": [
    {
     "name": "stdout",
     "output_type": "stream",
     "text": [
      "Writing default config to: /home/neuro/.jupyter/jupyter_notebook_config.py\r\n"
     ]
    }
   ],
   "source": [
    "import os\n",
    "from subprocess import check_output\n",
    "if os.path.exists(os.path.expanduser('~/.jupyter/jupyter_notebook_config.py')):\n",
    "    print(\"Good to go\")\n",
    "else:\n",
    "    !jupyter notebook --generate-config\n",
    "    # could also use the subprocess library\n",
    "    # check_output(\"jupyter notebook --generate-config\")"
   ]
  },
  {
   "cell_type": "code",
   "execution_count": null,
   "metadata": {
    "collapsed": true
   },
   "outputs": [],
   "source": [
    "%load /Users/nielsond/.jupyter/jupyter_notebook_config.py\n"
   ]
  },
  {
   "cell_type": "code",
   "execution_count": 6,
   "metadata": {},
   "outputs": [
    {
     "name": "stdout",
     "output_type": "stream",
     "text": [
      "Writing /home/shotgunosine/.jupyter/jupyter_notebook_config.py\n"
     ]
    },
    {
     "ename": "FileNotFoundError",
     "evalue": "[Errno 2] No such file or directory: '/home/shotgunosine/.jupyter/jupyter_notebook_config.py'",
     "output_type": "error",
     "traceback": [
      "\u001b[0;31m---------------------------------------------------------------------------\u001b[0m",
      "\u001b[0;31mFileNotFoundError\u001b[0m                         Traceback (most recent call last)",
      "\u001b[0;32m<ipython-input-6-82feabefa70d>\u001b[0m in \u001b[0;36m<module>\u001b[0;34m()\u001b[0m\n\u001b[0;32m----> 1\u001b[0;31m \u001b[0mget_ipython\u001b[0m\u001b[0;34m(\u001b[0m\u001b[0;34m)\u001b[0m\u001b[0;34m.\u001b[0m\u001b[0mrun_cell_magic\u001b[0m\u001b[0;34m(\u001b[0m\u001b[0;34m'writefile'\u001b[0m\u001b[0;34m,\u001b[0m \u001b[0;34m'/home/shotgunosine/.jupyter/jupyter_notebook_config.py'\u001b[0m\u001b[0;34m,\u001b[0m \u001b[0;34m'# Configuration file for jupyter-notebook.\\n\\nc = get_config()\\n### If you want to auto-save .html and .py versions of your notebook:\\n# modified from: https://github.com/ipython/ipython/issues/8009\\nimport os\\nfrom subprocess import check_call\\n\\ndef post_save(model, os_path, contents_manager):\\n    \"\"\"post-save hook for converting notebooks to .py scripts\"\"\"\\n    if model[\\'type\\'] != \\'notebook\\':\\n        return # only do this for notebooks\\n    d, fname = os.path.split(os_path)\\n    check_call([\\'jupyter\\', \\'nbconvert\\', \\'--to\\', \\'script\\', fname], cwd=d)\\n    check_call([\\'jupyter\\', \\'nbconvert\\', \\'--to\\', \\'html\\', fname], cwd=d)\\n\\nc.FileContentsManager.post_save_hook = post_save\\n\\n\\n#------------------------------------------------------------------------------\\n# Application(SingletonConfigurable) configuration\\n#------------------------------------------------------------------------------\\n\\n## This is an application.\\n\\n## The date format used by logging formatters for %(asctime)s\\n#c.Application.log_datefmt = \\'%Y-%m-%d %H:%M:%S\\'\\n\\n## The Logging format template\\n#c.Application.log_format = \\'[%(name)s]%(highlevel)s %(message)s\\'\\n\\n## Set the log level by value or name.\\n#c.Application.log_level = 30\\n\\n#------------------------------------------------------------------------------\\n# JupyterApp(Application) configuration\\n#------------------------------------------------------------------------------\\n\\n## Base class for Jupyter applications\\n\\n## Answer yes to any prompts.\\n#c.JupyterApp.answer_yes = False\\n\\n## Full path of a config file.\\n#c.JupyterApp.config_file = \\'\\'\\n\\n## Specify a config file to load.\\n#c.JupyterApp.config_file_name = \\'\\'\\n\\n## Generate default config file.\\n#c.JupyterApp.generate_config = False\\n\\n#------------------------------------------------------------------------------\\n# NotebookApp(JupyterApp) configuration\\n#------------------------------------------------------------------------------\\n\\n## Set the Access-Control-Allow-Credentials: true header\\n#c.NotebookApp.allow_credentials = False\\n\\n## Set the Access-Control-Allow-Origin header\\n#  \\n#  Use \\'*\\' to allow any origin to access your server.\\n#  \\n#  Takes precedence over allow_origin_pat.\\n#c.NotebookApp.allow_origin = \\'\\'\\n\\n## Use a regular expression for the Access-Control-Allow-Origin header\\n#  \\n#  Requests from an origin matching the expression will get replies with:\\n#  \\n#      Access-Control-Allow-Origin: origin\\n#  \\n#  where `origin` is the origin of the request.\\n#  \\n#  Ignored if allow_origin is set.\\n#c.NotebookApp.allow_origin_pat = \\'\\'\\n\\n## Whether to allow the user to run the notebook as root.\\n#c.NotebookApp.allow_root = False\\n\\n## DEPRECATED use base_url\\n#c.NotebookApp.base_project_url = \\'/\\'\\n\\n## The base URL for the notebook server.\\n#  \\n#  Leading and trailing slashes can be omitted, and will automatically be added.\\n#c.NotebookApp.base_url = \\'/\\'\\n\\n## Specify what command to use to invoke a web browser when opening the notebook.\\n#  If not specified, the default browser will be determined by the `webbrowser`\\n#  standard library module, which allows setting of the BROWSER environment\\n#  variable to override it.\\n#c.NotebookApp.browser = \\'\\'\\n\\n## The full path to an SSL/TLS certificate file.\\n#c.NotebookApp.certfile = \\'\\'\\n\\n## The full path to a certificate authority certificate for SSL/TLS client\\n#  authentication.\\n#c.NotebookApp.client_ca = \\'\\'\\n\\n## The config manager class to use\\n#c.NotebookApp.config_manager_class = \\'notebook.services.config.manager.ConfigManager\\'\\n\\n## The notebook manager class to use.\\n#c.NotebookApp.contents_manager_class = \\'notebook.services.contents.largefilemanager.LargeFileManager\\'\\n\\n## Extra keyword arguments to pass to `set_secure_cookie`. See tornado\\'s\\n#  set_secure_cookie docs for details.\\n#c.NotebookApp.cookie_options = {}\\n\\n## The random bytes used to secure cookies. By default this is a new random\\n#  number every time you start the Notebook. Set it to a value in a config file\\n#  to enable logins to persist across server sessions.\\n#  \\n#  Note: Cookie secrets should be kept private, do not share config files with\\n#  cookie_secret stored in plaintext (you can read the value from a file).\\n#c.NotebookApp.cookie_secret = b\\'\\'\\n\\n## The file where the cookie secret is stored.\\n#c.NotebookApp.cookie_secret_file = \\'\\'\\n\\n## The default URL to redirect to from `/`\\n#c.NotebookApp.default_url = \\'/tree\\'\\n\\n## Disable cross-site-request-forgery protection\\n#  \\n#  Jupyter notebook 4.3.1 introduces protection from cross-site request\\n#  forgeries, requiring API requests to either:\\n#  \\n#  - originate from pages served by this server (validated with XSRF cookie and\\n#  token), or - authenticate with a token\\n#  \\n#  Some anonymous compute resources still desire the ability to run code,\\n#  completely without authentication. These services can disable all\\n#  authentication and security checks, with the full knowledge of what that\\n#  implies.\\n#c.NotebookApp.disable_check_xsrf = False\\n\\n## Whether to enable MathJax for typesetting math/TeX\\n#  \\n#  MathJax is the javascript library Jupyter uses to render math/LaTeX. It is\\n#  very large, so you may want to disable it if you have a slow internet\\n#  connection, or for offline use of the notebook.\\n#  \\n#  When disabled, equations etc. will appear as their untransformed TeX source.\\n#c.NotebookApp.enable_mathjax = True\\n\\n## extra paths to look for Javascript notebook extensions\\n#c.NotebookApp.extra_nbextensions_path = []\\n\\n## Extra paths to search for serving static files.\\n#  \\n#  This allows adding javascript/css to be available from the notebook server\\n#  machine, or overriding individual files in the IPython\\n#c.NotebookApp.extra_static_paths = []\\n\\n## Extra paths to search for serving jinja templates.\\n#  \\n#  Can be used to override templates from notebook.templates.\\n#c.NotebookApp.extra_template_paths = []\\n\\n## \\n#c.NotebookApp.file_to_run = \\'\\'\\n\\n## Deprecated: Use minified JS file or not, mainly use during dev to avoid JS\\n#  recompilation\\n#c.NotebookApp.ignore_minified_js = False\\n\\n## (bytes/sec) Maximum rate at which messages can be sent on iopub before they\\n#  are limited.\\n#c.NotebookApp.iopub_data_rate_limit = 1000000\\n\\n## (msgs/sec) Maximum rate at which messages can be sent on iopub before they are\\n#  limited.\\n#c.NotebookApp.iopub_msg_rate_limit = 1000\\n\\n## The IP address the notebook server will listen on.\\n#c.NotebookApp.ip = \\'localhost\\'\\n\\n## Supply extra arguments that will be passed to Jinja environment.\\n#c.NotebookApp.jinja_environment_options = {}\\n\\n## Extra variables to supply to jinja templates when rendering.\\n#c.NotebookApp.jinja_template_vars = {}\\n\\n## The kernel manager class to use.\\n#c.NotebookApp.kernel_manager_class = \\'notebook.services.kernels.kernelmanager.MappingKernelManager\\'\\n\\n## The kernel spec manager class to use. Should be a subclass of\\n#  `jupyter_client.kernelspec.KernelSpecManager`.\\n#  \\n#  The Api of KernelSpecManager is provisional and might change without warning\\n#  between this version of Jupyter and the next stable one.\\n#c.NotebookApp.kernel_spec_manager_class = \\'jupyter_client.kernelspec.KernelSpecManager\\'\\n\\n## The full path to a private key file for usage with SSL/TLS.\\n#c.NotebookApp.keyfile = \\'\\'\\n\\n## The login handler class to use.\\n#c.NotebookApp.login_handler_class = \\'notebook.auth.login.LoginHandler\\'\\n\\n## The logout handler class to use.\\n#c.NotebookApp.logout_handler_class = \\'notebook.auth.logout.LogoutHandler\\'\\n\\n## The MathJax.js configuration file that is to be used.\\n#c.NotebookApp.mathjax_config = \\'TeX-AMS-MML_HTMLorMML-full,Safe\\'\\n\\n## A custom url for MathJax.js. Should be in the form of a case-sensitive url to\\n#  MathJax, for example:  /static/components/MathJax/MathJax.js\\n#c.NotebookApp.mathjax_url = \\'\\'\\n\\n## Dict of Python modules to load as notebook server extensions.Entry values can\\n#  be used to enable and disable the loading ofthe extensions. The extensions\\n#  will be loaded in alphabetical order.\\n#c.NotebookApp.nbserver_extensions = {}\\n\\n## The directory to use for notebooks and kernels.\\n#c.NotebookApp.notebook_dir = \\'\\'\\n\\n## Whether to open in a browser after starting. The specific browser used is\\n#  platform dependent and determined by the python standard library `webbrowser`\\n#  module, unless it is overridden using the --browser (NotebookApp.browser)\\n#  configuration option.\\n#c.NotebookApp.open_browser = True\\n\\n## Hashed password to use for web authentication.\\n#  \\n#  To generate, type in a python/IPython shell:\\n#  \\n#    from notebook.auth import passwd; passwd()\\n#  \\n#  The string should be of the form type:salt:hashed-password.\\n#c.NotebookApp.password = \\'\\'\\n\\n## Forces users to use a password for the Notebook server. This is useful in a\\n#  multi user environment, for instance when everybody in the LAN can access each\\n#  other\\'s machine though ssh.\\n#  \\n#  In such a case, server the notebook server on localhost is not secure since\\n#  any user can connect to the notebook server via ssh.\\n#c.NotebookApp.password_required = False\\n\\n## The port the notebook server will listen on.\\n#c.NotebookApp.port = 8888\\n\\n## The number of additional ports to try if the specified port is not available.\\n#c.NotebookApp.port_retries = 50\\n\\n## DISABLED: use %pylab or %matplotlib in the notebook to enable matplotlib.\\n#c.NotebookApp.pylab = \\'disabled\\'\\n\\n## (sec) Time window used to  check the message and data rate limits.\\n#c.NotebookApp.rate_limit_window = 3\\n\\n## Reraise exceptions encountered loading server extensions?\\n#c.NotebookApp.reraise_server_extension_failures = False\\n\\n## DEPRECATED use the nbserver_extensions dict instead\\n#c.NotebookApp.server_extensions = []\\n\\n## The session manager class to use.\\n#c.NotebookApp.session_manager_class = \\'notebook.services.sessions.sessionmanager.SessionManager\\'\\n\\n## Supply SSL options for the tornado HTTPServer. See the tornado docs for\\n#  details.\\n#c.NotebookApp.ssl_options = {}\\n\\n## Supply overrides for terminado. Currently only supports \"shell_command\".\\n#c.NotebookApp.terminado_settings = {}\\n\\n## Token used for authenticating first-time connections to the server.\\n#  \\n#  When no password is enabled, the default is to generate a new, random token.\\n#  \\n#  Setting to an empty string disables authentication altogether, which is NOT\\n#  RECOMMENDED.\\n#c.NotebookApp.token = \\'<generated>\\'\\n\\n## Supply overrides for the tornado.web.Application that the Jupyter notebook\\n#  uses.\\n#c.NotebookApp.tornado_settings = {}\\n\\n## Whether to trust or not X-Scheme/X-Forwarded-Proto and X-Real-Ip/X-Forwarded-\\n#  For headerssent by the upstream reverse proxy. Necessary if the proxy handles\\n#  SSL\\n#c.NotebookApp.trust_xheaders = False\\n\\n## DEPRECATED, use tornado_settings\\n#c.NotebookApp.webapp_settings = {}\\n\\n## The base URL for websockets, if it differs from the HTTP server (hint: it\\n#  almost certainly doesn\\'t).\\n#  \\n#  Should be in the form of an HTTP origin: ws[s]://hostname[:port]\\n#c.NotebookApp.websocket_url = \\'\\'\\n\\n#------------------------------------------------------------------------------\\n# ConnectionFileMixin(LoggingConfigurable) configuration\\n#------------------------------------------------------------------------------\\n\\n## Mixin for configurable classes that work with connection files\\n\\n## JSON file in which to store connection info [default: kernel-<pid>.json]\\n#  \\n#  This file will contain the IP, ports, and authentication key needed to connect\\n#  clients to this kernel. By default, this file will be created in the security\\n#  dir of the current profile, but can be specified by absolute path.\\n#c.ConnectionFileMixin.connection_file = \\'\\'\\n\\n## set the control (ROUTER) port [default: random]\\n#c.ConnectionFileMixin.control_port = 0\\n\\n## set the heartbeat port [default: random]\\n#c.ConnectionFileMixin.hb_port = 0\\n\\n## set the iopub (PUB) port [default: random]\\n#c.ConnectionFileMixin.iopub_port = 0\\n\\n## Set the kernel\\'s IP address [default localhost]. If the IP address is\\n#  something other than localhost, then Consoles on other machines will be able\\n#  to connect to the Kernel, so be careful!\\n#c.ConnectionFileMixin.ip = \\'\\'\\n\\n## set the shell (ROUTER) port [default: random]\\n#c.ConnectionFileMixin.shell_port = 0\\n\\n## set the stdin (ROUTER) port [default: random]\\n#c.ConnectionFileMixin.stdin_port = 0\\n\\n## \\n#c.ConnectionFileMixin.transport = \\'tcp\\'\\n\\n#------------------------------------------------------------------------------\\n# KernelManager(ConnectionFileMixin) configuration\\n#------------------------------------------------------------------------------\\n\\n## Manages a single kernel in a subprocess on this host.\\n#  \\n#  This version starts kernels with Popen.\\n\\n## Should we autorestart the kernel if it dies.\\n#c.KernelManager.autorestart = True\\n\\n## DEPRECATED: Use kernel_name instead.\\n#  \\n#  The Popen Command to launch the kernel. Override this if you have a custom\\n#  kernel. If kernel_cmd is specified in a configuration file, Jupyter does not\\n#  pass any arguments to the kernel, because it cannot make any assumptions about\\n#  the arguments that the kernel understands. In particular, this means that the\\n#  kernel does not receive the option --debug if it given on the Jupyter command\\n#  line.\\n#c.KernelManager.kernel_cmd = []\\n\\n## Time to wait for a kernel to terminate before killing it, in seconds.\\n#c.KernelManager.shutdown_wait_time = 5.0\\n\\n#------------------------------------------------------------------------------\\n# Session(Configurable) configuration\\n#------------------------------------------------------------------------------\\n\\n## Object for handling serialization and sending of messages.\\n#  \\n#  The Session object handles building messages and sending them with ZMQ sockets\\n#  or ZMQStream objects.  Objects can communicate with each other over the\\n#  network via Session objects, and only need to work with the dict-based IPython\\n#  message spec. The Session will handle serialization/deserialization, security,\\n#  and metadata.\\n#  \\n#  Sessions support configurable serialization via packer/unpacker traits, and\\n#  signing with HMAC digests via the key/keyfile traits.\\n#  \\n#  Parameters ----------\\n#  \\n#  debug : bool\\n#      whether to trigger extra debugging statements\\n#  packer/unpacker : str : \\'json\\', \\'pickle\\' or import_string\\n#      importstrings for methods to serialize message parts.  If just\\n#      \\'json\\' or \\'pickle\\', predefined JSON and pickle packers will be used.\\n#      Otherwise, the entire importstring must be used.\\n#  \\n#      The functions must accept at least valid JSON input, and output *bytes*.\\n#  \\n#      For example, to use msgpack:\\n#      packer = \\'msgpack.packb\\', unpacker=\\'msgpack.unpackb\\'\\n#  pack/unpack : callables\\n#      You can also set the pack/unpack callables for serialization directly.\\n#  session : bytes\\n#      the ID of this Session object.  The default is to generate a new UUID.\\n#  username : unicode\\n#      username added to message headers.  The default is to ask the OS.\\n#  key : bytes\\n#      The key used to initialize an HMAC signature.  If unset, messages\\n#      will not be signed or checked.\\n#  keyfile : filepath\\n#      The file containing a key.  If this is set, `key` will be initialized\\n#      to the contents of the file.\\n\\n## Threshold (in bytes) beyond which an object\\'s buffer should be extracted to\\n#  avoid pickling.\\n#c.Session.buffer_threshold = 1024\\n\\n## Whether to check PID to protect against calls after fork.\\n#  \\n#  This check can be disabled if fork-safety is handled elsewhere.\\n#c.Session.check_pid = True\\n\\n## Threshold (in bytes) beyond which a buffer should be sent without copying.\\n#c.Session.copy_threshold = 65536\\n\\n## Debug output in the Session\\n#c.Session.debug = False\\n\\n## The maximum number of digests to remember.\\n#  \\n#  The digest history will be culled when it exceeds this value.\\n#c.Session.digest_history_size = 65536\\n\\n## The maximum number of items for a container to be introspected for custom\\n#  serialization. Containers larger than this are pickled outright.\\n#c.Session.item_threshold = 64\\n\\n## execution key, for signing messages.\\n#c.Session.key = b\\'\\'\\n\\n## path to file containing execution key.\\n#c.Session.keyfile = \\'\\'\\n\\n## Metadata dictionary, which serves as the default top-level metadata dict for\\n#  each message.\\n#c.Session.metadata = {}\\n\\n## The name of the packer for serializing messages. Should be one of \\'json\\',\\n#  \\'pickle\\', or an import name for a custom callable serializer.\\n#c.Session.packer = \\'json\\'\\n\\n## The UUID identifying this session.\\n#c.Session.session = \\'\\'\\n\\n## The digest scheme used to construct the message signatures. Must have the form\\n#  \\'hmac-HASH\\'.\\n#c.Session.signature_scheme = \\'hmac-sha256\\'\\n\\n## The name of the unpacker for unserializing messages. Only used with custom\\n#  functions for `packer`.\\n#c.Session.unpacker = \\'json\\'\\n\\n## Username for the Session. Default is your system username.\\n#c.Session.username = \\'nielsond\\'\\n\\n#------------------------------------------------------------------------------\\n# MultiKernelManager(LoggingConfigurable) configuration\\n#------------------------------------------------------------------------------\\n\\n## A class for managing multiple kernels.\\n\\n## The name of the default kernel to start\\n#c.MultiKernelManager.default_kernel_name = \\'python3\\'\\n\\n## The kernel manager class.  This is configurable to allow subclassing of the\\n#  KernelManager for customized behavior.\\n#c.MultiKernelManager.kernel_manager_class = \\'jupyter_client.ioloop.IOLoopKernelManager\\'\\n\\n#------------------------------------------------------------------------------\\n# MappingKernelManager(MultiKernelManager) configuration\\n#------------------------------------------------------------------------------\\n\\n## A KernelManager that handles notebook mapping and HTTP error handling\\n\\n## \\n#c.MappingKernelManager.root_dir = \\'\\'\\n\\n#------------------------------------------------------------------------------\\n# ContentsManager(LoggingConfigurable) configuration\\n#------------------------------------------------------------------------------\\n\\n## Base class for serving files and directories.\\n#  \\n#  This serves any text or binary file, as well as directories, with special\\n#  handling for JSON notebook documents.\\n#  \\n#  Most APIs take a path argument, which is always an API-style unicode path, and\\n#  always refers to a directory.\\n#  \\n#  - unicode, not url-escaped\\n#  - \\'/\\'-separated\\n#  - leading and trailing \\'/\\' will be stripped\\n#  - if unspecified, path defaults to \\'\\',\\n#    indicating the root path.\\n\\n## \\n#c.ContentsManager.checkpoints = None\\n\\n## \\n#c.ContentsManager.checkpoints_class = \\'notebook.services.contents.checkpoints.Checkpoints\\'\\n\\n## \\n#c.ContentsManager.checkpoints_kwargs = {}\\n\\n## Glob patterns to hide in file and directory listings.\\n#c.ContentsManager.hide_globs = [\\'__pycache__\\', \\'*.pyc\\', \\'*.pyo\\', \\'.DS_Store\\', \\'*.so\\', \\'*.dylib\\', \\'*~\\']\\n\\n## Python callable or importstring thereof\\n#  \\n#  To be called on a contents model prior to save.\\n#  \\n#  This can be used to process the structure, such as removing notebook outputs\\n#  or other side effects that should not be saved.\\n#  \\n#  It will be called as (all arguments passed by keyword)::\\n#  \\n#      hook(path=path, model=model, contents_manager=self)\\n#  \\n#  - model: the model to be saved. Includes file contents.\\n#    Modifying this dict will affect the file that is stored.\\n#  - path: the API path of the save destination\\n#  - contents_manager: this ContentsManager instance\\n#c.ContentsManager.pre_save_hook = None\\n\\n## \\n#c.ContentsManager.root_dir = \\'/\\'\\n\\n## The base name used when creating untitled directories.\\n#c.ContentsManager.untitled_directory = \\'Untitled Folder\\'\\n\\n## The base name used when creating untitled files.\\n#c.ContentsManager.untitled_file = \\'untitled\\'\\n\\n## The base name used when creating untitled notebooks.\\n#c.ContentsManager.untitled_notebook = \\'Untitled\\'\\n\\n#------------------------------------------------------------------------------\\n# FileManagerMixin(Configurable) configuration\\n#------------------------------------------------------------------------------\\n\\n## Mixin for ContentsAPI classes that interact with the filesystem.\\n#  \\n#  Provides facilities for reading, writing, and copying both notebooks and\\n#  generic files.\\n#  \\n#  Shared by FileContentsManager and FileCheckpoints.\\n#  \\n#  Note ---- Classes using this mixin must provide the following attributes:\\n#  \\n#  root_dir : unicode\\n#      A directory against against which API-style paths are to be resolved.\\n#  \\n#  log : logging.Logger\\n\\n## By default notebooks are saved on disk on a temporary file and then if\\n#  succefully written, it replaces the old ones. This procedure, namely\\n#  \\'atomic_writing\\', causes some bugs on file system whitout operation order\\n#  enforcement (like some networked fs). If set to False, the new notebook is\\n#  written directly on the old one which could fail (eg: full filesystem or quota\\n#  )\\n#c.FileManagerMixin.use_atomic_writing = True\\n\\n#------------------------------------------------------------------------------\\n# FileContentsManager(FileManagerMixin,ContentsManager) configuration\\n#------------------------------------------------------------------------------\\n\\n## Python callable or importstring thereof\\n#  \\n#  to be called on the path of a file just saved.\\n#  \\n#  This can be used to process the file on disk, such as converting the notebook\\n#  to a script or HTML via nbconvert.\\n#  \\n#  It will be called as (all arguments passed by keyword)::\\n#  \\n#      hook(os_path=os_path, model=model, contents_manager=instance)\\n#  \\n#  - path: the filesystem path to the file just written - model: the model\\n#  representing the file - contents_manager: this ContentsManager instance\\n#c.FileContentsManager.post_save_hook = None\\n\\n## \\n#c.FileContentsManager.root_dir = \\'\\'\\n\\n## DEPRECATED, use post_save_hook. Will be removed in Notebook 5.0\\n#c.FileContentsManager.save_script = False\\n\\n#------------------------------------------------------------------------------\\n# NotebookNotary(LoggingConfigurable) configuration\\n#------------------------------------------------------------------------------\\n\\n## A class for computing and verifying notebook signatures.\\n\\n## The hashing algorithm used to sign notebooks.\\n#c.NotebookNotary.algorithm = \\'sha256\\'\\n\\n## The sqlite file in which to store notebook signatures. By default, this will\\n#  be in your Jupyter data directory. You can set it to \\':memory:\\' to disable\\n#  sqlite writing to the filesystem.\\n#c.NotebookNotary.db_file = \\'\\'\\n\\n## The secret key with which notebooks are signed.\\n#c.NotebookNotary.secret = b\\'\\'\\n\\n## The file where the secret key is stored.\\n#c.NotebookNotary.secret_file = \\'\\'\\n\\n## A callable returning the storage backend for notebook signatures. The default\\n#  uses an SQLite database.\\n#c.NotebookNotary.store_factory = traitlets.Undefined\\n\\n#------------------------------------------------------------------------------\\n# KernelSpecManager(LoggingConfigurable) configuration\\n#------------------------------------------------------------------------------\\n\\n## If there is no Python kernelspec registered and the IPython kernel is\\n#  available, ensure it is added to the spec list.\\n#c.KernelSpecManager.ensure_native_kernel = True\\n\\n## The kernel spec class.  This is configurable to allow subclassing of the\\n#  KernelSpecManager for customized behavior.\\n#c.KernelSpecManager.kernel_spec_class = \\'jupyter_client.kernelspec.KernelSpec\\'\\n\\n## Whitelist of allowed kernel names.\\n#  \\n#  By default, all installed kernels are allowed.\\n#c.KernelSpecManager.whitelist = set()'\u001b[0m\u001b[0;34m)\u001b[0m\u001b[0;34m\u001b[0m\u001b[0m\n\u001b[0m",
      "\u001b[0;32m/opt/conda/envs/neuro3/lib/python3.6/site-packages/IPython/core/interactiveshell.py\u001b[0m in \u001b[0;36mrun_cell_magic\u001b[0;34m(self, magic_name, line, cell)\u001b[0m\n\u001b[1;32m   2101\u001b[0m             \u001b[0mmagic_arg_s\u001b[0m \u001b[0;34m=\u001b[0m \u001b[0mself\u001b[0m\u001b[0;34m.\u001b[0m\u001b[0mvar_expand\u001b[0m\u001b[0;34m(\u001b[0m\u001b[0mline\u001b[0m\u001b[0;34m,\u001b[0m \u001b[0mstack_depth\u001b[0m\u001b[0;34m)\u001b[0m\u001b[0;34m\u001b[0m\u001b[0m\n\u001b[1;32m   2102\u001b[0m             \u001b[0;32mwith\u001b[0m \u001b[0mself\u001b[0m\u001b[0;34m.\u001b[0m\u001b[0mbuiltin_trap\u001b[0m\u001b[0;34m:\u001b[0m\u001b[0;34m\u001b[0m\u001b[0m\n\u001b[0;32m-> 2103\u001b[0;31m                 \u001b[0mresult\u001b[0m \u001b[0;34m=\u001b[0m \u001b[0mfn\u001b[0m\u001b[0;34m(\u001b[0m\u001b[0mmagic_arg_s\u001b[0m\u001b[0;34m,\u001b[0m \u001b[0mcell\u001b[0m\u001b[0;34m)\u001b[0m\u001b[0;34m\u001b[0m\u001b[0m\n\u001b[0m\u001b[1;32m   2104\u001b[0m             \u001b[0;32mreturn\u001b[0m \u001b[0mresult\u001b[0m\u001b[0;34m\u001b[0m\u001b[0m\n\u001b[1;32m   2105\u001b[0m \u001b[0;34m\u001b[0m\u001b[0m\n",
      "\u001b[0;32m<decorator-gen-106>\u001b[0m in \u001b[0;36mwritefile\u001b[0;34m(self, line, cell)\u001b[0m\n",
      "\u001b[0;32m/opt/conda/envs/neuro3/lib/python3.6/site-packages/IPython/core/magic.py\u001b[0m in \u001b[0;36m<lambda>\u001b[0;34m(f, *a, **k)\u001b[0m\n\u001b[1;32m    185\u001b[0m     \u001b[0;31m# but it's overkill for just that one bit of state.\u001b[0m\u001b[0;34m\u001b[0m\u001b[0;34m\u001b[0m\u001b[0m\n\u001b[1;32m    186\u001b[0m     \u001b[0;32mdef\u001b[0m \u001b[0mmagic_deco\u001b[0m\u001b[0;34m(\u001b[0m\u001b[0marg\u001b[0m\u001b[0;34m)\u001b[0m\u001b[0;34m:\u001b[0m\u001b[0;34m\u001b[0m\u001b[0m\n\u001b[0;32m--> 187\u001b[0;31m         \u001b[0mcall\u001b[0m \u001b[0;34m=\u001b[0m \u001b[0;32mlambda\u001b[0m \u001b[0mf\u001b[0m\u001b[0;34m,\u001b[0m \u001b[0;34m*\u001b[0m\u001b[0ma\u001b[0m\u001b[0;34m,\u001b[0m \u001b[0;34m**\u001b[0m\u001b[0mk\u001b[0m\u001b[0;34m:\u001b[0m \u001b[0mf\u001b[0m\u001b[0;34m(\u001b[0m\u001b[0;34m*\u001b[0m\u001b[0ma\u001b[0m\u001b[0;34m,\u001b[0m \u001b[0;34m**\u001b[0m\u001b[0mk\u001b[0m\u001b[0;34m)\u001b[0m\u001b[0;34m\u001b[0m\u001b[0m\n\u001b[0m\u001b[1;32m    188\u001b[0m \u001b[0;34m\u001b[0m\u001b[0m\n\u001b[1;32m    189\u001b[0m         \u001b[0;32mif\u001b[0m \u001b[0mcallable\u001b[0m\u001b[0;34m(\u001b[0m\u001b[0marg\u001b[0m\u001b[0;34m)\u001b[0m\u001b[0;34m:\u001b[0m\u001b[0;34m\u001b[0m\u001b[0m\n",
      "\u001b[0;32m/opt/conda/envs/neuro3/lib/python3.6/site-packages/IPython/core/magics/osm.py\u001b[0m in \u001b[0;36mwritefile\u001b[0;34m(self, line, cell)\u001b[0m\n\u001b[1;32m    789\u001b[0m \u001b[0;34m\u001b[0m\u001b[0m\n\u001b[1;32m    790\u001b[0m         \u001b[0mmode\u001b[0m \u001b[0;34m=\u001b[0m \u001b[0;34m'a'\u001b[0m \u001b[0;32mif\u001b[0m \u001b[0margs\u001b[0m\u001b[0;34m.\u001b[0m\u001b[0mappend\u001b[0m \u001b[0;32melse\u001b[0m \u001b[0;34m'w'\u001b[0m\u001b[0;34m\u001b[0m\u001b[0m\n\u001b[0;32m--> 791\u001b[0;31m         \u001b[0;32mwith\u001b[0m \u001b[0mio\u001b[0m\u001b[0;34m.\u001b[0m\u001b[0mopen\u001b[0m\u001b[0;34m(\u001b[0m\u001b[0mfilename\u001b[0m\u001b[0;34m,\u001b[0m \u001b[0mmode\u001b[0m\u001b[0;34m,\u001b[0m \u001b[0mencoding\u001b[0m\u001b[0;34m=\u001b[0m\u001b[0;34m'utf-8'\u001b[0m\u001b[0;34m)\u001b[0m \u001b[0;32mas\u001b[0m \u001b[0mf\u001b[0m\u001b[0;34m:\u001b[0m\u001b[0;34m\u001b[0m\u001b[0m\n\u001b[0m\u001b[1;32m    792\u001b[0m             \u001b[0mf\u001b[0m\u001b[0;34m.\u001b[0m\u001b[0mwrite\u001b[0m\u001b[0;34m(\u001b[0m\u001b[0mcell\u001b[0m\u001b[0;34m)\u001b[0m\u001b[0;34m\u001b[0m\u001b[0m\n",
      "\u001b[0;31mFileNotFoundError\u001b[0m: [Errno 2] No such file or directory: '/home/shotgunosine/.jupyter/jupyter_notebook_config.py'"
     ]
    }
   ],
   "source": [
    "%%writefile /home/shotgunosine/.jupyter/jupyter_notebook_config.py\n",
    "# Configuration file for jupyter-notebook.\n",
    "\n",
    "c = get_config()\n",
    "### If you want to auto-save .html and .py versions of your notebook:\n",
    "# modified from: https://github.com/ipython/ipython/issues/8009\n",
    "import os\n",
    "from subprocess import check_call\n",
    "\n",
    "def post_save(model, os_path, contents_manager):\n",
    "    \"\"\"post-save hook for converting notebooks to .py scripts\"\"\"\n",
    "    if model['type'] != 'notebook':\n",
    "        return # only do this for notebooks\n",
    "    d, fname = os.path.split(os_path)\n",
    "    check_call(['jupyter', 'nbconvert', '--to', 'script', fname], cwd=d)\n",
    "    check_call(['jupyter', 'nbconvert', '--to', 'html', fname], cwd=d)\n",
    "\n",
    "c.FileContentsManager.post_save_hook = post_save\n",
    "\n",
    "\n",
    "#------------------------------------------------------------------------------\n",
    "# Application(SingletonConfigurable) configuration\n",
    "#------------------------------------------------------------------------------\n",
    "\n",
    "## This is an application.\n",
    "\n",
    "## The date format used by logging formatters for %(asctime)s\n",
    "#c.Application.log_datefmt = '%Y-%m-%d %H:%M:%S'\n",
    "\n",
    "## The Logging format template\n",
    "#c.Application.log_format = '[%(name)s]%(highlevel)s %(message)s'\n",
    "\n",
    "## Set the log level by value or name.\n",
    "#c.Application.log_level = 30\n",
    "\n",
    "#------------------------------------------------------------------------------\n",
    "# JupyterApp(Application) configuration\n",
    "#------------------------------------------------------------------------------\n",
    "\n",
    "## Base class for Jupyter applications\n",
    "\n",
    "## Answer yes to any prompts.\n",
    "#c.JupyterApp.answer_yes = False\n",
    "\n",
    "## Full path of a config file.\n",
    "#c.JupyterApp.config_file = ''\n",
    "\n",
    "## Specify a config file to load.\n",
    "#c.JupyterApp.config_file_name = ''\n",
    "\n",
    "## Generate default config file.\n",
    "#c.JupyterApp.generate_config = False\n",
    "\n",
    "#------------------------------------------------------------------------------\n",
    "# NotebookApp(JupyterApp) configuration\n",
    "#------------------------------------------------------------------------------\n",
    "\n",
    "## Set the Access-Control-Allow-Credentials: true header\n",
    "#c.NotebookApp.allow_credentials = False\n",
    "\n",
    "## Set the Access-Control-Allow-Origin header\n",
    "#  \n",
    "#  Use '*' to allow any origin to access your server.\n",
    "#  \n",
    "#  Takes precedence over allow_origin_pat.\n",
    "#c.NotebookApp.allow_origin = ''\n",
    "\n",
    "## Use a regular expression for the Access-Control-Allow-Origin header\n",
    "#  \n",
    "#  Requests from an origin matching the expression will get replies with:\n",
    "#  \n",
    "#      Access-Control-Allow-Origin: origin\n",
    "#  \n",
    "#  where `origin` is the origin of the request.\n",
    "#  \n",
    "#  Ignored if allow_origin is set.\n",
    "#c.NotebookApp.allow_origin_pat = ''\n",
    "\n",
    "## Whether to allow the user to run the notebook as root.\n",
    "#c.NotebookApp.allow_root = False\n",
    "\n",
    "## DEPRECATED use base_url\n",
    "#c.NotebookApp.base_project_url = '/'\n",
    "\n",
    "## The base URL for the notebook server.\n",
    "#  \n",
    "#  Leading and trailing slashes can be omitted, and will automatically be added.\n",
    "#c.NotebookApp.base_url = '/'\n",
    "\n",
    "## Specify what command to use to invoke a web browser when opening the notebook.\n",
    "#  If not specified, the default browser will be determined by the `webbrowser`\n",
    "#  standard library module, which allows setting of the BROWSER environment\n",
    "#  variable to override it.\n",
    "#c.NotebookApp.browser = ''\n",
    "\n",
    "## The full path to an SSL/TLS certificate file.\n",
    "#c.NotebookApp.certfile = ''\n",
    "\n",
    "## The full path to a certificate authority certificate for SSL/TLS client\n",
    "#  authentication.\n",
    "#c.NotebookApp.client_ca = ''\n",
    "\n",
    "## The config manager class to use\n",
    "#c.NotebookApp.config_manager_class = 'notebook.services.config.manager.ConfigManager'\n",
    "\n",
    "## The notebook manager class to use.\n",
    "#c.NotebookApp.contents_manager_class = 'notebook.services.contents.largefilemanager.LargeFileManager'\n",
    "\n",
    "## Extra keyword arguments to pass to `set_secure_cookie`. See tornado's\n",
    "#  set_secure_cookie docs for details.\n",
    "#c.NotebookApp.cookie_options = {}\n",
    "\n",
    "## The random bytes used to secure cookies. By default this is a new random\n",
    "#  number every time you start the Notebook. Set it to a value in a config file\n",
    "#  to enable logins to persist across server sessions.\n",
    "#  \n",
    "#  Note: Cookie secrets should be kept private, do not share config files with\n",
    "#  cookie_secret stored in plaintext (you can read the value from a file).\n",
    "#c.NotebookApp.cookie_secret = b''\n",
    "\n",
    "## The file where the cookie secret is stored.\n",
    "#c.NotebookApp.cookie_secret_file = ''\n",
    "\n",
    "## The default URL to redirect to from `/`\n",
    "#c.NotebookApp.default_url = '/tree'\n",
    "\n",
    "## Disable cross-site-request-forgery protection\n",
    "#  \n",
    "#  Jupyter notebook 4.3.1 introduces protection from cross-site request\n",
    "#  forgeries, requiring API requests to either:\n",
    "#  \n",
    "#  - originate from pages served by this server (validated with XSRF cookie and\n",
    "#  token), or - authenticate with a token\n",
    "#  \n",
    "#  Some anonymous compute resources still desire the ability to run code,\n",
    "#  completely without authentication. These services can disable all\n",
    "#  authentication and security checks, with the full knowledge of what that\n",
    "#  implies.\n",
    "#c.NotebookApp.disable_check_xsrf = False\n",
    "\n",
    "## Whether to enable MathJax for typesetting math/TeX\n",
    "#  \n",
    "#  MathJax is the javascript library Jupyter uses to render math/LaTeX. It is\n",
    "#  very large, so you may want to disable it if you have a slow internet\n",
    "#  connection, or for offline use of the notebook.\n",
    "#  \n",
    "#  When disabled, equations etc. will appear as their untransformed TeX source.\n",
    "#c.NotebookApp.enable_mathjax = True\n",
    "\n",
    "## extra paths to look for Javascript notebook extensions\n",
    "#c.NotebookApp.extra_nbextensions_path = []\n",
    "\n",
    "## Extra paths to search for serving static files.\n",
    "#  \n",
    "#  This allows adding javascript/css to be available from the notebook server\n",
    "#  machine, or overriding individual files in the IPython\n",
    "#c.NotebookApp.extra_static_paths = []\n",
    "\n",
    "## Extra paths to search for serving jinja templates.\n",
    "#  \n",
    "#  Can be used to override templates from notebook.templates.\n",
    "#c.NotebookApp.extra_template_paths = []\n",
    "\n",
    "## \n",
    "#c.NotebookApp.file_to_run = ''\n",
    "\n",
    "## Deprecated: Use minified JS file or not, mainly use during dev to avoid JS\n",
    "#  recompilation\n",
    "#c.NotebookApp.ignore_minified_js = False\n",
    "\n",
    "## (bytes/sec) Maximum rate at which messages can be sent on iopub before they\n",
    "#  are limited.\n",
    "#c.NotebookApp.iopub_data_rate_limit = 1000000\n",
    "\n",
    "## (msgs/sec) Maximum rate at which messages can be sent on iopub before they are\n",
    "#  limited.\n",
    "#c.NotebookApp.iopub_msg_rate_limit = 1000\n",
    "\n",
    "## The IP address the notebook server will listen on.\n",
    "#c.NotebookApp.ip = 'localhost'\n",
    "\n",
    "## Supply extra arguments that will be passed to Jinja environment.\n",
    "#c.NotebookApp.jinja_environment_options = {}\n",
    "\n",
    "## Extra variables to supply to jinja templates when rendering.\n",
    "#c.NotebookApp.jinja_template_vars = {}\n",
    "\n",
    "## The kernel manager class to use.\n",
    "#c.NotebookApp.kernel_manager_class = 'notebook.services.kernels.kernelmanager.MappingKernelManager'\n",
    "\n",
    "## The kernel spec manager class to use. Should be a subclass of\n",
    "#  `jupyter_client.kernelspec.KernelSpecManager`.\n",
    "#  \n",
    "#  The Api of KernelSpecManager is provisional and might change without warning\n",
    "#  between this version of Jupyter and the next stable one.\n",
    "#c.NotebookApp.kernel_spec_manager_class = 'jupyter_client.kernelspec.KernelSpecManager'\n",
    "\n",
    "## The full path to a private key file for usage with SSL/TLS.\n",
    "#c.NotebookApp.keyfile = ''\n",
    "\n",
    "## The login handler class to use.\n",
    "#c.NotebookApp.login_handler_class = 'notebook.auth.login.LoginHandler'\n",
    "\n",
    "## The logout handler class to use.\n",
    "#c.NotebookApp.logout_handler_class = 'notebook.auth.logout.LogoutHandler'\n",
    "\n",
    "## The MathJax.js configuration file that is to be used.\n",
    "#c.NotebookApp.mathjax_config = 'TeX-AMS-MML_HTMLorMML-full,Safe'\n",
    "\n",
    "## A custom url for MathJax.js. Should be in the form of a case-sensitive url to\n",
    "#  MathJax, for example:  /static/components/MathJax/MathJax.js\n",
    "#c.NotebookApp.mathjax_url = ''\n",
    "\n",
    "## Dict of Python modules to load as notebook server extensions.Entry values can\n",
    "#  be used to enable and disable the loading ofthe extensions. The extensions\n",
    "#  will be loaded in alphabetical order.\n",
    "#c.NotebookApp.nbserver_extensions = {}\n",
    "\n",
    "## The directory to use for notebooks and kernels.\n",
    "#c.NotebookApp.notebook_dir = ''\n",
    "\n",
    "## Whether to open in a browser after starting. The specific browser used is\n",
    "#  platform dependent and determined by the python standard library `webbrowser`\n",
    "#  module, unless it is overridden using the --browser (NotebookApp.browser)\n",
    "#  configuration option.\n",
    "#c.NotebookApp.open_browser = True\n",
    "\n",
    "## Hashed password to use for web authentication.\n",
    "#  \n",
    "#  To generate, type in a python/IPython shell:\n",
    "#  \n",
    "#    from notebook.auth import passwd; passwd()\n",
    "#  \n",
    "#  The string should be of the form type:salt:hashed-password.\n",
    "#c.NotebookApp.password = ''\n",
    "\n",
    "## Forces users to use a password for the Notebook server. This is useful in a\n",
    "#  multi user environment, for instance when everybody in the LAN can access each\n",
    "#  other's machine though ssh.\n",
    "#  \n",
    "#  In such a case, server the notebook server on localhost is not secure since\n",
    "#  any user can connect to the notebook server via ssh.\n",
    "#c.NotebookApp.password_required = False\n",
    "\n",
    "## The port the notebook server will listen on.\n",
    "#c.NotebookApp.port = 8888\n",
    "\n",
    "## The number of additional ports to try if the specified port is not available.\n",
    "#c.NotebookApp.port_retries = 50\n",
    "\n",
    "## DISABLED: use %pylab or %matplotlib in the notebook to enable matplotlib.\n",
    "#c.NotebookApp.pylab = 'disabled'\n",
    "\n",
    "## (sec) Time window used to  check the message and data rate limits.\n",
    "#c.NotebookApp.rate_limit_window = 3\n",
    "\n",
    "## Reraise exceptions encountered loading server extensions?\n",
    "#c.NotebookApp.reraise_server_extension_failures = False\n",
    "\n",
    "## DEPRECATED use the nbserver_extensions dict instead\n",
    "#c.NotebookApp.server_extensions = []\n",
    "\n",
    "## The session manager class to use.\n",
    "#c.NotebookApp.session_manager_class = 'notebook.services.sessions.sessionmanager.SessionManager'\n",
    "\n",
    "## Supply SSL options for the tornado HTTPServer. See the tornado docs for\n",
    "#  details.\n",
    "#c.NotebookApp.ssl_options = {}\n",
    "\n",
    "## Supply overrides for terminado. Currently only supports \"shell_command\".\n",
    "#c.NotebookApp.terminado_settings = {}\n",
    "\n",
    "## Token used for authenticating first-time connections to the server.\n",
    "#  \n",
    "#  When no password is enabled, the default is to generate a new, random token.\n",
    "#  \n",
    "#  Setting to an empty string disables authentication altogether, which is NOT\n",
    "#  RECOMMENDED.\n",
    "#c.NotebookApp.token = '<generated>'\n",
    "\n",
    "## Supply overrides for the tornado.web.Application that the Jupyter notebook\n",
    "#  uses.\n",
    "#c.NotebookApp.tornado_settings = {}\n",
    "\n",
    "## Whether to trust or not X-Scheme/X-Forwarded-Proto and X-Real-Ip/X-Forwarded-\n",
    "#  For headerssent by the upstream reverse proxy. Necessary if the proxy handles\n",
    "#  SSL\n",
    "#c.NotebookApp.trust_xheaders = False\n",
    "\n",
    "## DEPRECATED, use tornado_settings\n",
    "#c.NotebookApp.webapp_settings = {}\n",
    "\n",
    "## The base URL for websockets, if it differs from the HTTP server (hint: it\n",
    "#  almost certainly doesn't).\n",
    "#  \n",
    "#  Should be in the form of an HTTP origin: ws[s]://hostname[:port]\n",
    "#c.NotebookApp.websocket_url = ''\n",
    "\n",
    "#------------------------------------------------------------------------------\n",
    "# ConnectionFileMixin(LoggingConfigurable) configuration\n",
    "#------------------------------------------------------------------------------\n",
    "\n",
    "## Mixin for configurable classes that work with connection files\n",
    "\n",
    "## JSON file in which to store connection info [default: kernel-<pid>.json]\n",
    "#  \n",
    "#  This file will contain the IP, ports, and authentication key needed to connect\n",
    "#  clients to this kernel. By default, this file will be created in the security\n",
    "#  dir of the current profile, but can be specified by absolute path.\n",
    "#c.ConnectionFileMixin.connection_file = ''\n",
    "\n",
    "## set the control (ROUTER) port [default: random]\n",
    "#c.ConnectionFileMixin.control_port = 0\n",
    "\n",
    "## set the heartbeat port [default: random]\n",
    "#c.ConnectionFileMixin.hb_port = 0\n",
    "\n",
    "## set the iopub (PUB) port [default: random]\n",
    "#c.ConnectionFileMixin.iopub_port = 0\n",
    "\n",
    "## Set the kernel's IP address [default localhost]. If the IP address is\n",
    "#  something other than localhost, then Consoles on other machines will be able\n",
    "#  to connect to the Kernel, so be careful!\n",
    "#c.ConnectionFileMixin.ip = ''\n",
    "\n",
    "## set the shell (ROUTER) port [default: random]\n",
    "#c.ConnectionFileMixin.shell_port = 0\n",
    "\n",
    "## set the stdin (ROUTER) port [default: random]\n",
    "#c.ConnectionFileMixin.stdin_port = 0\n",
    "\n",
    "## \n",
    "#c.ConnectionFileMixin.transport = 'tcp'\n",
    "\n",
    "#------------------------------------------------------------------------------\n",
    "# KernelManager(ConnectionFileMixin) configuration\n",
    "#------------------------------------------------------------------------------\n",
    "\n",
    "## Manages a single kernel in a subprocess on this host.\n",
    "#  \n",
    "#  This version starts kernels with Popen.\n",
    "\n",
    "## Should we autorestart the kernel if it dies.\n",
    "#c.KernelManager.autorestart = True\n",
    "\n",
    "## DEPRECATED: Use kernel_name instead.\n",
    "#  \n",
    "#  The Popen Command to launch the kernel. Override this if you have a custom\n",
    "#  kernel. If kernel_cmd is specified in a configuration file, Jupyter does not\n",
    "#  pass any arguments to the kernel, because it cannot make any assumptions about\n",
    "#  the arguments that the kernel understands. In particular, this means that the\n",
    "#  kernel does not receive the option --debug if it given on the Jupyter command\n",
    "#  line.\n",
    "#c.KernelManager.kernel_cmd = []\n",
    "\n",
    "## Time to wait for a kernel to terminate before killing it, in seconds.\n",
    "#c.KernelManager.shutdown_wait_time = 5.0\n",
    "\n",
    "#------------------------------------------------------------------------------\n",
    "# Session(Configurable) configuration\n",
    "#------------------------------------------------------------------------------\n",
    "\n",
    "## Object for handling serialization and sending of messages.\n",
    "#  \n",
    "#  The Session object handles building messages and sending them with ZMQ sockets\n",
    "#  or ZMQStream objects.  Objects can communicate with each other over the\n",
    "#  network via Session objects, and only need to work with the dict-based IPython\n",
    "#  message spec. The Session will handle serialization/deserialization, security,\n",
    "#  and metadata.\n",
    "#  \n",
    "#  Sessions support configurable serialization via packer/unpacker traits, and\n",
    "#  signing with HMAC digests via the key/keyfile traits.\n",
    "#  \n",
    "#  Parameters ----------\n",
    "#  \n",
    "#  debug : bool\n",
    "#      whether to trigger extra debugging statements\n",
    "#  packer/unpacker : str : 'json', 'pickle' or import_string\n",
    "#      importstrings for methods to serialize message parts.  If just\n",
    "#      'json' or 'pickle', predefined JSON and pickle packers will be used.\n",
    "#      Otherwise, the entire importstring must be used.\n",
    "#  \n",
    "#      The functions must accept at least valid JSON input, and output *bytes*.\n",
    "#  \n",
    "#      For example, to use msgpack:\n",
    "#      packer = 'msgpack.packb', unpacker='msgpack.unpackb'\n",
    "#  pack/unpack : callables\n",
    "#      You can also set the pack/unpack callables for serialization directly.\n",
    "#  session : bytes\n",
    "#      the ID of this Session object.  The default is to generate a new UUID.\n",
    "#  username : unicode\n",
    "#      username added to message headers.  The default is to ask the OS.\n",
    "#  key : bytes\n",
    "#      The key used to initialize an HMAC signature.  If unset, messages\n",
    "#      will not be signed or checked.\n",
    "#  keyfile : filepath\n",
    "#      The file containing a key.  If this is set, `key` will be initialized\n",
    "#      to the contents of the file.\n",
    "\n",
    "## Threshold (in bytes) beyond which an object's buffer should be extracted to\n",
    "#  avoid pickling.\n",
    "#c.Session.buffer_threshold = 1024\n",
    "\n",
    "## Whether to check PID to protect against calls after fork.\n",
    "#  \n",
    "#  This check can be disabled if fork-safety is handled elsewhere.\n",
    "#c.Session.check_pid = True\n",
    "\n",
    "## Threshold (in bytes) beyond which a buffer should be sent without copying.\n",
    "#c.Session.copy_threshold = 65536\n",
    "\n",
    "## Debug output in the Session\n",
    "#c.Session.debug = False\n",
    "\n",
    "## The maximum number of digests to remember.\n",
    "#  \n",
    "#  The digest history will be culled when it exceeds this value.\n",
    "#c.Session.digest_history_size = 65536\n",
    "\n",
    "## The maximum number of items for a container to be introspected for custom\n",
    "#  serialization. Containers larger than this are pickled outright.\n",
    "#c.Session.item_threshold = 64\n",
    "\n",
    "## execution key, for signing messages.\n",
    "#c.Session.key = b''\n",
    "\n",
    "## path to file containing execution key.\n",
    "#c.Session.keyfile = ''\n",
    "\n",
    "## Metadata dictionary, which serves as the default top-level metadata dict for\n",
    "#  each message.\n",
    "#c.Session.metadata = {}\n",
    "\n",
    "## The name of the packer for serializing messages. Should be one of 'json',\n",
    "#  'pickle', or an import name for a custom callable serializer.\n",
    "#c.Session.packer = 'json'\n",
    "\n",
    "## The UUID identifying this session.\n",
    "#c.Session.session = ''\n",
    "\n",
    "## The digest scheme used to construct the message signatures. Must have the form\n",
    "#  'hmac-HASH'.\n",
    "#c.Session.signature_scheme = 'hmac-sha256'\n",
    "\n",
    "## The name of the unpacker for unserializing messages. Only used with custom\n",
    "#  functions for `packer`.\n",
    "#c.Session.unpacker = 'json'\n",
    "\n",
    "## Username for the Session. Default is your system username.\n",
    "#c.Session.username = 'nielsond'\n",
    "\n",
    "#------------------------------------------------------------------------------\n",
    "# MultiKernelManager(LoggingConfigurable) configuration\n",
    "#------------------------------------------------------------------------------\n",
    "\n",
    "## A class for managing multiple kernels.\n",
    "\n",
    "## The name of the default kernel to start\n",
    "#c.MultiKernelManager.default_kernel_name = 'python3'\n",
    "\n",
    "## The kernel manager class.  This is configurable to allow subclassing of the\n",
    "#  KernelManager for customized behavior.\n",
    "#c.MultiKernelManager.kernel_manager_class = 'jupyter_client.ioloop.IOLoopKernelManager'\n",
    "\n",
    "#------------------------------------------------------------------------------\n",
    "# MappingKernelManager(MultiKernelManager) configuration\n",
    "#------------------------------------------------------------------------------\n",
    "\n",
    "## A KernelManager that handles notebook mapping and HTTP error handling\n",
    "\n",
    "## \n",
    "#c.MappingKernelManager.root_dir = ''\n",
    "\n",
    "#------------------------------------------------------------------------------\n",
    "# ContentsManager(LoggingConfigurable) configuration\n",
    "#------------------------------------------------------------------------------\n",
    "\n",
    "## Base class for serving files and directories.\n",
    "#  \n",
    "#  This serves any text or binary file, as well as directories, with special\n",
    "#  handling for JSON notebook documents.\n",
    "#  \n",
    "#  Most APIs take a path argument, which is always an API-style unicode path, and\n",
    "#  always refers to a directory.\n",
    "#  \n",
    "#  - unicode, not url-escaped\n",
    "#  - '/'-separated\n",
    "#  - leading and trailing '/' will be stripped\n",
    "#  - if unspecified, path defaults to '',\n",
    "#    indicating the root path.\n",
    "\n",
    "## \n",
    "#c.ContentsManager.checkpoints = None\n",
    "\n",
    "## \n",
    "#c.ContentsManager.checkpoints_class = 'notebook.services.contents.checkpoints.Checkpoints'\n",
    "\n",
    "## \n",
    "#c.ContentsManager.checkpoints_kwargs = {}\n",
    "\n",
    "## Glob patterns to hide in file and directory listings.\n",
    "#c.ContentsManager.hide_globs = ['__pycache__', '*.pyc', '*.pyo', '.DS_Store', '*.so', '*.dylib', '*~']\n",
    "\n",
    "## Python callable or importstring thereof\n",
    "#  \n",
    "#  To be called on a contents model prior to save.\n",
    "#  \n",
    "#  This can be used to process the structure, such as removing notebook outputs\n",
    "#  or other side effects that should not be saved.\n",
    "#  \n",
    "#  It will be called as (all arguments passed by keyword)::\n",
    "#  \n",
    "#      hook(path=path, model=model, contents_manager=self)\n",
    "#  \n",
    "#  - model: the model to be saved. Includes file contents.\n",
    "#    Modifying this dict will affect the file that is stored.\n",
    "#  - path: the API path of the save destination\n",
    "#  - contents_manager: this ContentsManager instance\n",
    "#c.ContentsManager.pre_save_hook = None\n",
    "\n",
    "## \n",
    "#c.ContentsManager.root_dir = '/'\n",
    "\n",
    "## The base name used when creating untitled directories.\n",
    "#c.ContentsManager.untitled_directory = 'Untitled Folder'\n",
    "\n",
    "## The base name used when creating untitled files.\n",
    "#c.ContentsManager.untitled_file = 'untitled'\n",
    "\n",
    "## The base name used when creating untitled notebooks.\n",
    "#c.ContentsManager.untitled_notebook = 'Untitled'\n",
    "\n",
    "#------------------------------------------------------------------------------\n",
    "# FileManagerMixin(Configurable) configuration\n",
    "#------------------------------------------------------------------------------\n",
    "\n",
    "## Mixin for ContentsAPI classes that interact with the filesystem.\n",
    "#  \n",
    "#  Provides facilities for reading, writing, and copying both notebooks and\n",
    "#  generic files.\n",
    "#  \n",
    "#  Shared by FileContentsManager and FileCheckpoints.\n",
    "#  \n",
    "#  Note ---- Classes using this mixin must provide the following attributes:\n",
    "#  \n",
    "#  root_dir : unicode\n",
    "#      A directory against against which API-style paths are to be resolved.\n",
    "#  \n",
    "#  log : logging.Logger\n",
    "\n",
    "## By default notebooks are saved on disk on a temporary file and then if\n",
    "#  succefully written, it replaces the old ones. This procedure, namely\n",
    "#  'atomic_writing', causes some bugs on file system whitout operation order\n",
    "#  enforcement (like some networked fs). If set to False, the new notebook is\n",
    "#  written directly on the old one which could fail (eg: full filesystem or quota\n",
    "#  )\n",
    "#c.FileManagerMixin.use_atomic_writing = True\n",
    "\n",
    "#------------------------------------------------------------------------------\n",
    "# FileContentsManager(FileManagerMixin,ContentsManager) configuration\n",
    "#------------------------------------------------------------------------------\n",
    "\n",
    "## Python callable or importstring thereof\n",
    "#  \n",
    "#  to be called on the path of a file just saved.\n",
    "#  \n",
    "#  This can be used to process the file on disk, such as converting the notebook\n",
    "#  to a script or HTML via nbconvert.\n",
    "#  \n",
    "#  It will be called as (all arguments passed by keyword)::\n",
    "#  \n",
    "#      hook(os_path=os_path, model=model, contents_manager=instance)\n",
    "#  \n",
    "#  - path: the filesystem path to the file just written - model: the model\n",
    "#  representing the file - contents_manager: this ContentsManager instance\n",
    "#c.FileContentsManager.post_save_hook = None\n",
    "\n",
    "## \n",
    "#c.FileContentsManager.root_dir = ''\n",
    "\n",
    "## DEPRECATED, use post_save_hook. Will be removed in Notebook 5.0\n",
    "#c.FileContentsManager.save_script = False\n",
    "\n",
    "#------------------------------------------------------------------------------\n",
    "# NotebookNotary(LoggingConfigurable) configuration\n",
    "#------------------------------------------------------------------------------\n",
    "\n",
    "## A class for computing and verifying notebook signatures.\n",
    "\n",
    "## The hashing algorithm used to sign notebooks.\n",
    "#c.NotebookNotary.algorithm = 'sha256'\n",
    "\n",
    "## The sqlite file in which to store notebook signatures. By default, this will\n",
    "#  be in your Jupyter data directory. You can set it to ':memory:' to disable\n",
    "#  sqlite writing to the filesystem.\n",
    "#c.NotebookNotary.db_file = ''\n",
    "\n",
    "## The secret key with which notebooks are signed.\n",
    "#c.NotebookNotary.secret = b''\n",
    "\n",
    "## The file where the secret key is stored.\n",
    "#c.NotebookNotary.secret_file = ''\n",
    "\n",
    "## A callable returning the storage backend for notebook signatures. The default\n",
    "#  uses an SQLite database.\n",
    "#c.NotebookNotary.store_factory = traitlets.Undefined\n",
    "\n",
    "#------------------------------------------------------------------------------\n",
    "# KernelSpecManager(LoggingConfigurable) configuration\n",
    "#------------------------------------------------------------------------------\n",
    "\n",
    "## If there is no Python kernelspec registered and the IPython kernel is\n",
    "#  available, ensure it is added to the spec list.\n",
    "#c.KernelSpecManager.ensure_native_kernel = True\n",
    "\n",
    "## The kernel spec class.  This is configurable to allow subclassing of the\n",
    "#  KernelSpecManager for customized behavior.\n",
    "#c.KernelSpecManager.kernel_spec_class = 'jupyter_client.kernelspec.KernelSpec'\n",
    "\n",
    "## Whitelist of allowed kernel names.\n",
    "#  \n",
    "#  By default, all installed kernels are allowed.\n",
    "#c.KernelSpecManager.whitelist = set()"
   ]
  },
  {
   "cell_type": "code",
   "execution_count": null,
   "metadata": {
    "collapsed": true
   },
   "outputs": [],
   "source": [
    "\n",
    "\n",
    "%%writefile /Users/nielsond/.jupyter/jupyter_notebook_config.py\n",
    "# Configuration file for jupyter-notebook.\n",
    "\n",
    "#------------------------------------------------------------------------------\n",
    "# Application(SingletonConfigurable) configuration\n",
    "#------------------------------------------------------------------------------\n",
    "\n",
    "## This is an application.\n",
    "\n",
    "## The date format used by logging formatters for %(asctime)s\n",
    "#c.Application.log_datefmt = '%Y-%m-%d %H:%M:%S'\n",
    "\n",
    "## The Logging format template\n",
    "#c.Application.log_format = '[%(name)s]%(highlevel)s %(message)s'\n",
    "\n",
    "## Set the log level by value or name.\n",
    "#c.Application.log_level = 30\n",
    "\n",
    "#------------------------------------------------------------------------------\n",
    "# JupyterApp(Application) configuration\n",
    "#------------------------------------------------------------------------------\n",
    "\n",
    "## Base class for Jupyter applications\n",
    "\n",
    "## Answer yes to any prompts.\n",
    "#c.JupyterApp.answer_yes = False\n",
    "\n",
    "## Full path of a config file.\n",
    "#c.JupyterApp.config_file = ''\n",
    "\n",
    "## Specify a config file to load.\n",
    "#c.JupyterApp.config_file_name = ''\n",
    "\n",
    "## Generate default config file.\n",
    "#c.JupyterApp.generate_config = False\n",
    "\n",
    "#------------------------------------------------------------------------------\n",
    "# NotebookApp(JupyterApp) configuration\n",
    "#------------------------------------------------------------------------------\n",
    "\n",
    "## Set the Access-Control-Allow-Credentials: true header\n",
    "#c.NotebookApp.allow_credentials = False\n",
    "\n",
    "## Set the Access-Control-Allow-Origin header\n",
    "#  \n",
    "#  Use '*' to allow any origin to access your server.\n",
    "#  \n",
    "#  Takes precedence over allow_origin_pat.\n",
    "#c.NotebookApp.allow_origin = ''\n",
    "\n",
    "## Use a regular expression for the Access-Control-Allow-Origin header\n",
    "#  \n",
    "#  Requests from an origin matching the expression will get replies with:\n",
    "#  \n",
    "#      Access-Control-Allow-Origin: origin\n",
    "#  \n",
    "#  where `origin` is the origin of the request.\n",
    "#  \n",
    "#  Ignored if allow_origin is set.\n",
    "#c.NotebookApp.allow_origin_pat = ''\n",
    "\n",
    "## Whether to allow the user to run the notebook as root.\n",
    "#c.NotebookApp.allow_root = False\n",
    "\n",
    "## DEPRECATED use base_url\n",
    "#c.NotebookApp.base_project_url = '/'\n",
    "\n",
    "## The base URL for the notebook server.\n",
    "#  \n",
    "#  Leading and trailing slashes can be omitted, and will automatically be added.\n",
    "#c.NotebookApp.base_url = '/'\n",
    "\n",
    "## Specify what command to use to invoke a web browser when opening the notebook.\n",
    "#  If not specified, the default browser will be determined by the `webbrowser`\n",
    "#  standard library module, which allows setting of the BROWSER environment\n",
    "#  variable to override it.\n",
    "#c.NotebookApp.browser = ''\n",
    "\n",
    "## The full path to an SSL/TLS certificate file.\n",
    "#c.NotebookApp.certfile = ''\n",
    "\n",
    "## The full path to a certificate authority certificate for SSL/TLS client\n",
    "#  authentication.\n",
    "#c.NotebookApp.client_ca = ''\n",
    "\n",
    "## The config manager class to use\n",
    "#c.NotebookApp.config_manager_class = 'notebook.services.config.manager.ConfigManager'\n",
    "\n",
    "## The notebook manager class to use.\n",
    "#c.NotebookApp.contents_manager_class = 'notebook.services.contents.largefilemanager.LargeFileManager'\n",
    "\n",
    "## Extra keyword arguments to pass to `set_secure_cookie`. See tornado's\n",
    "#  set_secure_cookie docs for details.\n",
    "#c.NotebookApp.cookie_options = {}\n",
    "\n",
    "## The random bytes used to secure cookies. By default this is a new random\n",
    "#  number every time you start the Notebook. Set it to a value in a config file\n",
    "#  to enable logins to persist across server sessions.\n",
    "#  \n",
    "#  Note: Cookie secrets should be kept private, do not share config files with\n",
    "#  cookie_secret stored in plaintext (you can read the value from a file).\n",
    "#c.NotebookApp.cookie_secret = b''\n",
    "\n",
    "## The file where the cookie secret is stored.\n",
    "#c.NotebookApp.cookie_secret_file = ''\n",
    "\n",
    "## The default URL to redirect to from `/`\n",
    "#c.NotebookApp.default_url = '/tree'\n",
    "\n",
    "## Disable cross-site-request-forgery protection\n",
    "#  \n",
    "#  Jupyter notebook 4.3.1 introduces protection from cross-site request\n",
    "#  forgeries, requiring API requests to either:\n",
    "#  \n",
    "#  - originate from pages served by this server (validated with XSRF cookie and\n",
    "#  token), or - authenticate with a token\n",
    "#  \n",
    "#  Some anonymous compute resources still desire the ability to run code,\n",
    "#  completely without authentication. These services can disable all\n",
    "#  authentication and security checks, with the full knowledge of what that\n",
    "#  implies.\n",
    "#c.NotebookApp.disable_check_xsrf = False\n",
    "\n",
    "## Whether to enable MathJax for typesetting math/TeX\n",
    "#  \n",
    "#  MathJax is the javascript library Jupyter uses to render math/LaTeX. It is\n",
    "#  very large, so you may want to disable it if you have a slow internet\n",
    "#  connection, or for offline use of the notebook.\n",
    "#  \n",
    "#  When disabled, equations etc. will appear as their untransformed TeX source.\n",
    "#c.NotebookApp.enable_mathjax = True\n",
    "\n",
    "## extra paths to look for Javascript notebook extensions\n",
    "#c.NotebookApp.extra_nbextensions_path = []\n",
    "\n",
    "## Extra paths to search for serving static files.\n",
    "#  \n",
    "#  This allows adding javascript/css to be available from the notebook server\n",
    "#  machine, or overriding individual files in the IPython\n",
    "#c.NotebookApp.extra_static_paths = []\n",
    "\n",
    "## Extra paths to search for serving jinja templates.\n",
    "#  \n",
    "#  Can be used to override templates from notebook.templates.\n",
    "#c.NotebookApp.extra_template_paths = []\n",
    "\n",
    "## \n",
    "#c.NotebookApp.file_to_run = ''\n",
    "\n",
    "## Deprecated: Use minified JS file or not, mainly use during dev to avoid JS\n",
    "#  recompilation\n",
    "#c.NotebookApp.ignore_minified_js = False\n",
    "\n",
    "## (bytes/sec) Maximum rate at which messages can be sent on iopub before they\n",
    "#  are limited.\n",
    "#c.NotebookApp.iopub_data_rate_limit = 1000000\n",
    "\n",
    "## (msgs/sec) Maximum rate at which messages can be sent on iopub before they are\n",
    "#  limited.\n",
    "#c.NotebookApp.iopub_msg_rate_limit = 1000\n",
    "\n",
    "## The IP address the notebook server will listen on.\n",
    "#c.NotebookApp.ip = 'localhost'\n",
    "\n",
    "## Supply extra arguments that will be passed to Jinja environment.\n",
    "#c.NotebookApp.jinja_environment_options = {}\n",
    "\n",
    "## Extra variables to supply to jinja templates when rendering.\n",
    "#c.NotebookApp.jinja_template_vars = {}\n",
    "\n",
    "## The kernel manager class to use.\n",
    "#c.NotebookApp.kernel_manager_class = 'notebook.services.kernels.kernelmanager.MappingKernelManager'\n",
    "\n",
    "## The kernel spec manager class to use. Should be a subclass of\n",
    "#  `jupyter_client.kernelspec.KernelSpecManager`.\n",
    "#  \n",
    "#  The Api of KernelSpecManager is provisional and might change without warning\n",
    "#  between this version of Jupyter and the next stable one.\n",
    "#c.NotebookApp.kernel_spec_manager_class = 'jupyter_client.kernelspec.KernelSpecManager'\n",
    "\n",
    "## The full path to a private key file for usage with SSL/TLS.\n",
    "#c.NotebookApp.keyfile = ''\n",
    "\n",
    "## The login handler class to use.\n",
    "#c.NotebookApp.login_handler_class = 'notebook.auth.login.LoginHandler'\n",
    "\n",
    "## The logout handler class to use.\n",
    "#c.NotebookApp.logout_handler_class = 'notebook.auth.logout.LogoutHandler'\n",
    "\n",
    "## The MathJax.js configuration file that is to be used.\n",
    "#c.NotebookApp.mathjax_config = 'TeX-AMS-MML_HTMLorMML-full,Safe'\n",
    "\n",
    "## A custom url for MathJax.js. Should be in the form of a case-sensitive url to\n",
    "#  MathJax, for example:  /static/components/MathJax/MathJax.js\n",
    "#c.NotebookApp.mathjax_url = ''\n",
    "\n",
    "## Dict of Python modules to load as notebook server extensions.Entry values can\n",
    "#  be used to enable and disable the loading ofthe extensions. The extensions\n",
    "#  will be loaded in alphabetical order.\n",
    "#c.NotebookApp.nbserver_extensions = {}\n",
    "\n",
    "## The directory to use for notebooks and kernels.\n",
    "#c.NotebookApp.notebook_dir = ''\n",
    "\n",
    "## Whether to open in a browser after starting. The specific browser used is\n",
    "#  platform dependent and determined by the python standard library `webbrowser`\n",
    "#  module, unless it is overridden using the --browser (NotebookApp.browser)\n",
    "#  configuration option.\n",
    "#c.NotebookApp.open_browser = True\n",
    "\n",
    "## Hashed password to use for web authentication.\n",
    "#  \n",
    "#  To generate, type in a python/IPython shell:\n",
    "#  \n",
    "#    from notebook.auth import passwd; passwd()\n",
    "#  \n",
    "#  The string should be of the form type:salt:hashed-password.\n",
    "#c.NotebookApp.password = ''\n",
    "\n",
    "## Forces users to use a password for the Notebook server. This is useful in a\n",
    "#  multi user environment, for instance when everybody in the LAN can access each\n",
    "#  other's machine though ssh.\n",
    "#  \n",
    "#  In such a case, server the notebook server on localhost is not secure since\n",
    "#  any user can connect to the notebook server via ssh.\n",
    "#c.NotebookApp.password_required = False\n",
    "\n",
    "## The port the notebook server will listen on.\n",
    "#c.NotebookApp.port = 8888\n",
    "\n",
    "## The number of additional ports to try if the specified port is not available.\n",
    "#c.NotebookApp.port_retries = 50\n",
    "\n",
    "## DISABLED: use %pylab or %matplotlib in the notebook to enable matplotlib.\n",
    "#c.NotebookApp.pylab = 'disabled'\n",
    "\n",
    "## (sec) Time window used to  check the message and data rate limits.\n",
    "#c.NotebookApp.rate_limit_window = 3\n",
    "\n",
    "## Reraise exceptions encountered loading server extensions?\n",
    "#c.NotebookApp.reraise_server_extension_failures = False\n",
    "\n",
    "## DEPRECATED use the nbserver_extensions dict instead\n",
    "#c.NotebookApp.server_extensions = []\n",
    "\n",
    "## The session manager class to use.\n",
    "#c.NotebookApp.session_manager_class = 'notebook.services.sessions.sessionmanager.SessionManager'\n",
    "\n",
    "## Supply SSL options for the tornado HTTPServer. See the tornado docs for\n",
    "#  details.\n",
    "#c.NotebookApp.ssl_options = {}\n",
    "\n",
    "## Supply overrides for terminado. Currently only supports \"shell_command\".\n",
    "#c.NotebookApp.terminado_settings = {}\n",
    "\n",
    "## Token used for authenticating first-time connections to the server.\n",
    "#  \n",
    "#  When no password is enabled, the default is to generate a new, random token.\n",
    "#  \n",
    "#  Setting to an empty string disables authentication altogether, which is NOT\n",
    "#  RECOMMENDED.\n",
    "#c.NotebookApp.token = '<generated>'\n",
    "\n",
    "## Supply overrides for the tornado.web.Application that the Jupyter notebook\n",
    "#  uses.\n",
    "#c.NotebookApp.tornado_settings = {}\n",
    "\n",
    "## Whether to trust or not X-Scheme/X-Forwarded-Proto and X-Real-Ip/X-Forwarded-\n",
    "#  For headerssent by the upstream reverse proxy. Necessary if the proxy handles\n",
    "#  SSL\n",
    "#c.NotebookApp.trust_xheaders = False\n",
    "\n",
    "## DEPRECATED, use tornado_settings\n",
    "#c.NotebookApp.webapp_settings = {}\n",
    "\n",
    "## The base URL for websockets, if it differs from the HTTP server (hint: it\n",
    "#  almost certainly doesn't).\n",
    "#  \n",
    "#  Should be in the form of an HTTP origin: ws[s]://hostname[:port]\n",
    "#c.NotebookApp.websocket_url = ''\n",
    "\n",
    "#------------------------------------------------------------------------------\n",
    "# ConnectionFileMixin(LoggingConfigurable) configuration\n",
    "#------------------------------------------------------------------------------\n",
    "\n",
    "## Mixin for configurable classes that work with connection files\n",
    "\n",
    "## JSON file in which to store connection info [default: kernel-<pid>.json]\n",
    "#  \n",
    "#  This file will contain the IP, ports, and authentication key needed to connect\n",
    "#  clients to this kernel. By default, this file will be created in the security\n",
    "#  dir of the current profile, but can be specified by absolute path.\n",
    "#c.ConnectionFileMixin.connection_file = ''\n",
    "\n",
    "## set the control (ROUTER) port [default: random]\n",
    "#c.ConnectionFileMixin.control_port = 0\n",
    "\n",
    "## set the heartbeat port [default: random]\n",
    "#c.ConnectionFileMixin.hb_port = 0\n",
    "\n",
    "## set the iopub (PUB) port [default: random]\n",
    "#c.ConnectionFileMixin.iopub_port = 0\n",
    "\n",
    "## Set the kernel's IP address [default localhost]. If the IP address is\n",
    "#  something other than localhost, then Consoles on other machines will be able\n",
    "#  to connect to the Kernel, so be careful!\n",
    "#c.ConnectionFileMixin.ip = ''\n",
    "\n",
    "## set the shell (ROUTER) port [default: random]\n",
    "#c.ConnectionFileMixin.shell_port = 0\n",
    "\n",
    "## set the stdin (ROUTER) port [default: random]\n",
    "#c.ConnectionFileMixin.stdin_port = 0\n",
    "\n",
    "## \n",
    "#c.ConnectionFileMixin.transport = 'tcp'\n",
    "\n",
    "#------------------------------------------------------------------------------\n",
    "# KernelManager(ConnectionFileMixin) configuration\n",
    "#------------------------------------------------------------------------------\n",
    "\n",
    "## Manages a single kernel in a subprocess on this host.\n",
    "#  \n",
    "#  This version starts kernels with Popen.\n",
    "\n",
    "## Should we autorestart the kernel if it dies.\n",
    "#c.KernelManager.autorestart = True\n",
    "\n",
    "## DEPRECATED: Use kernel_name instead.\n",
    "#  \n",
    "#  The Popen Command to launch the kernel. Override this if you have a custom\n",
    "#  kernel. If kernel_cmd is specified in a configuration file, Jupyter does not\n",
    "#  pass any arguments to the kernel, because it cannot make any assumptions about\n",
    "#  the arguments that the kernel understands. In particular, this means that the\n",
    "#  kernel does not receive the option --debug if it given on the Jupyter command\n",
    "#  line.\n",
    "#c.KernelManager.kernel_cmd = []\n",
    "\n",
    "## Time to wait for a kernel to terminate before killing it, in seconds.\n",
    "#c.KernelManager.shutdown_wait_time = 5.0\n",
    "\n",
    "#------------------------------------------------------------------------------\n",
    "# Session(Configurable) configuration\n",
    "#------------------------------------------------------------------------------\n",
    "\n",
    "## Object for handling serialization and sending of messages.\n",
    "#  \n",
    "#  The Session object handles building messages and sending them with ZMQ sockets\n",
    "#  or ZMQStream objects.  Objects can communicate with each other over the\n",
    "#  network via Session objects, and only need to work with the dict-based IPython\n",
    "#  message spec. The Session will handle serialization/deserialization, security,\n",
    "#  and metadata.\n",
    "#  \n",
    "#  Sessions support configurable serialization via packer/unpacker traits, and\n",
    "#  signing with HMAC digests via the key/keyfile traits.\n",
    "#  \n",
    "#  Parameters ----------\n",
    "#  \n",
    "#  debug : bool\n",
    "#      whether to trigger extra debugging statements\n",
    "#  packer/unpacker : str : 'json', 'pickle' or import_string\n",
    "#      importstrings for methods to serialize message parts.  If just\n",
    "#      'json' or 'pickle', predefined JSON and pickle packers will be used.\n",
    "#      Otherwise, the entire importstring must be used.\n",
    "#  \n",
    "#      The functions must accept at least valid JSON input, and output *bytes*.\n",
    "#  \n",
    "#      For example, to use msgpack:\n",
    "#      packer = 'msgpack.packb', unpacker='msgpack.unpackb'\n",
    "#  pack/unpack : callables\n",
    "#      You can also set the pack/unpack callables for serialization directly.\n",
    "#  session : bytes\n",
    "#      the ID of this Session object.  The default is to generate a new UUID.\n",
    "#  username : unicode\n",
    "#      username added to message headers.  The default is to ask the OS.\n",
    "#  key : bytes\n",
    "#      The key used to initialize an HMAC signature.  If unset, messages\n",
    "#      will not be signed or checked.\n",
    "#  keyfile : filepath\n",
    "#      The file containing a key.  If this is set, `key` will be initialized\n",
    "#      to the contents of the file.\n",
    "\n",
    "## Threshold (in bytes) beyond which an object's buffer should be extracted to\n",
    "#  avoid pickling.\n",
    "#c.Session.buffer_threshold = 1024\n",
    "\n",
    "## Whether to check PID to protect against calls after fork.\n",
    "#  \n",
    "#  This check can be disabled if fork-safety is handled elsewhere.\n",
    "#c.Session.check_pid = True\n",
    "\n",
    "## Threshold (in bytes) beyond which a buffer should be sent without copying.\n",
    "#c.Session.copy_threshold = 65536\n",
    "\n",
    "## Debug output in the Session\n",
    "#c.Session.debug = False\n",
    "\n",
    "## The maximum number of digests to remember.\n",
    "#  \n",
    "#  The digest history will be culled when it exceeds this value.\n",
    "#c.Session.digest_history_size = 65536\n",
    "\n",
    "## The maximum number of items for a container to be introspected for custom\n",
    "#  serialization. Containers larger than this are pickled outright.\n",
    "#c.Session.item_threshold = 64\n",
    "\n",
    "## execution key, for signing messages.\n",
    "#c.Session.key = b''\n",
    "\n",
    "## path to file containing execution key.\n",
    "#c.Session.keyfile = ''\n",
    "\n",
    "## Metadata dictionary, which serves as the default top-level metadata dict for\n",
    "#  each message.\n",
    "#c.Session.metadata = {}\n",
    "\n",
    "## The name of the packer for serializing messages. Should be one of 'json',\n",
    "#  'pickle', or an import name for a custom callable serializer.\n",
    "#c.Session.packer = 'json'\n",
    "\n",
    "## The UUID identifying this session.\n",
    "#c.Session.session = ''\n",
    "\n",
    "## The digest scheme used to construct the message signatures. Must have the form\n",
    "#  'hmac-HASH'.\n",
    "#c.Session.signature_scheme = 'hmac-sha256'\n",
    "\n",
    "## The name of the unpacker for unserializing messages. Only used with custom\n",
    "#  functions for `packer`.\n",
    "#c.Session.unpacker = 'json'\n",
    "\n",
    "## Username for the Session. Default is your system username.\n",
    "#c.Session.username = 'nielsond'\n",
    "\n",
    "#------------------------------------------------------------------------------\n",
    "# MultiKernelManager(LoggingConfigurable) configuration\n",
    "#------------------------------------------------------------------------------\n",
    "\n",
    "## A class for managing multiple kernels.\n",
    "\n",
    "## The name of the default kernel to start\n",
    "#c.MultiKernelManager.default_kernel_name = 'python3'\n",
    "\n",
    "## The kernel manager class.  This is configurable to allow subclassing of the\n",
    "#  KernelManager for customized behavior.\n",
    "#c.MultiKernelManager.kernel_manager_class = 'jupyter_client.ioloop.IOLoopKernelManager'\n",
    "\n",
    "#------------------------------------------------------------------------------\n",
    "# MappingKernelManager(MultiKernelManager) configuration\n",
    "#------------------------------------------------------------------------------\n",
    "\n",
    "## A KernelManager that handles notebook mapping and HTTP error handling\n",
    "\n",
    "## \n",
    "#c.MappingKernelManager.root_dir = ''\n",
    "\n",
    "#------------------------------------------------------------------------------\n",
    "# ContentsManager(LoggingConfigurable) configuration\n",
    "#------------------------------------------------------------------------------\n",
    "\n",
    "## Base class for serving files and directories.\n",
    "#  \n",
    "#  This serves any text or binary file, as well as directories, with special\n",
    "#  handling for JSON notebook documents.\n",
    "#  \n",
    "#  Most APIs take a path argument, which is always an API-style unicode path, and\n",
    "#  always refers to a directory.\n",
    "#  \n",
    "#  - unicode, not url-escaped\n",
    "#  - '/'-separated\n",
    "#  - leading and trailing '/' will be stripped\n",
    "#  - if unspecified, path defaults to '',\n",
    "#    indicating the root path.\n",
    "\n",
    "## \n",
    "#c.ContentsManager.checkpoints = None\n",
    "\n",
    "## \n",
    "#c.ContentsManager.checkpoints_class = 'notebook.services.contents.checkpoints.Checkpoints'\n",
    "\n",
    "## \n",
    "#c.ContentsManager.checkpoints_kwargs = {}\n",
    "\n",
    "## Glob patterns to hide in file and directory listings.\n",
    "#c.ContentsManager.hide_globs = ['__pycache__', '*.pyc', '*.pyo', '.DS_Store', '*.so', '*.dylib', '*~']\n",
    "\n",
    "## Python callable or importstring thereof\n",
    "#  \n",
    "#  To be called on a contents model prior to save.\n",
    "#  \n",
    "#  This can be used to process the structure, such as removing notebook outputs\n",
    "#  or other side effects that should not be saved.\n",
    "#  \n",
    "#  It will be called as (all arguments passed by keyword)::\n",
    "#  \n",
    "#      hook(path=path, model=model, contents_manager=self)\n",
    "#  \n",
    "#  - model: the model to be saved. Includes file contents.\n",
    "#    Modifying this dict will affect the file that is stored.\n",
    "#  - path: the API path of the save destination\n",
    "#  - contents_manager: this ContentsManager instance\n",
    "#c.ContentsManager.pre_save_hook = None\n",
    "\n",
    "## \n",
    "#c.ContentsManager.root_dir = '/'\n",
    "\n",
    "## The base name used when creating untitled directories.\n",
    "#c.ContentsManager.untitled_directory = 'Untitled Folder'\n",
    "\n",
    "## The base name used when creating untitled files.\n",
    "#c.ContentsManager.untitled_file = 'untitled'\n",
    "\n",
    "## The base name used when creating untitled notebooks.\n",
    "#c.ContentsManager.untitled_notebook = 'Untitled'\n",
    "\n",
    "#------------------------------------------------------------------------------\n",
    "# FileManagerMixin(Configurable) configuration\n",
    "#------------------------------------------------------------------------------\n",
    "\n",
    "## Mixin for ContentsAPI classes that interact with the filesystem.\n",
    "#  \n",
    "#  Provides facilities for reading, writing, and copying both notebooks and\n",
    "#  generic files.\n",
    "#  \n",
    "#  Shared by FileContentsManager and FileCheckpoints.\n",
    "#  \n",
    "#  Note ---- Classes using this mixin must provide the following attributes:\n",
    "#  \n",
    "#  root_dir : unicode\n",
    "#      A directory against against which API-style paths are to be resolved.\n",
    "#  \n",
    "#  log : logging.Logger\n",
    "\n",
    "## By default notebooks are saved on disk on a temporary file and then if\n",
    "#  succefully written, it replaces the old ones. This procedure, namely\n",
    "#  'atomic_writing', causes some bugs on file system whitout operation order\n",
    "#  enforcement (like some networked fs). If set to False, the new notebook is\n",
    "#  written directly on the old one which could fail (eg: full filesystem or quota\n",
    "#  )\n",
    "#c.FileManagerMixin.use_atomic_writing = True\n",
    "\n",
    "#------------------------------------------------------------------------------\n",
    "# FileContentsManager(FileManagerMixin,ContentsManager) configuration\n",
    "#------------------------------------------------------------------------------\n",
    "\n",
    "## Python callable or importstring thereof\n",
    "#  \n",
    "#  to be called on the path of a file just saved.\n",
    "#  \n",
    "#  This can be used to process the file on disk, such as converting the notebook\n",
    "#  to a script or HTML via nbconvert.\n",
    "#  \n",
    "#  It will be called as (all arguments passed by keyword)::\n",
    "#  \n",
    "#      hook(os_path=os_path, model=model, contents_manager=instance)\n",
    "#  \n",
    "#  - path: the filesystem path to the file just written - model: the model\n",
    "#  representing the file - contents_manager: this ContentsManager instance\n",
    "#c.FileContentsManager.post_save_hook = None\n",
    "\n",
    "## \n",
    "#c.FileContentsManager.root_dir = ''\n",
    "\n",
    "## DEPRECATED, use post_save_hook. Will be removed in Notebook 5.0\n",
    "#c.FileContentsManager.save_script = False\n",
    "\n",
    "#------------------------------------------------------------------------------\n",
    "# NotebookNotary(LoggingConfigurable) configuration\n",
    "#------------------------------------------------------------------------------\n",
    "\n",
    "## A class for computing and verifying notebook signatures.\n",
    "\n",
    "## The hashing algorithm used to sign notebooks.\n",
    "#c.NotebookNotary.algorithm = 'sha256'\n",
    "\n",
    "## The sqlite file in which to store notebook signatures. By default, this will\n",
    "#  be in your Jupyter data directory. You can set it to ':memory:' to disable\n",
    "#  sqlite writing to the filesystem.\n",
    "#c.NotebookNotary.db_file = ''\n",
    "\n",
    "## The secret key with which notebooks are signed.\n",
    "#c.NotebookNotary.secret = b''\n",
    "\n",
    "## The file where the secret key is stored.\n",
    "#c.NotebookNotary.secret_file = ''\n",
    "\n",
    "## A callable returning the storage backend for notebook signatures. The default\n",
    "#  uses an SQLite database.\n",
    "#c.NotebookNotary.store_factory = traitlets.Undefined\n",
    "\n",
    "#------------------------------------------------------------------------------\n",
    "# KernelSpecManager(LoggingConfigurable) configuration\n",
    "#------------------------------------------------------------------------------\n",
    "\n",
    "## If there is no Python kernelspec registered and the IPython kernel is\n",
    "#  available, ensure it is added to the spec list.\n",
    "#c.KernelSpecManager.ensure_native_kernel = True\n",
    "\n",
    "## The kernel spec class.  This is configurable to allow subclassing of the\n",
    "#  KernelSpecManager for customized behavior.\n",
    "#c.KernelSpecManager.kernel_spec_class = 'jupyter_client.kernelspec.KernelSpec'\n",
    "\n",
    "## Whitelist of allowed kernel names.\n",
    "#  \n",
    "#  By default, all installed kernels are allowed.\n",
    "#c.KernelSpecManager.whitelist = set()\n"
   ]
  },
  {
   "cell_type": "code",
   "execution_count": null,
   "metadata": {
    "collapsed": true
   },
   "outputs": [],
   "source": []
  },
  {
   "cell_type": "markdown",
   "metadata": {},
   "source": [
    "\n",
    "\n",
    "\n",
    "### Widgets\n",
    "\n",
    "### Sharing notebooks\n",
    "  - github, Jupyter config changes\n",
    "  - binder\n",
    "  \n",
    "### Javascript slickness\n",
    "  - RISE\n",
    "  - \n",
    "\n",
    "### Extensions"
   ]
  }
 ],
 "metadata": {
  "kernelspec": {
   "display_name": "Python 3",
   "language": "python",
   "name": "python3"
  },
  "language_info": {
   "codemirror_mode": {
    "name": "ipython",
    "version": 3
   },
   "file_extension": ".py",
   "mimetype": "text/x-python",
   "name": "python",
   "nbconvert_exporter": "python",
   "pygments_lexer": "ipython3",
   "version": "3.6.2"
  },
  "toc": {
   "nav_menu": {
    "height": "297px",
    "width": "252px"
   },
   "number_sections": true,
   "sideBar": true,
   "skip_h1_title": false,
   "toc_cell": false,
   "toc_position": {},
   "toc_section_display": "block",
   "toc_window_display": false
  },
  "widgets": {
   "application/vnd.jupyter.widget-state+json": {
    "state": {},
    "version_major": 2,
    "version_minor": 0
   }
  }
 },
 "nbformat": 4,
 "nbformat_minor": 2
}
