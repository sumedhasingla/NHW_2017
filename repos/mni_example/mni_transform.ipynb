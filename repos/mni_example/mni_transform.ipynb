{
 "cells": [
  {
   "cell_type": "code",
   "execution_count": null,
   "metadata": {
    "collapsed": true
   },
   "outputs": [],
   "source": [
    "import numpy as np\n",
    "import requests\n",
    "import json\n",
    "\n",
    "service = 'http://api.brain-map.org/api/v2/data'\n",
    " \n",
    "def download_specimen(specimen_name):\n",
    "    \n",
    "    result = requests.get('%s/Specimen/query.json?criteria=[name$eq\\'%s\\']&include=alignment3d' % (service,specimen_name)).json()\n",
    "    specimen = result.pop('msg')[0]\n",
    "    x = specimen['alignment3d']\n",
    "    alignment_data = np.array([x['tvr_%02d' % ii] for ii in range(12)])\n",
    "    M1 = alignment_data[:9].reshape((3,3))\n",
    "    M2 = alignment_data[9:].reshape((3,1))\n",
    "    M3 = np.array([[0,0,0,1]])\n",
    "    specimen['alignment3d'] = np.vstack((np.hstack((M1, M2)), M3))\n",
    "\n",
    "    return specimen, result\n",
    "\n",
    "def get_mni_transform_matrix(specimen_name):\n",
    "    \n",
    "    specimen, result = download_specimen(specimen_name)\n",
    "    assert result['success'] == True\n",
    "\n",
    "    mni_transform_matrix = specimen['alignment3d']\n",
    "    assert mni_transform_matrix.shape == (4,4)\n",
    "\n",
    "    return mni_transform_matrix\n",
    "\n",
    "def to_mni(input_vals, M):\n",
    "    \n",
    "    assert input_vals.shape[0] == 3 \n",
    "\n",
    "    if input_vals.ndim == 1:\n",
    "        input_vals_pad = np.hstack((input_vals, np.array([1])))\n",
    "        return M.dot(input_vals_pad)[:3]\n",
    "        \n",
    "    elif input_vals.ndim == 2:\n",
    "        input_vals_pad = np.vstack((input_vals, np.ones((1,input_vals.shape[1]))))\n",
    "        return M.dot(input_vals_pad)[:3,:]\n",
    "\n",
    "    else:\n",
    "        raise RuntimeError('invalid input shape')"
   ]
  },
  {
   "cell_type": "code",
   "execution_count": null,
   "metadata": {
    "scrolled": true
   },
   "outputs": [],
   "source": [
    "specimen_name = 'H0351.2001'\n",
    "mni_transform_matrix = get_mni_transform_matrix(specimen_name)\n",
    "x = np.array([[74, 96, 29],[ 129, 78, 81], [94,102,26], [145,75,66]]).T\n",
    "to_mni(x, mni_transform_matrix)"
   ]
  },
  {
   "cell_type": "markdown",
   "metadata": {},
   "source": [
    "<div style=\"background: #DFF0D8; border-radius: 3px; padding: 10px;\">\n",
    "<p>**Exercise:** Construct an RMA query that will return the doner_id for a given specimen.\n",
    "<p>(Hint: Check out http://help.brain-map.org/pages/viewpage.action?pageId=5308449 and http://help.brain-map.org/display/humanbrain/API)\n",
    "</div>\n"
   ]
  }
 ],
 "metadata": {
  "kernelspec": {
   "display_name": "Python 3",
   "language": "python",
   "name": "python3"
  },
  "language_info": {
   "codemirror_mode": {
    "name": "ipython",
    "version": 3
   },
   "file_extension": ".py",
   "mimetype": "text/x-python",
   "name": "python",
   "nbconvert_exporter": "python",
   "pygments_lexer": "ipython3",
   "version": "3.5.3"
  }
 },
 "nbformat": 4,
 "nbformat_minor": 2
}
